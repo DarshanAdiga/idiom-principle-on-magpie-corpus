{
 "cells": [
  {
   "cell_type": "code",
   "execution_count": 1,
   "id": "86614537",
   "metadata": {},
   "outputs": [
    {
     "name": "stderr",
     "output_type": "stream",
     "text": [
      "[nltk_data] Downloading package stopwords to\n",
      "[nltk_data]     /home/darshan/nltk_data...\n",
      "[nltk_data]   Package stopwords is already up-to-date!\n"
     ]
    }
   ],
   "source": [
    "from transformers import AutoModelForMaskedLM, AutoModelForSequenceClassification\n",
    "from transformers import AutoTokenizer\n",
    "\n",
    "import pandas as pd\n",
    "import numpy as np\n",
    "import re\n",
    "import os\n",
    "import sys\n",
    "import shutil\n",
    "import json\n",
    "\n",
    "import string\n",
    "import nltk\n",
    "from nltk.corpus import stopwords\n",
    "nltk.download('stopwords')\n",
    "\n",
    "from collections import defaultdict"
   ]
  },
  {
   "cell_type": "code",
   "execution_count": 2,
   "id": "ad63ee67",
   "metadata": {},
   "outputs": [
    {
     "name": "stdout",
     "output_type": "stream",
     "text": [
      "Model path:../../local_models/bert-base-uncased_MaskedLM_STR_option1_3B1_pretrained\n"
     ]
    }
   ],
   "source": [
    "local_model_base_dir = '../../local_models/'\n",
    "# Location of the model with single-tokens\n",
    "model_name = 'bert-base-uncased_MaskedLM_STR_option1_3B1_pretrained'\n",
    "model_checkpoint_dir = local_model_base_dir + model_name\n",
    "print(f'Model path:{model_checkpoint_dir}')"
   ]
  },
  {
   "cell_type": "code",
   "execution_count": 3,
   "id": "f50f3208",
   "metadata": {},
   "outputs": [
    {
     "name": "stdout",
     "output_type": "stream",
     "text": [
      "{'PIE_list': ['IDoffthebeatentrackID', 'IDintherunningID', 'IDtakerootID', 'IDcleanhouseID', 'IDmakehistoryID', 'IDgoallthewayID', 'IDchapterandverseID', 'IDbreakthebankID', 'IDheadforthehillsID', 'IDinafogID', 'IDbringuptherearID', 'IDintheholeID', 'IDtruetoformID', 'IDontheballID', 'IDstakeaclaimID', 'IDupforgrabsID', 'IDupandrunningID', 'IDbehindbarsID', 'IDinmybookID', 'IDinblackandwhiteID', 'IDgoupinsmokeID', 'IDuptheriverID', 'IDmakeyourbloodboilID', 'IDrubshouldersID', 'IDgospareID', 'IDspotonID', 'IDnotcricketID', 'IDintheclubID', 'IDundertheweatherID', 'IDplaywithfireID', 'IDringabellID', 'IDputthebootinID', 'IDsmallbeerID', 'IDturnablindeyeID', 'IDintheblackID', 'IDonthenoseID', 'IDrankandfileID', 'IDpointthefingerID', 'IDoffandonID', 'IDgototownID', 'IDoneofthosethingsID', 'IDkeepthepeaceID', 'IDbydintofID', 'IDmakelightofID', 'IDoutofkilterID', 'IDgettogripswithID', 'IDpresenceofmindID', 'IDoverthehillID', 'IDgrindtoahaltID', 'IDcutthecrapID', 'IDnolaughingmatterID', 'IDgreenlightID', 'IDbythesametokenID', 'IDtotheboneID', 'IDacrosstheboardID', 'IDdigdeepID', 'IDletbygonesbebygonesID', 'IDhaveaheartID', 'IDfollowsuitID', 'IDdishthedirtID', 'IDholdwaterID', 'IDcomeofageID', 'IDonthebuttonID', 'IDraisetheroofID', 'IDgetalifeID', 'IDdeadmeatID', 'IDbearinmindID', 'IDleftandrightID', 'IDfallshortID', 'IDseenbetterdaysID', 'IDfunandgamesID', 'IDwithawillID', 'IDoverthecounterID', 'IDpaintthetownredID', 'IDintheshortrunID', 'IDgetagripID', 'IDinfullswingID', 'IDunderfireID', 'IDholdcourtID', 'IDtakeadiveID', 'IDsignofthetimesID', 'IDontheskidsID', 'IDneckandneckID', 'IDoutofthequestionID', 'IDunderthemicroscopeID', 'IDattheendofthedayID', 'IDinthefleshID', 'IDlaydownthelawID', 'IDcometotermswithID', 'IDtosaytheleastID', 'IDwalkoflifeID', 'IDdoomandgloomID', 'IDonthesideoftheangelsID', 'IDputthewindupID', 'IDpushtheenvelopeID', 'IDcoginthemachineID', 'IDforgoodmeasureID', 'IDfromscratchID', 'IDslowburnID', 'IDwithaviewtoID', 'IDcatchfireID', 'IDinhotwaterID', 'IDkissoflifeID', 'IDonthemoneyID', 'IDthinktwiceID', 'IDontheropesID', 'IDpissandvinegarID', 'IDturnthecornerID', 'IDhardcheeseID', 'IDcrystalclearID', 'IDonthehouseID', 'IDinthelongtermID', 'IDunderthetableID', 'IDplayfortimeID', 'IDkeepalowprofileID', 'IDtellitlikeitisID', 'IDcutthemustardID', 'IDfallintoplaceID', 'IDalltherageID', 'IDroundtheclockID', 'IDcutcornersID', 'IDtouchandgoID', 'IDmakeendsmeetID', 'IDlielowID', 'IDquickasaflashID', 'IDgetthepictureID', 'IDoutoflineID', 'IDmanofgodID', 'IDjumpthegunID', 'IDcountsheepID', 'IDnothingtoitID', 'IDsingthepraisesofID', 'IDgetthenodID', 'IDatseaID', 'IDinlightofID', 'IDwateringholeID', 'IDcomecleanID', 'IDwithavengeanceID', 'IDcallitadayID', 'IDplaygamesID', 'IDdothetrickID', 'IDmeanbusinessID', 'IDpullafaceID', 'IDinthefinalanalysisID', 'IDonthehornID', 'IDrubsomeoneupthewrongwayID', 'IDontherocksID', 'IDknockitoffID', 'IDwritlargeID', 'IDonedgeID', 'IDatthecrossroadsID', 'IDdownandoutID', 'IDbythebookID', 'IDontheshelfID', 'IDinthelongrunID', 'IDgameonID', 'IDpissedoffID', 'IDbearfruitID', 'IDbeataboutthebushID', 'IDfoamatthemouthID', 'IDsitonthefenceID', 'IDonarollID', 'IDbehindcloseddoorsID', 'IDpleasedaspunchID', 'IDsavethedayID', 'IDcutnoiceID', 'IDnodiceID', 'IDfreereinID', 'IDcomeunstuckID', 'IDthickandfastID', 'IDonpaperID', 'IDinthedrivingseatID', 'IDgetlostID', 'IDcatchacoldID', 'IDoverthemoonID', 'IDgowithoutsayingID', 'IDgetstuckinID', 'IDscreambluemurderID', 'IDmakethecutID', 'IDinthecanID', 'IDtakeitfrommeID', 'IDmakeasplashID', 'IDpeckingorderID', 'IDfallbythewaysideID', 'IDmakethegradeID', 'IDtothetuneofID', 'IDhittherightnoteID', 'IDspringtomindID', 'IDcarrotandstickID', 'IDonthecarpetID', 'IDbelowparID', 'IDonthespurofthemomentID', 'IDonthefaceofitID', 'IDpickupthetabID', 'IDaroundtheclockID', 'IDeconomicalwiththetruthID', 'IDsteponitID', 'IDbuytimeID', 'IDputpaidtoID', 'IDthegrassisalwaysgreenerID', 'IDtothehiltID', 'IDonthegameID', 'IDhotairID', 'IDonboardID', 'IDloseheartID', 'IDwalkfreeID', 'IDchangeyourtuneID', 'IDjumpthroughhoopsID', 'IDouttolunchID', 'IDfromragstorichesID', 'IDinnouncertaintermsID', 'IDhearthingsID', 'IDonthebackofID', 'IDtwisttheknifeID', 'IDonceinawhileID', 'IDallalongID', 'IDblowhotandcoldID', 'IDaheadofthegameID', 'IDgotothewallID', 'IDsleeproughID', 'IDgothroughthemotionsID', 'IDoneandthesameID', 'IDoilandwaterID', 'IDforkeepsID', 'IDpureandsimpleID', 'IDroundthebendID', 'IDnewbloodID', 'IDyesandnoID', 'IDreadbetweenthelinesID', 'IDgetamoveonID', 'IDsteerclearofID', 'IDbreaknewgroundID', 'IDonceandforallID', 'IDasaruleID', 'IDofftheshelfID', 'IDdyedinthewoolID', 'IDmanandboyID', 'IDpullstringsID', 'IDchewthefatID', 'IDoveryourheadID', 'IDforthetimebeingID', 'IDlicencetoprintmoneyID', 'IDwaterunderthebridgeID', 'IDtakeadimviewofID', 'IDmakeamoveID', 'IDforasongID', 'IDhandsdownID', 'IDhitthebottleID', 'IDinthedockID', 'IDoffthewallID', 'IDmeatandpotatoesID', 'IDgooverboardID', 'IDjumptoconclusionsID', 'IDinthebuffID', 'IDintheclearID', 'IDinstitchesID', 'IDstateoftheartID', 'IDintheoffingID', 'IDallovertheplaceID', 'IDworkwondersID', 'IDsickandtiredID', 'IDjointheclubID', 'IDlayaneggID', 'IDtitfortatID', 'IDwetbehindtheearsID', 'IDgohandinhandID', 'IDdressedtokillID', 'IDoffthemarkID', 'IDcometomindID', 'IDseteyesonID', 'IDsinkorswimID', 'IDoutoforderID', 'IDshowalegID', 'IDplayhardtogetID', 'IDdonkeyworkID', 'IDgopublicID', 'IDtakestockID', 'IDoldhatID', 'IDyoungbloodID', 'IDoutandaboutID', 'IDinanutshellID', 'IDunderacloudID', 'IDblazeatrailID', 'IDuptonogoodID', 'IDopenthefloodgatesID', 'IDscratchthesurfaceID', 'IDrunamokID', 'IDrisetotheoccasionID', 'IDundertheinfluenceID', 'IDtakeheartID', 'IDseestarsID', 'IDatalooseendID', 'IDaboveparID', 'IDtakethepissID', 'IDonthewarpathID', 'IDhavekittensID', 'IDcometothinkofitID', 'IDsonganddanceID', 'IDgoitaloneID', 'IDsecondnatureID', 'IDblackandblueID', 'IDatastretchID', 'IDtriedandtrueID', 'IDonthemendID', 'IDtoallintentsandpurposesID', 'IDcrossswordsID', 'IDbegthequestionID', 'IDrunamileID', 'IDgostraightID', 'IDagainstthegrainID', 'IDinthebagID', 'IDfreeandeasyID', 'IDoutcoldID', 'IDbitethebulletID', 'IDrideroughshodoverID', 'IDinspadesID', 'IDgettothebottomofID', 'IDdowninthemouthID', 'IDgetstuckintoID', 'IDhairofthedogID', 'IDshortshriftID', 'IDclosecallID', 'IDworktoruleID', 'IDsweetnessandlightID', 'IDturnheadsID', 'IDbacktosquareoneID', 'IDkillthegoosethatlaysthegoldeneggID', 'IDcalltheshotsID', 'IDoffthehookID', 'IDonthesquareID', 'IDthickasthievesID', 'IDwordofmouthID', 'IDfallondeafearsID', 'IDcutbothwaysID', 'IDoutofthewoodsID', 'IDbyhookorbycrookID', 'IDrockbottomID', 'IDofftherecordID', 'IDoutofpocketID', 'IDgofromstrengthtostrengthID', 'IDinthisdayandageID', 'IDeatlikeahorseID', 'IDatcrosspurposesID', 'IDintheredID', 'IDtotheletterID', 'IDintandemID', 'IDfighttoothandnailID', 'IDupintheairID', 'IDwipethefloorwithID', 'IDroughedgesID', 'IDoneofthosedaysID', 'IDbitethedustID', 'IDcometogripswithID', 'IDpieintheskyID', 'IDlayeyesonID', 'IDdoanumberonID', 'IDpulloutallthestopsID', 'IDatapinchID', 'IDlameduckID', 'IDinbroaddaylightID', 'IDinbedwithID', 'IDgobananasID', 'IDoutoftheboxID', 'IDfromthewordgoID', 'IDwinthedayID', 'IDhaveaballID', 'IDcastyourmindbackID', 'IDonthecardsID', 'IDkeepalidonID', 'IDbiteyourtongueID', 'IDfacetofaceID', 'IDboyswillbeboysID', 'IDtoaturnID', 'IDfewandfarbetweenID', 'IDheadsouthID', 'IDkickthehabitID', 'IDdrawablankID', 'IDfarandawayID', 'IDgothedistanceID', 'IDkeepupappearancesID', 'IDsweeptheboardID', 'IDsettleascoreID', 'IDjumponthebandwagonID', 'IDinthesaddleID', 'IDstrokeofluckID', 'IDblowafuseID', 'IDallhellbrokelooseID', 'IDcarrythedayID', 'IDonthelevelID', 'IDunderthesunID', 'IDbreakevenID', 'IDonthetrotID', 'IDclaimtofameID', 'IDoutofsightID', 'IDheadoverheelsID', 'IDplayballID', 'IDgetthebetterofID', 'IDbrowniepointID', 'IDhighasakiteID', 'IDmakeheadortailofID', 'IDoverthetopID', 'IDtakeapowderID', 'IDtobootID', 'IDasluckwouldhaveitID', 'IDsavefaceID', 'IDgatherdustID', 'IDhavewordsID', 'IDdotherightthingID', 'IDkickupastinkID', 'IDerronthesideofID', 'IDfairandsquareID', 'IDhavebeenaroundID', 'IDtongueincheekID', 'IDhittheheadlinesID', 'IDninetimesoutoftenID', 'IDyourguessisasgoodasmineID', 'IDbythebackdoorID', 'IDbyandlargeID', 'IDstickyourneckoutID', 'IDspinayarnID', 'IDoutoftherunningID', 'IDhavethelastlaughID', 'IDbreaktheiceID', 'IDcomefullcircleID', 'IDlookthepartID', 'IDinthesamebreathID', 'IDforbiddenfruitID', 'IDtoethelineID', 'IDbringthehousedownID', 'IDheadswillrollID', 'IDdownatheelID', 'IDwaytogoID', 'IDgobytheboardID', 'IDstopatnothingID', 'IDfirstoffID', 'IDfeelthepinchID', 'IDtakeabackseatID', 'IDgraspthenettleID', 'IDsetthewheelsinmotionID', 'IDbasketcaseID', 'IDrunriotID', 'IDmakeakillingID', 'IDfootthebillID', 'IDmakehayID', 'IDpourcoldwateronID', 'IDmakeagoofID', 'IDbreakthebackofID', 'IDontheflyID', 'IDneitherherenorthereID', 'IDbyheartID', 'IDbleedingheartID', 'IDsmallprintID', 'IDclutchatstrawsID', 'IDruleofthumbID', 'IDwalktheplankID', 'IDdogeatdogID', 'IDdropahintID', 'IDprodigalsonID', 'IDdowntheroadID', 'IDallwetID', 'IDhithomeID', 'IDforthehellofitID', 'IDwithknobsonID', 'IDneversaydieID', 'IDhaveiteasyID', 'IDtalkshopID', 'IDhittheroadID', 'IDcutandthrustID', 'IDfulltiltID', 'IDspillthebeansID', 'IDdownthedrainID', 'IDdroptheballID', 'IDworklikeacharmID', 'IDbehindthescenesID', 'IDroughandtumbleID', 'IDintheworksID', 'IDcometoaheadID', 'IDlivealieID', 'IDoffthecuffID', 'IDholdthepursestringsID', 'IDhitthejackpotID', 'IDtakelibertiesID', 'IDhighanddryID', 'IDfairgameID', 'IDcutlooseID', 'IDcosttheearthID', 'IDhandingloveID', 'IDintheloopID', 'IDsavedbythebellID', 'IDhopeagainsthopeID', 'IDoniceID', 'IDinthepipelineID', 'IDputafootwrongID', 'IDridehighID', 'IDknownoboundsID', 'IDheartofgoldID', 'IDfitasafiddleID', 'IDmakeorbreakID', 'IDfullofbeansID', 'IDgraspatstrawsID', 'IDchuckitdownID', 'IDgetwindofID', 'IDkickassID', 'IDoldasthehillsID', 'IDfullmarksID', 'IDthatmakestwoofusID', 'IDasthecrowfliesID', 'IDholdthefortID', 'IDstrikewhiletheironishotID', 'IDrocktheboatID', 'IDtakeabathID', 'IDcomeuptrumpsID', 'IDoutofsortsID', 'IDflashinthepanID', 'IDlaughingstockID', 'IDrisefromtheashesID', 'IDloseyourheadID', 'IDpickupthepiecesID', 'IDmakewavesID', 'IDseeredID', 'IDpaythroughthenoseID', 'IDbornandbredID', 'IDboysinblueID', 'IDnoworneverID', 'IDmendfencesID', 'IDhomeanddryID', 'IDhaveascrewlooseID', 'IDthedieiscastID', 'IDgetawaywithmurderID', 'IDclosetohomeID', 'IDgodownhillID', 'IDsleightofhandID', 'IDgetoffthegroundID', 'IDcallthetuneID', 'IDfromthecradletothegraveID', 'IDpullrankID', 'IDtakethebullbythehornsID', 'IDfallfromgraceID', 'IDlifeandlimbID', 'IDnosweatID', 'IDbreakranksID', 'IDonyourtoesID', 'IDtakethemickeyID', 'IDunderthewireID', 'IDoddoneoutID', 'IDbemyguestID', 'IDdownthetubesID', 'IDonthetakeID', 'IDholdyourhorsesID', 'IDtelltalesID', 'IDgodownastormID', 'IDatthedropofahatID', 'IDfirstamongequalsID', 'IDonefortheroadID', 'IDturnthescrewID', 'IDgrinandbearitID', 'IDkeepmumID', 'IDtakenoprisonersID', 'IDindutchID', 'IDontherunID', 'IDonthestumpID', 'IDcutadashID', 'IDspititoutID', 'IDplainsailingID', 'IDslipthroughthenetID', 'IDletyourhairdownID', 'IDneckofthewoodsID', 'IDfitthebillID', 'IDputasockinitID', 'IDcometogriefID', 'IDhaveafewID', 'IDwhenpushcomestoshoveID', 'IDkissassID', 'IDinyourbloodID', 'IDcoldfeetID', 'IDgetitupID', 'IDbighitterID', 'IDhotunderthecollarID', 'IDinbusinessID', 'IDseethelightID', 'IDhitandmissID', 'IDsaycheeseID', 'IDpassthebuckID', 'IDformymoneyID', 'IDinthesoupID', 'IDatyourfingertipsID', 'IDlendahandID', 'IDarguethetossID', 'IDcomeoutinthewashID', 'IDonthehoofID', 'IDsittightID', 'IDthemorethemerrierID', 'IDonthehopID', 'IDbabeinarmsID', 'IDcatchthesunID', 'IDcallaspadeaspadeID', 'IDmisstheboatID', 'IDtimewilltellID', 'IDuptoscratchID', 'IDlightattheendofthetunnelID', 'IDweakatthekneesID', 'IDeasiersaidthandoneID', 'IDstickoutlikeasorethumbID', 'IDbetweenthedevilandthedeepblueseaID', 'IDpowerbehindthethroneID', 'IDonthesamepageID', 'IDinoneearandouttheotherID', 'IDstrikeachordID', 'IDkeepyourfingerscrossedID', 'IDasgoodasnewID', 'IDgiveandtakeID', 'IDkeeptabsonID', 'IDbangforthebuckID', 'IDatalossforwordsID', 'IDkissandtellID', 'IDflyoffthehandleID', 'IDonashoestringID', 'IDrunoutofsteamID', 'IDlargerthanlifeID', 'IDhaveitbothwaysID', 'IDnotwowaysaboutitID', 'IDcloseshaveID', 'IDjockeyforpositionID', 'IDhaveacowID', 'IDoutofthepictureID', 'IDonthiniceID', 'IDplaceinthesunID', 'IDindiansummerID', 'IDspeakvolumesID', 'IDturnthetablesID', 'IDtakethecakeID', 'IDtreadtheboardsID', 'IDtakeitorleaveitID', 'IDtillthecowscomehomeID', 'IDhaveaneyeforID', 'IDwithbatedbreathID', 'IDandthensomeID', 'IDnightanddayID', 'IDgowestID', 'IDlendanearID', 'IDincoldbloodID', 'IDgiveuptheghostID', 'IDheartandsoulID', 'IDoncloudnineID', 'IDrunoutofgasID', 'IDoutonalimbID', 'IDtakethebiscuitID', 'IDchickenfeedID', 'IDgetinonthegroundfloorID', 'IDpumpironID', 'IDinthesticksID', 'IDtakeabowID', 'IDmybadID', 'IDfacethemusicID', 'IDwalkalloverID', 'IDtaketothehillsID', 'IDdicewithdeathID', 'IDlosefaceID', 'IDtheplotthickensID', 'IDweatherthestormID', 'IDonthenodID', 'IDbreakcoverID', 'IDhandtomouthID', 'IDinthepinkID', 'IDknowthescoreID', 'IDturntailID', 'IDgonativeID', 'IDkilltwobirdswithonestoneID', 'IDgristtothemillID', 'IDdeadinthewaterID', 'IDmarchingordersID', 'IDsleeplikealogID', 'IDslipofthetongueID', 'IDjobsfortheboysID', 'IDoutoftheloopID', 'IDunderlockandkeyID', 'IDtownandgownID', 'IDkeepthewolffromthedoorID', 'IDhitthenailontheheadID', 'IDbloodisthickerthanwaterID', 'IDtietheknotID', 'IDpaperoverthecracksID', 'IDupatreeID', 'IDthinktheworldofID', 'IDlonewolfID', 'IDeathumblepieID', 'IDtodieforID', 'IDsweatbloodID', 'IDonthedotID', 'IDbynostretchoftheimaginationID', 'IDonandoffID', 'IDliketheclappersID', 'IDforafricaID', 'IDholdyourtongueID', 'IDstandupandbecountedID', 'IDbrassneckID', 'IDwithoutfailID', 'IDlookonthebrightsideID', 'IDcutitfineID', 'IDrunthegauntletID', 'IDreachforthestarsID', 'IDraisehellID', 'IDwhenthechipsaredownID', 'IDcomehellorhighwaterID', 'IDontopoftheworldID', 'IDtakethefloorID', 'IDplayitsafeID', 'IDcallitquitsID', 'IDcapinhandID', 'IDarmedtotheteethID', 'IDbiteoffmorethanyoucanchewID', 'IDthrowinthetowelID', 'IDdomeafavourID', 'IDupagainstitID', 'IDcheekbyjowlID', 'IDnamenamesID', 'IDlockhornsID', 'IDdeadandburiedID', 'IDpackapunchID', 'IDhavenotruckwithID', 'IDbowandscrapeID', 'IDthrowdownthegauntletID', 'IDkeepyourchinupID', 'IDnogreatshakesID', 'IDseethelightofdayID', 'IDgoodriddanceID', 'IDmakeamountainoutofamolehillID', 'IDwartsandallID', 'IDcouchpotatoID', 'IDonthesamewavelengthID', 'IDgoofftheboilID', 'IDleavenostoneunturnedID', 'IDatsixesandsevensID', 'IDcountyourblessingsID', 'IDputadamperonID', 'IDbarnoneID', 'IDshutthedooronID', 'IDincahootsID', 'IDkissofdeathID', 'IDliftafingerID', 'IDonthereboundID', 'IDsadsackID', 'IDthrowcoldwateronID', 'IDonthewagonID', 'IDflyakiteID', 'IDaboveboardID', 'IDupthespoutID', 'IDdowninthedumpsID', 'IDallovertheshopID', 'IDboxcleverID', 'IDoutofthinairID', 'IDgotogroundID', 'IDmakeacleanbreakID', 'IDsourgrapesID', 'IDpoundthepavementID', 'IDbuythefarmID', 'IDwhenallissaidanddoneID', 'IDhitthemarkID', 'IDwithopenarmsID', 'IDontenterhooksID', 'IDmovemountainsID', 'IDkeenasmustardID', 'IDdeadwoodID', 'IDbacktothedrawingboardID', 'IDplayfastandlooseID', 'IDtakethefallID', 'IDthrowacurveID', 'IDlikeclockworkID', 'IDcockofthewalkID', 'IDdrawtheshortstrawID', 'IDmakeshortworkofID', 'IDnocandoID', 'IDfindyourfeetID', 'IDonthebackburnerID', 'IDjumpshipID', 'IDpullarabbitoutofahatID', 'IDsmartalecID', 'IDinarutID', 'IDshrinkingvioletID', 'IDperishthethoughtID', 'IDgounderthehammerID', 'IDwipetheslatecleanID', 'IDfirstupID', 'IDlaughallthewaytothebankID', 'IDandallthatjazzID', 'IDallthingsbeingequalID', 'IDchopandchangeID', 'IDgoballisticID', 'IDhaveafootinbothcampsID', 'IDtrueblueID', 'IDgowiththeflowID', 'IDgoodofficesID', 'IDnudgenudgewinkwinkID', 'IDswimagainstthetideID', 'IDgoforbrokeID', 'IDsetyoursightsonID', 'IDdothehonoursID', 'IDletsleepingdogslieID', 'IDdressedtotheninesID', 'IDflatasapancakeID', 'IDliveitupID', 'IDgiveitawhirlID', 'IDbeltandbracesID', 'IDwhitehatID', 'IDseeeyetoeyeID', 'IDbuggerallID', 'IDatloggerheadsID', 'IDspitbloodID', 'IDslaponthewristID', 'IDcuriositykilledthecatID', 'IDupsticksID', 'IDfightfirewithfireID', 'IDholdtheringID', 'IDfillthebillID', 'IDchickenscomehometoroostID', 'IDmakeamealofID', 'IDpulltheplugID', 'IDputyourbestfootforwardID', 'IDrunthegamutID', 'IDwitheronthevineID', 'IDbeyondthepaleID', 'IDruletheroostID', 'IDliveinsinID', 'IDunderyourbreathID', 'IDlayafingeronID', 'IDsicktodeathID', 'IDgoroundincirclesID', 'IDjumpthequeueID', 'IDrightasrainID', 'IDsecondchildhoodID', 'IDstealtheshowID', 'IDdowntothewireID', 'IDbeattheclockID', 'IDgetitintheneckID', 'IDinthenickoftimeID', 'IDfastandfuriousID', 'IDputyourfootdownID', 'IDkeepyouroptionsopenID', 'IDliveandletliveID', 'IDcryfoulID', 'IDgetthebootID', 'IDholdthelineID', 'IDplainasapikestaffID', 'IDmoveheavenandearthID', 'IDlandofnodID', 'IDnotallthereID', 'IDbirdsofafeatherID', 'IDgotoyourheadID', 'IDintherawID', 'IDnotonyourlifeID', 'IDuptohereID', 'IDpullafastoneID', 'IDkickupafussID', 'IDlookbeforeyouleapID', 'IDbythebyID', 'IDburnthemidnightoilID', 'IDnospringchickenID', 'IDcookthebooksID', 'IDrestonyourlaurelsID', 'IDbesideyourselfID', 'IDtoatID', 'IDhammerandtongsID', 'IDselllikehotcakesID', 'IDlooktheotherwayID', 'IDhighandlowID', 'IDbrightyoungthingID', 'IDstandthetestoftimeID', 'IDmovethegoalpostsID', 'IDunderyourbeltID', 'IDputdownrootsID', 'IDsayuncleID', 'IDbarkupthewrongtreeID', 'IDjackofalltradesID', 'IDgotoseedID', 'IDplaythefieldID', 'IDmuchofamuchnessID', 'IDfallinlineID', 'IDmomentoftruthID', 'IDfriendsinhighplacesID', 'IDsmellaratID', 'IDseparatethewheatfromthechaffID', 'IDhangbyathreadID', 'IDgetyourfeetwetID', 'IDholdyourownID', 'IDinyourdreamsID', 'IDputthecartbeforethehorseID', 'IDwhoopitupID', 'IDupsettheapplecartID', 'IDconfirmedbachelorID', 'IDpoorasachurchmouseID', 'IDtaketheroughwiththesmoothID', 'IDonthehornsofadilemmaID', 'IDrideshotgunID', 'IDtoughasoldbootsID', 'IDbetweenarockandahardplaceID', 'IDcrosstherubiconID', 'IDhearttoheartID', 'IDinyourfaceID', 'IDjekyllandhydeID', 'IDkissandmakeupID', 'IDgoplacesID', 'IDgotothedogsID', 'IDcollectdustID', 'IDgobeggingID', 'IDpopthequestionID', 'IDridetherailsID', 'IDbelowthebeltID', 'IDmuddythewatersID', 'IDtiltatwindmillsID', 'IDflyinthefaceofID', 'IDsittingduckID', 'IDdeadasadoornailID', 'IDonegoodturndeservesanotherID', 'IDrisethroughtheranksID', 'IDupshitcreekID', 'IDjoinedatthehipID', 'IDhitanerveID', 'IDtothenthdegreeID', 'IDfrompillartopostID', 'IDgoforthejugularID', 'IDloseyourshirtID', 'IDcrashandburnID', 'IDhackitID', 'IDhaveyourworkcutoutID', 'IDhotandbotheredID', 'IDeverythingbutthekitchensinkID', 'IDlosetheplotID', 'IDtoocleverbyhalfID', 'IDbetterthedevilyouknowID', 'IDnothingdoingID', 'IDlonginthetoothID', 'IDturnoveranewleafID', 'IDchewthecudID', 'IDputyourfootinitID', 'IDuptospeedID', 'IDturntheothercheekID', 'IDblowagasketID', 'IDreadmylipsID', 'IDsickasadogID', 'IDplayitcoolID', 'IDtouchanerveID', 'IDventyourspleenID', 'IDkeepastraightfaceID', 'IDlikeabatoutofhellID', 'IDbreadandcircusesID', 'IDfittobetiedID', 'IDmarktimeID', 'IDtalkthetalkID', 'IDbagandbaggageID', 'IDsmellbloodID', 'IDkithandkinID', 'IDneitherfishnorfowlID', 'IDdoarunnerID', 'IDintheblinkofaneyeID', 'IDonthefiddleID', 'IDtreadwaterID', 'IDhitthesackID', 'IDbyalongchalkID', 'IDshowtheflagID', 'IDallbetsareoffID', 'IDnotimelikethepresentID', 'IDkingofbeastsID', 'IDtouchbaseID', 'IDcleanasawhistleID', 'IDbiteyourlipID', 'IDknowtheropesID', 'IDstartoffonthewrongfootID', 'IDthrowthebookatID', 'IDanoldflameID', 'IDsamedifferenceID', 'IDscarletwomanID', 'IDittakestwototangoID', 'IDtheworldandhiswifeID', 'IDfromatozID', 'IDaddfueltothefireID', 'IDontheupandupID', 'IDgettheshowontheroadID', 'IDcakesandaleID', 'IDuptheanteID', 'IDbyleapsandboundsID', 'IDbushtelegraphID', 'IDjamtomorrowID', 'IDshakealegID', 'IDonceinabluemoonID', 'IDoutofyourmindID', 'IDgetyourteethintoID', 'IDcutanddriedID', 'IDtakethecountID', 'IDthrowcautiontothewindID', 'IDcomeacropperID', 'IDgiveheadID', 'IDnotgiveafigID', 'IDdownthehatchID', 'IDuptoparID', 'IDmoneyforjamID', 'IDpartofthefurnitureID', 'IDwakeupandsmellthecoffeeID', 'IDpressthepanicbuttonID', 'IDatthecoalfaceID', 'IDlivewireID', 'IDparforthecourseID', 'IDbrassmonkeyID', 'IDcomeinfromthecoldID', 'IDclearthedecksID', 'IDatdaggersdrawnID', 'IDdeadtotheworldID', 'IDniceaspieID', 'IDthinkoutsidetheboxID', 'IDstrainattheleashID', 'IDburnthecandleatbothendsID', 'IDmakeapitchID', 'IDgothewholehogID', 'IDnipandtuckID', 'IDslowbutsureID', 'IDmaketracksID', 'IDpoorlittlerichgirlID', 'IDspeakyourmindID', 'IDbloodandgutsID', 'IDthrowgoodmoneyafterbadID', 'IDcrywolfID', 'IDonthecuffID', 'IDpassthetimeofdayID', 'IDawaywiththefairiesID', 'IDsweatlikeapigID', 'IDlikepeasinapodID', 'IDpaythepiperID', 'IDonthelamID', 'IDatacanterID', 'IDsweetnothingsID', 'IDstaythecourseID', 'IDbyalongshotID', 'IDdrunkasalordID', 'IDprickupyourearsID', 'IDkeepupwiththejonesesID', 'IDbangtorightsID', 'IDdogtiredID', 'IDtakeupthegauntletID', 'IDneveryoumindID', 'IDkickthebucketID', 'IDfullwhackID', 'IDcloseranksID', 'IDlikeabearwithasoreheadID', 'IDriseandshineID', 'IDkickupyourheelsID', 'IDvaleoftearsID', 'IDhaveamountaintoclimbID', 'IDputthekiboshonID', 'IDhittheceilingID', 'IDpushingupthedaisiesID', 'IDmoneytalksID', 'IDtobeatthebandID', 'IDclearasmudID', 'IDbytheseatofyourpantsID', 'IDonthebounceID', 'IDpickholesID', 'IDbeerandskittlesID', 'IDpressthefleshID', 'IDfitlikeagloveID', 'IDbellthecatID', 'IDdiscretionisthebetterpartofvalourID', 'IDcockasnookID', 'IDneverthetwainshallmeetID', 'IDalloverbartheshoutingID', 'IDthebuckstopshereID', 'IDkeepyourheadID', 'IDredsunderthebedID', 'IDtwoheadsarebetterthanoneID', 'IDoffthetopofyourheadID', 'IDgetonlikeahouseonfireID', 'IDputthecatamongthepigeonsID', 'IDbringhomethebaconID', 'IDpassmusterID', 'IDshootfromthehipID', 'IDpeachesandcreamID', 'IDhardasnailsID', 'IDputuporshutupID', 'IDbeatthemeatID', 'IDholdalltheacesID', 'IDonthedoubleID', 'IDpushtheboatoutID', 'IDsmallpotatoesID', 'IDintheballparkID', 'IDhottotrotID', 'IDsellyoursoulID', 'IDonasilverplatterID', 'IDnothingtowritehomeaboutID', 'IDonthepullID', 'IDtakeitonthechinID', 'IDlongtimenoseeID', 'IDtipthescalesID', 'IDchampatthebitID', 'IDeatyourwordsID', 'IDblowyourtopID', 'IDtakeashinetoID', 'IDgetahandleonID', 'IDshootthemessengerID', 'IDsilenceisgoldenID', 'IDtemptfateID', 'IDtalkofthedevilID', 'IDgetdowntobrasstacksID', 'IDdigupdirtID', 'IDfullspeedaheadID', 'IDturnturtleID', 'IDtakealeakID', 'IDcrossmyheartID', 'IDslipofthepenID', 'IDrightupyourstreetID', 'IDnorestforthewickedID', 'IDsafeashousesID', 'IDpushthepanicbuttonID', 'IDgodownlikealeadballoonID', 'IDasleepatthewheelID', 'IDcutyourlossesID', 'IDstrikeitrichID', 'IDcutfromthesameclothID', 'IDseetheelephantID', 'IDdutchcourageID', 'IDplainjaneID', 'IDsticktoyourgunsID', 'IDtakeaflyerID', 'IDrideherdonID', 'IDinhighdudgeonID', 'IDnottobesneezedatID', 'IDbehindthecurveID', 'IDoffandrunningID', 'IDtastebloodID', 'IDbitethebigoneID', 'IDtakethefifthID', 'IDwatchyourbackID', 'IDdrawabeadonID', 'IDhangfireID', 'IDrhymeorreasonID', 'IDblowoffsteamID', 'IDbetwixtandbetweenID', 'IDstubbornasamuleID', 'IDdoginthemangerID', 'IDthanksfornothingID', 'IDrainorshineID', 'IDsixfeetunderID', 'IDsplitthedifferenceID', 'IDgoodsamaritanID', 'IDplanbID', 'IDbananarepublicID', 'IDcruisingforabruisingID', 'IDpropupthebarID', 'IDrunbeforeyoucanwalkID', 'IDbeatthedaylightsoutofID', 'IDstaythedistanceID', 'IDputthemovesonID', 'IDhitthegroundrunningID', 'IDinyourelementID', 'IDletthegenieoutofthebottleID', 'IDunderthegunID', 'IDletthecatoutofthebagID', 'IDrougharoundtheedgesID', 'IDcastthefirststoneID', 'IDgetyourskatesonID', 'IDclosebutnocigarID', 'IDducksoupID', 'IDwalkoneggshellsID', 'IDmeetyourmatchID', 'IDupagumtreeID', 'IDreinventthewheelID', 'IDhaveabashID', 'IDrunintothesandID', 'IDkeepyoureyespeeledID', 'IDaheadofthecurveID', 'IDbundleofjoyID', 'IDonafullstomachID', 'IDbehindtheeightballID', 'IDfollowyournoseID', 'IDtalkturkeyID', 'IDallovertheshowID', 'IDshuffleoffthismortalcoilID', 'IDfeastorfamineID', 'IDseizethedayID', 'IDbumsteerID', 'IDneartheknuckleID', 'IDaskforthemoonID', 'IDdieonthevineID', 'IDnottoputtoofineapointonitID', 'IDpullyourweightID', 'IDrobpetertopaypaulID', 'IDwhistleinthedarkID', 'IDcomedownthepikeID', 'IDdrinklikeafishID', 'IDshootthebreezeID', 'IDkeepyournosetothegrindstoneID', 'IDsplithairsID', 'IDturnatrickID', 'IDtothemaxID', 'IDgohalvesID', 'IDundertheroseID', 'IDthinasarakeID', 'IDuptosnuffID', 'IDcomeoutofyourshellID', 'IDinyoursightsID', 'IDthumbyournoseatID', 'IDplaypossumID', 'IDburnrubberID', 'IDfishintroubledwatersID', 'IDalittlebirdtoldmeID', 'IDraisecainID', 'IDdrawstumpsID', 'IDdeadasadodoID', 'IDgotheextramileID', 'IDstartoffontherightfootID', 'IDshootthebullID', 'IDwalkthetalkID', 'IDbloodandthunderID', 'IDpullupstakesID', 'IDtakeahikeID', 'IDrollupyoursleevesID', 'IDhavethehotsforID', 'IDcutarugID', 'IDlasthurrahID', 'IDchaserainbowsID', 'IDdroplikefliesID', 'IDalloverthemapID', 'IDkickagainstthepricksID', 'IDbootsandallID', 'IDgodutchID', 'IDhittheskidsID', 'IDkeepontruckingID', 'IDbytheskinofyourteethID', 'IDnotbataneyeID', 'IDshipshapeandbristolfashionID', 'IDmeetyourmakerID', 'IDgetariseoutofID', 'IDjumpthetrackID', 'IDmakeanightofitID', 'IDdrawalineinthesandID', 'IDdrownyoursorrowsID', 'IDblowthelidoffID', 'IDdragyourfeetID', 'IDtopdollarID', 'IDgotothematID', 'IDrollwiththepunchesID', 'IDspeakofthedevilID', 'IDdukeitoutID', 'IDalongaboutID', 'IDsparetherodandspoilthechildID', 'IDoutofwhackID', 'IDbeallearsID', 'IDitneverrainsbutitpoursID', 'IDonyoursoapboxID', 'IDraincatsanddogsID', 'IDbedroomeyesID', 'IDhitthehayID', 'IDhaveabunintheovenID', 'IDfromstemtosternID', 'IDthrowyourhatintheringID', 'IDhangtoughID', 'IDsmokeandmirrorsID', 'IDputthescrewsonID', 'IDquietasamouseID', 'IDspreadyourselftoothinID', 'IDbeattherapID', 'IDpractisewhatyoupreachID', 'IDtopbananaID', 'IDalldressedupandnowheretogoID'], 'paraphrases': [], 'words': []}\n"
     ]
    }
   ],
   "source": [
    "wordlist_set_NAME = 'set1'\n",
    "wordlist_set_json_file = '../../data/emb_visuals/wordlist_set1.json'\n",
    "\n",
    "# The common set of tokens, paraphrases and words to be considered in the final output\n",
    "with open(wordlist_set_json_file, 'r') as jfile:\n",
    "    WORDLIST_DICT = json.load(jfile)\n",
    "print(WORDLIST_DICT)"
   ]
  },
  {
   "cell_type": "code",
   "execution_count": 4,
   "id": "049b9c5d",
   "metadata": {},
   "outputs": [],
   "source": [
    "# Experiment name\n",
    "exp_name = 'exp3B_1'\n",
    "\n",
    "IS_BERTRAM_FORMAT = False\n",
    "\n",
    "token_PIE_mapping_file = '../../data/token_files/option1_idioms.csv'"
   ]
  },
  {
   "cell_type": "code",
   "execution_count": 5,
   "id": "c970d93f",
   "metadata": {},
   "outputs": [
    {
     "name": "stdout",
     "output_type": "stream",
     "text": [
      "Should BERTRAM format be used: False\n"
     ]
    }
   ],
   "source": [
    "print(f\"Should BERTRAM format be used: {IS_BERTRAM_FORMAT}\")"
   ]
  },
  {
   "cell_type": "code",
   "execution_count": 6,
   "id": "906d7f8d",
   "metadata": {},
   "outputs": [],
   "source": [
    "# Output directory\n",
    "dump_dir = './embedding_dump_full/'"
   ]
  },
  {
   "cell_type": "code",
   "execution_count": null,
   "id": "dacadfa3",
   "metadata": {},
   "outputs": [],
   "source": []
  },
  {
   "cell_type": "markdown",
   "id": "128ad95e",
   "metadata": {},
   "source": [
    "# Add paraphrases of sample PIEs\n",
    "In addition to the PIE single tokens and their constituent words, synonyms and paraphrases for some of the interesting PIEs are also included in the embedding space for the study."
   ]
  },
  {
   "cell_type": "code",
   "execution_count": 7,
   "id": "520e0ccc",
   "metadata": {
    "scrolled": true
   },
   "outputs": [],
   "source": [
    "# paraphrases_and_synonyms = set()\n",
    "\n",
    "# nctti_synonyms = {\n",
    "#  'absolute lowest', 'all time low', 'basement', 'bliss', 'bottom floor', 'cheapest', 'cliffhanger', 'close one',\n",
    "#  'close shave', 'crazy', 'dated', 'defenseless', 'down low', 'easy prey', 'easy target', 'euphoria', 'ex girlfriend', 'exposed',\n",
    "#  'first floor', 'first story', 'food chain', 'former lover', 'ground level', 'heaven', 'helpless', 'hierarchy', 'in heaven',\n",
    "#  'inactive person', 'inconspicuous', 'land', 'lazy', 'lazy person', 'lost cause', 'low key', 'lowest point', 'near miss',\n",
    "#  'nervous wreck', 'old fashioned', 'old love', 'old lover', 'old news', 'old-fashioned', 'out of date', 'past love',\n",
    "#  'politically unstable', 'pushover', 'sedentary individual', 'shy', 'shy person', 'small nation', 'sweet', 'third world country',\n",
    "#  'top of the world', 'uninteresting', 'wallflower', 'wuss'\n",
    "# }\n",
    "\n",
    "# #\"keep a low profile\", \n",
    "# #\"pecking order\",\n",
    "# #\"old hat\",\n",
    "# #\"close call\",\n",
    "# #\"rock bottom\",\n",
    "# #\"basket case\",\n",
    "# #\"on cloud nine\",\n",
    "# #\"get in on the ground floor\",\n",
    "# #\"couch potato\",\n",
    "# #\"shrinking violet\",\n",
    "# #\"sitting duck\",\n",
    "# #\"an old flame\",\n",
    "# #\"banana republic\",\n",
    "\n",
    "\n",
    "# interesting_PIEs = {\n",
    "#     \"behind bars\", #in prison\n",
    "#     \"meet and talk in a friendly way\", #rub shoulders\n",
    "#     \"to awaken\", \"recall something\", #ring a bell\n",
    "#     \"take part in dangerous undertaking\", #play with fire\n",
    "#     \"to forgive someone\", #let bygones be bygones\n",
    "#     \"busy\", #chase your tail \n",
    "#     \"die\", \"passed away\", #kick the bucket\n",
    "#     \"disclose a secret\", \"reveal something\", #spill the beans\n",
    "#     \"spill the coffee\"\n",
    "# }\n",
    "\n",
    "# paraphrases_and_synonyms.update(nctti_synonyms)\n",
    "# paraphrases_and_synonyms.update(interesting_PIEs)\n",
    "# paraphrases_and_synonyms"
   ]
  },
  {
   "cell_type": "code",
   "execution_count": null,
   "id": "65068a5d",
   "metadata": {},
   "outputs": [],
   "source": []
  },
  {
   "cell_type": "code",
   "execution_count": 8,
   "id": "07e4bf0f",
   "metadata": {},
   "outputs": [
    {
     "data": {
      "text/html": [
       "<div>\n",
       "<style scoped>\n",
       "    .dataframe tbody tr th:only-of-type {\n",
       "        vertical-align: middle;\n",
       "    }\n",
       "\n",
       "    .dataframe tbody tr th {\n",
       "        vertical-align: top;\n",
       "    }\n",
       "\n",
       "    .dataframe thead th {\n",
       "        text-align: right;\n",
       "    }\n",
       "</style>\n",
       "<table border=\"1\" class=\"dataframe\">\n",
       "  <thead>\n",
       "    <tr style=\"text-align: right;\">\n",
       "      <th></th>\n",
       "      <th>idiom</th>\n",
       "      <th>idiom_token</th>\n",
       "    </tr>\n",
       "  </thead>\n",
       "  <tbody>\n",
       "    <tr>\n",
       "      <th>0</th>\n",
       "      <td>off the beaten track</td>\n",
       "      <td>IDoffthebeatentrackID</td>\n",
       "    </tr>\n",
       "    <tr>\n",
       "      <th>1</th>\n",
       "      <td>in the running</td>\n",
       "      <td>IDintherunningID</td>\n",
       "    </tr>\n",
       "    <tr>\n",
       "      <th>4</th>\n",
       "      <td>take root</td>\n",
       "      <td>IDtakerootID</td>\n",
       "    </tr>\n",
       "    <tr>\n",
       "      <th>5</th>\n",
       "      <td>clean house</td>\n",
       "      <td>IDcleanhouseID</td>\n",
       "    </tr>\n",
       "    <tr>\n",
       "      <th>6</th>\n",
       "      <td>make history</td>\n",
       "      <td>IDmakehistoryID</td>\n",
       "    </tr>\n",
       "    <tr>\n",
       "      <th>...</th>\n",
       "      <td>...</td>\n",
       "      <td>...</td>\n",
       "    </tr>\n",
       "    <tr>\n",
       "      <th>1728</th>\n",
       "      <td>spread yourself too thin</td>\n",
       "      <td>IDspreadyourselftoothinID</td>\n",
       "    </tr>\n",
       "    <tr>\n",
       "      <th>1730</th>\n",
       "      <td>beat the rap</td>\n",
       "      <td>IDbeattherapID</td>\n",
       "    </tr>\n",
       "    <tr>\n",
       "      <th>1732</th>\n",
       "      <td>practise what you preach</td>\n",
       "      <td>IDpractisewhatyoupreachID</td>\n",
       "    </tr>\n",
       "    <tr>\n",
       "      <th>1734</th>\n",
       "      <td>top banana</td>\n",
       "      <td>IDtopbananaID</td>\n",
       "    </tr>\n",
       "    <tr>\n",
       "      <th>1735</th>\n",
       "      <td>all dressed up and nowhere to go</td>\n",
       "      <td>IDalldressedupandnowheretogoID</td>\n",
       "    </tr>\n",
       "  </tbody>\n",
       "</table>\n",
       "<p>1261 rows × 2 columns</p>\n",
       "</div>"
      ],
      "text/plain": [
       "                                 idiom                     idiom_token\n",
       "0                 off the beaten track           IDoffthebeatentrackID\n",
       "1                       in the running                IDintherunningID\n",
       "4                            take root                    IDtakerootID\n",
       "5                          clean house                  IDcleanhouseID\n",
       "6                         make history                 IDmakehistoryID\n",
       "...                                ...                             ...\n",
       "1728          spread yourself too thin       IDspreadyourselftoothinID\n",
       "1730                      beat the rap                  IDbeattherapID\n",
       "1732          practise what you preach       IDpractisewhatyoupreachID\n",
       "1734                        top banana                   IDtopbananaID\n",
       "1735  all dressed up and nowhere to go  IDalldressedupandnowheretogoID\n",
       "\n",
       "[1261 rows x 2 columns]"
      ]
     },
     "metadata": {},
     "output_type": "display_data"
    }
   ],
   "source": [
    "# Load the PIEs and token strings\n",
    "df_pie_token_mapping = pd.read_csv(token_PIE_mapping_file)\n",
    "\n",
    "# Consider only those PIEs that present in the WORDLIST_DICT\n",
    "df_pie_token_mapping = df_pie_token_mapping[df_pie_token_mapping['idiom_token'].isin(WORDLIST_DICT['PIE_list'])]\n",
    "\n",
    "if IS_BERTRAM_FORMAT:\n",
    "    # Convert the tokens to <BERTRAM:...> format\n",
    "    df_pie_token_mapping['idiom_token'] = df_pie_token_mapping['idiom_token'].map(lambda t: f\"<BERTRAM:{t}>\")\n",
    "    WORDLIST_DICT['PIE_list'] = [f\"<BERTRAM:{pie}>\" for pie in WORDLIST_DICT['PIE_list']]\n",
    "\n",
    "    print('Converted to BERTRAM format!')\n",
    "\n",
    "display(df_pie_token_mapping)"
   ]
  },
  {
   "cell_type": "markdown",
   "id": "48f01720",
   "metadata": {},
   "source": [
    "## Consider the words in the MAGPIE corpus\n",
    "\n",
    "**Consider only those sentences where the current list of PIEs are used**"
   ]
  },
  {
   "cell_type": "code",
   "execution_count": 9,
   "id": "62e448cd",
   "metadata": {},
   "outputs": [
    {
     "name": "stdout",
     "output_type": "stream",
     "text": [
      "Obtained 1459 words from MAGPIE corpus\n"
     ]
    }
   ],
   "source": [
    "en_stopwords = stopwords.words('english')\n",
    "punc_remo_trans = str.maketrans('', '', string.punctuation)\n",
    "\n",
    "en_stopwords.extend(WORDLIST_DICT['PIE_list'])\n",
    "en_stopwords = {s.lower() for s in en_stopwords}\n",
    "\n",
    "# Load the magpie training set\n",
    "MAGPIE_FULL_FILE = '/home/darshan/work/course/dissertation/idiom_principle_on_magpie_corpus/experiments/exp3A_1/tmp/magpie_full_exp3A_1.csv'\n",
    "df_magpie = pd.read_csv(MAGPIE_FULL_FILE)\n",
    "sent_list = df_magpie['sentence_0'].values\n",
    "\n",
    "MIN_COUNT = 4\n",
    "MAX_COUNT = 6\n",
    "MAGPIE_WORD_SET = set()\n",
    "# Add all the unique, non-stop words to a list (exclude the single tokens as well)\n",
    "word_counter = defaultdict(int)\n",
    "for sent in sent_list:\n",
    "    # Consider only those sentences that have the current list of PIEs\n",
    "    found=False\n",
    "    for pie in WORDLIST_DICT['PIE_list']:\n",
    "        if pie in sent:\n",
    "            found=True\n",
    "            break\n",
    "    if found:\n",
    "        sent = sent.translate(punc_remo_trans)\n",
    "        words = [word for word in sent.lower().split() if word not in en_stopwords]\n",
    "        words = [word for word in words if word.isalpha() and len(word)>2 and len(word)<=12]\n",
    "        # Count the word occurences\n",
    "        for word in words:\n",
    "            word_counter[word] += 1\n",
    "\n",
    "# Filter out very frequent and very rare words\n",
    "final_words = [word for word,count in word_counter.items() if count > MIN_COUNT and count < MAX_COUNT]\n",
    "MAGPIE_WORD_SET = set(final_words)\n",
    "\n",
    "\n",
    "print(f\"Obtained {len(MAGPIE_WORD_SET)} words from MAGPIE corpus\")"
   ]
  },
  {
   "cell_type": "code",
   "execution_count": 10,
   "id": "5fb6d525",
   "metadata": {},
   "outputs": [
    {
     "data": {
      "text/plain": [
       "1459"
      ]
     },
     "execution_count": 10,
     "metadata": {},
     "output_type": "execute_result"
    }
   ],
   "source": [
    "# print(sorted(word_counter.items(), key=lambda p: p[1]))\n",
    "len(MAGPIE_WORD_SET)"
   ]
  },
  {
   "cell_type": "code",
   "execution_count": 11,
   "id": "d135b870",
   "metadata": {
    "scrolled": true
   },
   "outputs": [
    {
     "name": "stdout",
     "output_type": "stream",
     "text": [
      "{'precedence', 'unwise', 'moody', 'capability', 'brink', 'portuguese', 'highlands', 'cropped', 'dragons', 'colitis', 'racism', 'typed', 'carpets', 'chugga', 'compliment', 'deepened', 'workplace', 'botha', 'pilger', 'cae', 'loyalists', 'dorset', 'resisting', 'dictionaries', 'insane', 'dredging', 'papal', 'postpone', 'tendering', 'parishes', 'langbaurgh', 'strikers', 'swaying', 'ratified', 'acrylic', 'stating', 'supplemented', 'irresistibly', 'deprecating', 'lest', 'tag', 'quotas', 'victorious', 'decorative', 'scaled', 'honda', 'throng', 'puzzled', 'trainees', 'switches', 'plunge', 'erratic', 'resented', 'fooled', 'contrasts', 'undertakings', 'competitor', 'lashing', 'tribes', 'acceleration', 'textiles', 'ascent', 'morley', 'meter', 'psychedelic', 'cnaa', 'crippling', 'beta', 'andré', 'cruising', 'saturdays', 'inexplicable', 'courageous', 'plagued', 'rattle', 'baptised', 'starter', 'dunes', 'moderation', 'crawl', 'underlining', 'skilful', 'kerry', 'manuscript', 'stately', 'distraction', 'fuselage', 'telephoned', 'warring', 'plummeted', 'performer', 'corrected', 'compression', 'limestone', 'realising', 'environments', 'originality', 'parapet', 'experiments', 'rodney', 'incredibly', 'grin', 'equate', 'harley', 'burgess', 'hath', 'reacting', 'duff', 'faults', 'forks', 'voyage', 'attributable', 'powerless', 'patriotic', 'covent', 'replaces', 'zoom', 'privy', 'lobster', 'kisses', 'molecule', 'melbourne', 'disturbance', 'forbidden', 'closures', 'transferring', 'caravans', 'wordperfect', 'compatible', 'calcium', 'encounters', 'sylvester', 'uefa', 'husbands', 'detriment', 'sunset', 'boo', 'coasts', 'cannibalism', 'impending', 'hem', 'hans', 'sketch', 'cents', 'calming', 'survives', 'shores', 'sickness', 'martins', 'turbo', 'finale', 'grated', 'generating', 'reputable', 'poetic', 'narrower', 'tae', 'fences', 'countrymen', 'puff', 'grinning', 'cunningham', 'reeds', 'storming', 'riverside', 'backer', 'reflectance', 'scrub', 'maskell', 'resorts', 'skeleton', 'obscene', 'criticising', 'favours', 'ripe', 'unused', 'databases', 'siren', 'deane', 'intensify', 'opec', 'intuitive', 'carpenter', 'baldersdale', 'thrusting', 'abilities', 'micro', 'guerrillas', 'ramsey', 'succeeding', 'entertain', 'regulated', 'pyramid', 'endeavours', 'eisenhower', 'gifted', 'sprung', 'fated', 'pamela', 'evangelical', 'downhill', 'florence', 'transfers', 'revamped', 'accepts', 'candy', 'forceful', 'spark', 'papillae', 'unchanged', 'courier', 'scot', 'haze', 'avoidance', 'gough', 'forearm', 'treacherous', 'haunted', 'hawk', 'moslem', 'doc', 'vanity', 'replying', 'unspoken', 'segment', 'scholarship', 'bullets', 'equaliser', 'ploughed', 'vitamin', 'depicted', 'reactionary', 'radiation', 'clint', 'dubbed', 'regretted', 'frameworks', 'addictive', 'altitude', 'clerical', 'slithering', 'scarf', 'scramble', 'aging', 'tablet', 'mitch', 'clifford', 'individually', 'abolish', 'lear', 'devise', 'viz', 'doubling', 'claudia', 'jar', 'marjie', 'musician', 'belinda', 'recommending', 'kitchens', 'ladders', 'trifle', 'kettle', 'winged', 'apprehensive', 'clenched', 'rem', 'pyramids', 'conceivably', 'bloodstream', 'visibly', 'apprentice', 'michelle', 'dazed', 'prevail', 'sip', 'calmed', 'wireless', 'curls', 'elevated', 'yknow', 'eagles', 'shady', 'disclosure', 'deference', 'joking', 'comrade', 'periodic', 'hose', 'freezer', 'overwhelmed', 'brushes', 'galway', 'badges', 'martial', 'psyche', 'renowned', 'recourse', 'reminding', 'groupings', 'dough', 'literal', 'flank', 'gripping', 'eerie', 'fumes', 'marius', 'nicolas', 'chimney', 'peters', 'transmitted', 'kleenex', 'symbols', 'jockeys', 'shillings', 'seize', 'czech', 'sockets', 'banter', 'vandal', 'wight', 'planes', 'eternity', 'neon', 'lambert', 'ample', 'sombre', 'drowning', 'afloat', 'auditing', 'implementing', 'anglers', 'syrup', 'tomato', 'reviews', 'roland', 'clue', 'norwegian', 'kahn', 'liza', 'cul', 'leant', 'alterations', 'cruelly', 'scholarly', 'coordination', 'landlady', 'consultative', 'karajan', 'disqualified', 'cum', 'beginnings', 'iris', 'explode', 'averages', 'rigging', 'angled', 'eagerness', 'reds', 'heaving', 'effortlessly', 'hal', 'hardships', 'alarmed', 'stimuli', 'surround', 'fraternity', 'barton', 'breadth', 'algerian', 'strides', 'portray', 'relates', 'decorations', 'mandela', 'pundits', 'roadside', 'ploy', 'academically', 'thematic', 'budding', 'hoddle', 'accord', 'windy', 'wits', 'suicidal', 'experiencing', 'solemnly', 'indonesia', 'blindness', 'murrayfield', 'canned', 'convoys', 'viii', 'portrayal', 'drummer', 'straining', 'wagon', 'benefiting', 'tunes', 'widnes', 'chanting', 'bookings', 'adrian', 'whirlwind', 'porch', 'heightened', 'pillow', 'tissues', 'graduate', 'indie', 'greenwich', 'teens', 'raving', 'flickered', 'elbows', 'overboard', 'cooling', 'soaking', 'swore', 'relies', 'lipped', 'nut', 'improper', 'forties', 'amstrad', 'biological', 'bravery', 'unkempt', 'pepper', 'thailand', 'crusade', 'professions', 'gloomy', 'thirst', 'bonnie', 'harassed', 'heartbeat', 'aix', 'bottomley', 'curling', 'fertile', 'foliage', 'govern', 'othello', 'protein', 'inward', 'stink', 'thoughtfully', 'offender', 'backside', 'pascoe', 'cramped', 'bullet', 'inspected', 'kitty', 'firmer', 'trouser', 'waugh', 'disadvantage', 'continuity', 'pivot', 'titled', 'scruffy', 'irons', 'distribute', 'watchers', 'wily', 'ebb', 'dimensional', 'scurrying', 'fielding', 'rails', 'adjoining', 'camel', 'maynard', 'fearsome', 'nude', 'ivy', 'sacks', 'inflict', 'spinner', 'polling', 'greenfield', 'aquatic', 'drought', 'sour', 'excursion', 'fluttered', 'poisoning', 'fairfax', 'shrine', 'gnome', 'dangle', 'implicitly', 'outnumbered', 'inherently', 'supervised', 'simplified', 'declares', 'alistair', 'inefficient', 'iain', 'maternity', 'rio', 'betrayed', 'fascinated', 'rays', 'seasonal', 'isolation', 'warrior', 'christine', 'liar', 'veins', 'immigrants', 'myers', 'composers', 'span', 'decrease', 'depleted', 'asymmetry', 'toads', 'shortest', 'leopold', 'incorporate', 'enriched', 'kurt', 'pretensions', 'predecessors', 'apartments', 'milked', 'juggling', 'beware', 'southport', 'ante', 'ruritania', 'peeling', 'onset', 'unanimous', 'profoundly', 'roderick', 'owning', 'swansea', 'pastures', 'cavalier', 'beats', 'hawaii', 'sphere', 'simplest', 'binoculars', 'persona', 'suppress', 'brushing', 'combating', 'sweetest', 'ingenious', 'swirling', 'fisher', 'jumble', 'allegiance', 'atrocities', 'wholesale', 'illusions', 'identities', 'aug', 'climber', 'exporting', 'whitlow', 'instinctive', 'prescott', 'snatch', 'stool', 'sensory', 'tyneside', 'browns', 'infinitely', 'cumulative', 'sed', 'subsidiarity', 'credits', 'resumption', 'rage', 'exceeded', 'commonplace', 'reassure', 'manhattan', 'jointly', 'broom', 'extinction', 'modes', 'morse', 'adventures', 'hostility', 'tandem', 'tuberculosis', 'misplaced', 'slamming', 'knack', 'humphrey', 'hague', 'blockade', 'frances', 'immaculate', 'belted', 'blindly', 'capitalists', 'quoting', 'birdie', 'aroused', 'essays', 'gorge', 'grandparents', 'peggy', 'slapped', 'smoked', 'jacques', 'commotion', 'onstage', 'retaliated', 'lifeboat', 'disgusting', 'activist', 'clyde', 'adhered', 'tccb', 'thighs', 'fourteenth', 'jealousy', 'gunpowder', 'asylum', 'historians', 'execute', 'lenders', 'lithuania', 'mythical', 'desmond', 'crowe', 'crossword', 'reflective', 'reserved', 'corrupt', 'chewed', 'ref', 'rulers', 'parchment', 'lacks', 'backbone', 'aquitaine', 'easter', 'philippe', 'cord', 'eels', 'scaffolding', 'populace', 'analyse', 'exhilarating', 'ludicrously', 'liaison', 'surmounted', 'aching', 'inescapable', 'halted', 'joey', 'decca', 'engraved', 'undercover', 'dent', 'isdn', 'withdrawal', 'respondents', 'disdain', 'bidding', 'froze', 'wordsworth', 'clung', 'dagger', 'patterned', 'upheaval', 'dashed', 'traps', 'beams', 'blair', 'cultivation', 'outspoken', 'shopkeepers', 'ventured', 'manoeuvring', 'limerick', 'shark', 'constance', 'bidder', 'barbarians', 'procession', 'capricorn', 'warsaw', 'rue', 'clarence', 'bothered', 'voiced', 'barren', 'factual', 'impress', 'slapping', 'mastered', 'pentagon', 'edna', 'unhealthy', 'roast', 'enthusiast', 'divisional', 'bolshevik', 'intolerable', 'resembled', 'render', 'fernando', 'mysteriously', 'tracked', 'luckily', 'debris', 'airy', 'pine', 'ave', 'ghetto', 'indictment', 'abolished', 'ticking', 'delicately', 'receipt', 'selina', 'lurch', 'spikes', 'dioxide', 'acoustic', 'concerto', 'indo', 'peeled', 'billing', 'cousin', 'trans', 'butts', 'awkwardly', 'versus', 'tolerated', 'stroll', 'transmit', 'nazi', 'cert', 'modify', 'alienating', 'obstacle', 'guesses', 'hefty', 'den', 'refugee', 'zuwaya', 'crony', 'aisle', 'attachment', 'ruin', 'migrants', 'bazaar', 'undesirable', 'wheeler', 'dee', 'wary', 'twigs', 'commonsense', 'rufus', 'evaluating', 'heavens', 'surgeons', 'avoids', 'survivor', 'peat', 'hilton', 'wacc', 'kernel', 'parlour', 'markers', 'techno', 'gwendoline', 'erect', 'wiltshire', 'wheeling', 'hudson', 'attribute', 'drunken', 'territorial', 'cousins', 'lotus', 'famine', 'maxim', 'cracks', 'rammed', 'chopping', 'swollen', 'unstable', 'hauling', 'tying', 'disposing', 'fluttering', 'articulated', 'examines', 'cooker', 'severn', 'waistcoat', 'retailers', 'editorial', 'simone', 'confidently', 'heirs', 'updating', 'traction', 'courtaulds', 'mussolini', 'bugs', 'conventions', 'bottoms', 'infectious', 'archers', 'overtly', 'joins', 'plutonium', 'delve', 'pretended', 'prosecutions', 'workmen', 'immense', 'melting', 'stony', 'chernobyl', 'initiation', 'benson', 'barges', 'cognitive', 'volunteer', 'sprang', 'relapse', 'timetable', 'bathed', 'indirect', 'hotter', 'schoolgirl', 'fundamentals', 'strident', 'nurtured', 'charismatic', 'automated', 'willed', 'ginger', 'consortium', 'bradshaw', 'surveyors', 'beginner', 'stimulate', 'wrecked', 'milling', 'advocacy', 'dinners', 'emotive', 'formulate', 'discoveries', 'sophie', 'vastly', 'bowe', 'bee', 'diagnosis', 'prejudices', 'racer', 'contrasting', 'economical', 'gala', 'fuelled', 'demolished', 'leaflets', 'compressed', 'weeds', 'offending', 'dominating', 'mathematics', 'probation', 'reunion', 'unrest', 'hanger', 'protracted', 'regularity', 'hoare', 'holly', 'plum', 'flush', 'lender', 'famed', 'picasso', 'hercules', 'monk', 'ceilings', 'baltic', 'dustbin', 'locals', 'glazing', 'harp', 'tomatoes', 'tribal', 'illumination', 'agrees', 'dung', 'crumbling', 'batteries', 'bewildered', 'cosmetic', 'adapt', 'puzzles', 'goldsmith', 'leo', 'rearing', 'fallon', 'stoutly', 'intercourse', 'workshops', 'update', 'judgements', 'substituted', 'extinct', 'kin', 'overdue', 'polluted', 'lodged', 'sinners', 'chairmen', 'deviation', 'ruby', 'sandwiches', 'plank', 'precedents', 'nigerian', 'ventilation', 'petroleum', 'boyd', 'theresa', 'jess', 'raft', 'organisms', 'realizing', 'landscapes', 'columnist', 'lungs', 'palmer', 'diminishing', 'grandstand', 'bullying', 'dividend', 'rioting', 'quiz', 'summarised', 'plainly', 'utterances', 'amps', 'orbit', 'silas', 'expenditures', 'outwards', 'jerk', 'basics', 'mushroom', 'willis', 'articulate', 'starred', 'drown', 'clinics', 'credence', 'placate', 'rumoured', 'calder', 'deed', 'precautions', 'las', 'stanford', 'stench', 'generously', 'brew', 'bedding', 'unto', 'wryly', 'intermediate', 'sewn', 'rites', 'tutorial', 'sentenced', 'bubbling', 'barman', 'communicates', 'numbered', 'sworn', 'oconnor', 'applause', 'boldly', 'kneeling', 'sicily', 'mentions', 'ordination', 'pedigree', 'edwardian', 'auctioneer', 'profitboss', 'contra', 'obstacles', 'marines', 'whisper', 'costumes', 'gina', 'slowing', 'galileo', 'kremlin', 'subconscious', 'workstations', 'monumental', 'underwater', 'obsession', 'sailor', 'hopper', 'baroque', 'fracture', 'awesome', 'imported', 'penetrate', 'freeman', 'definitive', 'barnett', 'macca', 'disregarded', 'gibson', 'possesses', 'stresses', 'vladimir', 'suffice', 'raskolnikov', 'delicacy', 'preached', 'blockbuster', 'outraged', 'trod', 'salon', 'packaging', 'harmful', 'prodigy', 'attainment', 'visually', 'svqs', 'forge', 'cop', 'reputed', 'grades', 'mobility', 'moors', 'ratepayers', 'destructive', 'weave', 'quebec', 'bobbing', 'nervously', 'soils', 'redemption', 'lantern', 'martyn', 'armchair', 'brook', 'owns', 'dangling', 'fabrics', 'monitors', 'evolving', 'rightful', 'suspiciously', 'bark', 'manifesto', 'alarming', 'expulsion', 'perceptive', 'yielding', 'rundown', 'rains', 'bespectacled', 'spades', 'squatted', 'jogging', 'teased', 'nostrils', 'scratched', 'intrinsic', 'plugged', 'caller', 'wink', 'chattering', 'neville', 'matilda', 'vicinity', 'thirdly', 'exile', 'displaying', 'consist', 'dell', 'barrage', 'radius', 'sculptures', 'hoover', 'und', 'cunt', 'genetic', 'globally', 'isolating', 'drawers', 'bolt', 'mailing', 'novelty', 'panama', 'bookmakers', 'criterion', 'stylish', 'puppets', 'pies', 'lazily', 'wakefield', 'bombay', 'mundane', 'motorists', 'calculate', 'hosted', 'prevailed', 'fronts', 'refrain', 'basil', 'prosecuting', 'burgeoning', 'geezer', 'swings', 'soho', 'hurricane', 'quantum', 'tenure', 'matchbox', 'loony', 'disguise', 'norton', 'potholes', 'cordless', 'militant', 'majestic', 'ornaments', 'influencing', 'rallies', 'holloway', 'delights', 'fervour', 'seduced', 'counsellor', 'towering', 'yelled', 'router', 'hardened', 'dashing', 'amanda', 'linfield', 'mutations', 'impatience', 'inadequacy', 'saunders', 'firearms', 'flourished', 'brewers', 'boar', 'arithmetic', 'mop', 'tails', 'stray', 'pennies', 'mainframes', 'shrug', 'navigator', 'multimedia', 'theology', 'trotting', 'dwellings', 'alarms', 'embarked', 'bunny', 'stevie', 'triumphant', 'dreaded', 'choked', 'toilets', 'tracey', 'freckles', 'suburbs', 'camouflaged', 'clockwise', 'boro', 'foremost', 'eldorado', 'shaven', 'zoe', 'almighty', 'hebrew', 'spate', 'hindu', 'copied', 'crafted', 'deferential', 'dresser', 'emphasise', 'blending', 'sculptor', 'rationing', 'statesman', 'arizona', 'deliveries', 'mammal', 'pondered', 'coating', 'veterinary', 'claws', 'oath', 'infected', 'hierarchical', 'shoved', 'electors', 'macbeth', 'unsettled', 'tvs', 'labor', 'curly', 'monument', 'sociology', 'discomfort', 'obscurity', 'granny', 'enforced', 'irritated', 'tool', 'donaldson', 'wessels', 'miraculously', 'didcot', 'lark', 'truman', 'gases', 'dangerously', 'continents', 'combines', 'void', 'mellor', 'robocop', 'structured', 'undergone', 'diplomats', 'wards', 'screening', 'strachan', 'relational', 'tack', 'cane', 'whim', 'pus', 'scan', 'wrapping', 'restriction', 'benchmark', 'vet', 'interruption', 'pavements', 'orchid', 'trauma', 'stockmarket', 'sucking', 'beirut', 'pulse', 'guisborough', 'quarrel', 'atoms', 'journals', 'spies', 'kodak', 'gears', 'punt', 'marches', 'hegemonic', 'kitten', 'enterprising', 'adapting', 'arson', 'drifts', 'squirrel', 'blurred', 'sandra', 'mergers', 'mineral', 'recaptured', 'lennie', 'subsidised', 'disrepute', 'monkeys', 'taligent', 'worldly', 'luggage', 'currents', 'cultivated', 'coated', 'tate', 'neglected', 'specialized', 'impatiently', 'approve', 'wastes', 'scar', 'validity', 'slippers', 'nesting', 'sparked', 'slash', 'reviewing', 'lavatory', 'beep', 'laurence', 'discourage', 'precarious', 'scrapped', 'strach', 'grimly', 'bonn', 'menus', 'radically', 'stain', 'barrow', 'amp', 'hilary', 'uniformed', 'manufactured', 'devolution', 'improvised', 'ferdinand', 'élite', 'continuously', 'constituent', 'accounted', 'bulging', 'concluding', 'sensations', 'filmed', 'lashed', 'shamrock', 'monica', 'microscope', 'apologise', 'boil', 'preliminary', 'specimen', 'oesophageal', 'shrink', 'pensioner', 'bowie', 'utterance', 'signalled', 'leapt', 'persecuted', 'gilt', 'renaissance', 'cycling', 'resilience', 'bleach', 'perverse', 'bout', 'toured', 'cheat', 'liberties', 'determines', 'bowlers', 'debbie', 'daunting', 'bragg', 'complexion', 'sincere', 'sideboard', 'withholding', 'feminists', 'furnishings', 'understands', 'sympathies', 'unified', 'hunters', 'kidnapped', 'creole', 'subsidies', 'cutty', 'subsidiaries', 'georgian', 'mat', 'ambiguous', 'altar', 'graf', 'retaliation', 'sciences', 'clues', 'grazed', 'dudley', 'incidental', 'referrals', 'registering', 'nucleus', 'hyde', 'ubiquitous', 'kissing', 'lied', 'noting', 'fraudulent', 'ukrainian', 'unkind', 'supervisor', 'woosnam', 'believer', 'culkin', 'victories', 'strap', 'echoing', 'oriental', 'pier', 'hiring', 'moths', 'cocoa', 'pottery', 'serbs', 'nets', 'cadfael', 'sundays', 'fictional', 'lebanese', 'ordeal', 'hodgson', 'slammed', 'consequent', 'delivers', 'conductors', 'devote', 'wigs', 'arrivals', 'nobility', 'chatted', 'whale', 'treats', 'occult', 'fledgling', 'pumped', 'cecil', 'evade', 'repressed', 'regulators', 'rincewind', 'cabbage', 'fend', 'ronald', 'unwanted'}\n"
     ]
    }
   ],
   "source": [
    "print(MAGPIE_WORD_SET)"
   ]
  },
  {
   "cell_type": "code",
   "execution_count": null,
   "id": "aa5f0518",
   "metadata": {},
   "outputs": [],
   "source": []
  },
  {
   "cell_type": "code",
   "execution_count": 12,
   "id": "1ca653da",
   "metadata": {},
   "outputs": [],
   "source": [
    "# Output directory check\n",
    "if os.path.isdir(dump_dir):\n",
    "    raise Exception(f\"Output directory {dump_dir} already exists!\")\n",
    "else:\n",
    "    os.makedirs(dump_dir)"
   ]
  },
  {
   "cell_type": "code",
   "execution_count": 13,
   "id": "d252deab",
   "metadata": {},
   "outputs": [
    {
     "name": "stderr",
     "output_type": "stream",
     "text": [
      "Some weights of the model checkpoint at ../../local_models/bert-base-uncased_MaskedLM_STR_option1_3B1_pretrained were not used when initializing BertForSequenceClassification: ['cls.predictions.bias', 'cls.predictions.transform.LayerNorm.weight', 'cls.predictions.transform.LayerNorm.bias', 'cls.predictions.transform.dense.weight', 'cls.predictions.decoder.bias', 'cls.predictions.decoder.weight', 'cls.predictions.transform.dense.bias']\n",
      "- This IS expected if you are initializing BertForSequenceClassification from the checkpoint of a model trained on another task or with another architecture (e.g. initializing a BertForSequenceClassification model from a BertForPreTraining model).\n",
      "- This IS NOT expected if you are initializing BertForSequenceClassification from the checkpoint of a model that you expect to be exactly identical (initializing a BertForSequenceClassification model from a BertForSequenceClassification model).\n",
      "Some weights of BertForSequenceClassification were not initialized from the model checkpoint at ../../local_models/bert-base-uncased_MaskedLM_STR_option1_3B1_pretrained and are newly initialized: ['bert.pooler.dense.weight', 'classifier.bias', 'bert.pooler.dense.bias', 'classifier.weight']\n",
      "You should probably TRAIN this model on a down-stream task to be able to use it for predictions and inference.\n"
     ]
    },
    {
     "name": "stdout",
     "output_type": "stream",
     "text": [
      "Loaded both the LM Model & the Tokenizer models\n"
     ]
    }
   ],
   "source": [
    "# Load the BERT model & tokenizers\n",
    "model = AutoModelForSequenceClassification.from_pretrained(model_checkpoint_dir)\n",
    "# Download the Tokenizer model\n",
    "tokenizer = AutoTokenizer.from_pretrained(model_checkpoint_dir, use_fast=True, truncation=True)\n",
    "print(f\"Loaded both the LM Model & the Tokenizer models\")"
   ]
  },
  {
   "cell_type": "code",
   "execution_count": 14,
   "id": "f26d163f",
   "metadata": {},
   "outputs": [
    {
     "data": {
      "text/plain": [
       "torch.Size([32260, 768])"
      ]
     },
     "execution_count": 14,
     "metadata": {},
     "output_type": "execute_result"
    }
   ],
   "source": [
    "# Get the embedding matrix\n",
    "embedding_weights = model.bert.embeddings.word_embeddings.weight\n",
    "embedding_weights.shape"
   ]
  },
  {
   "cell_type": "code",
   "execution_count": null,
   "id": "da3f804f",
   "metadata": {},
   "outputs": [],
   "source": []
  },
  {
   "cell_type": "markdown",
   "id": "15f261f8",
   "metadata": {},
   "source": [
    "# Create tokens-id mapping for all the tokens\n",
    "We need to get the embeddings for all the tokens and the constituent words of the PIEs."
   ]
  },
  {
   "cell_type": "code",
   "execution_count": 15,
   "id": "964fd234",
   "metadata": {},
   "outputs": [
    {
     "name": "stdout",
     "output_type": "stream",
     "text": [
      "Got token ids for 1261 PIE single tokens and 1292 words\n"
     ]
    }
   ],
   "source": [
    "#To store PIE singel tokens\n",
    "id_to_single_token_mapping = {}\n",
    "# To store constituent words of a PIE\n",
    "word_to_ids = {}\n",
    "\n",
    "for i,(pie, token_str) in df_pie_token_mapping.iterrows():\n",
    "    # First, get the id-token mapping for 'token_str'\n",
    "    token_id = tokenizer.vocab[token_str.lower()]\n",
    "    # Add to the dict\n",
    "    id_to_single_token_mapping[token_id] = token_str\n",
    "    \n",
    "    # Next, process the individual words in the pie, find their token ids\n",
    "    pie_words = [pword.strip() for pword in pie.split() if pword not in word_to_ids]\n",
    "    for pword in pie_words:\n",
    "        token_ids = tokenizer.encode(pword, add_special_tokens=False)\n",
    "        word_to_ids[pword] = token_ids\n",
    "        \n",
    "print(f\"Got token ids for {len(id_to_single_token_mapping)} PIE single tokens and {len(word_to_ids)} words\")"
   ]
  },
  {
   "cell_type": "code",
   "execution_count": 16,
   "id": "d6537da1",
   "metadata": {},
   "outputs": [],
   "source": [
    "# Max possible length of a line containing tab separated embeddings, a rough estimate\n",
    "MAX_EMB_LINE_LENGTH = (64 + 1)*768\n",
    "\n",
    "def get_single_token_embeddings(tok_id):\n",
    "    emb_vec = embedding_weights[tok_id].detach().numpy()\n",
    "    return emb_vec\n",
    "\n",
    "def get_embedding_string(emb_vec):\n",
    "    \"\"\"\n",
    "    # Convert one embedding vector from numpy array into a tab separated string format\n",
    "    # NOTE: The float64 precision is used here!!\n",
    "    \"\"\"\n",
    "    emb_str = np.array2string(emb_vec, separator='\\t', \\\n",
    "                              max_line_width=MAX_EMB_LINE_LENGTH, \\\n",
    "                              formatter={'float_kind':lambda x: str(np.float64(x))}, \\\n",
    "                              suppress_small=False, floatmode='maxprec')\n",
    "    # Trim [ and ] characters\n",
    "    emb_str = emb_str[1:-1]\n",
    "    return emb_str"
   ]
  },
  {
   "cell_type": "markdown",
   "id": "f6f89f66",
   "metadata": {},
   "source": [
    "## Word to Embedding string mapping\n",
    "Create a map of <tok_word, embedding_str> for both pie single-tokens and the constituent words"
   ]
  },
  {
   "cell_type": "code",
   "execution_count": 17,
   "id": "f951f27d",
   "metadata": {},
   "outputs": [
    {
     "name": "stdout",
     "output_type": "stream",
     "text": [
      "Created word-embedding string mapping for 2553 tokens\n"
     ]
    }
   ],
   "source": [
    "word_emb_str_mapping = {}\n",
    "\n",
    "# First process all the pie single-tokens\n",
    "for tok_id, tok_word in id_to_single_token_mapping.items():\n",
    "    emb_vec = get_single_token_embeddings(tok_id)\n",
    "    emb_str = get_embedding_string(emb_vec)\n",
    "    word_emb_str_mapping[tok_word] = emb_str\n",
    "    \n",
    "# Then process all the constituent words(Note: we have array of subtokens per each word!)\n",
    "def get_average_embedding(token_ids):\n",
    "    all_emb_vecs = []\n",
    "    for tok_id in token_ids:\n",
    "        emb_vec = get_single_token_embeddings(tok_id)\n",
    "        all_emb_vecs.append(emb_vec)\n",
    "    np_embs = np.array(all_emb_vecs)\n",
    "    avg_emb = np_embs.mean(axis=0)\n",
    "    return avg_emb\n",
    "    \n",
    "for word, tok_ids in word_to_ids.items():\n",
    "    emb_vec = get_average_embedding(tok_ids)\n",
    "    emb_str = get_embedding_string(emb_vec)\n",
    "    word_emb_str_mapping[word] = emb_str\n",
    "    \n",
    "print(f\"Created word-embedding string mapping for {len(word_emb_str_mapping)} tokens\")"
   ]
  },
  {
   "cell_type": "markdown",
   "id": "7df2a737",
   "metadata": {},
   "source": [
    "### Add sample paraphrases and synonyms\n",
    "Add the paraphrases and synonyms as well. The embeddings are obtained by averaging the embeddings of the subtokens."
   ]
  },
  {
   "cell_type": "code",
   "execution_count": 18,
   "id": "66912f4a",
   "metadata": {
    "scrolled": true
   },
   "outputs": [
    {
     "name": "stdout",
     "output_type": "stream",
     "text": [
      "Added additional paraphrases & synonyms of sample PIEs.\n",
      "The final word-embedding string mapping contains 2553 tokens\n"
     ]
    }
   ],
   "source": [
    "COMMON_PARAPHRASES = WORDLIST_DICT['paraphrases']\n",
    "for paraphrase in COMMON_PARAPHRASES:\n",
    "    # Get the average embeddings for each paraphrase\n",
    "    tok_ids = tokenizer.encode(paraphrase, add_special_tokens=False)\n",
    "    emb_vec = get_average_embedding(tok_ids)\n",
    "    para_emb_str = get_embedding_string(emb_vec)\n",
    "\n",
    "    # Append to the mapping dictionary\n",
    "    word_emb_str_mapping[paraphrase] = para_emb_str\n",
    "    \n",
    "print(\"Added additional paraphrases & synonyms of sample PIEs.\")\n",
    "print(f\"The final word-embedding string mapping contains {len(word_emb_str_mapping)} tokens\")"
   ]
  },
  {
   "cell_type": "markdown",
   "id": "9b94fa70",
   "metadata": {},
   "source": [
    "### Add the MAGPIE words as well\n",
    "Add all the words selected from MAGPIE corpus"
   ]
  },
  {
   "cell_type": "code",
   "execution_count": 19,
   "id": "f706bb3a",
   "metadata": {},
   "outputs": [
    {
     "name": "stdout",
     "output_type": "stream",
     "text": [
      "Added words from MAGPIE corpus!\n",
      "The final word-embedding string mapping contains 3980 tokens\n"
     ]
    }
   ],
   "source": [
    "for mword in MAGPIE_WORD_SET:\n",
    "    # Get the average embeddings for each word\n",
    "    tok_ids = tokenizer.encode(mword, add_special_tokens=False)\n",
    "    emb_vec = get_average_embedding(tok_ids)\n",
    "    mword_emb_str = get_embedding_string(emb_vec)\n",
    "\n",
    "    # Append to the mapping dictionary\n",
    "    word_emb_str_mapping[mword] = mword_emb_str\n",
    "    \n",
    "print(\"Added words from MAGPIE corpus!\")\n",
    "print(f\"The final word-embedding string mapping contains {len(word_emb_str_mapping)} tokens\")"
   ]
  },
  {
   "cell_type": "markdown",
   "id": "c5f96078",
   "metadata": {},
   "source": [
    "## Save the tokens and embedding strings into separate files"
   ]
  },
  {
   "cell_type": "code",
   "execution_count": 20,
   "id": "d4118cf8",
   "metadata": {},
   "outputs": [
    {
     "name": "stdout",
     "output_type": "stream",
     "text": [
      "Final number of words:2720\n"
     ]
    }
   ],
   "source": [
    "# Maintain a very specific order of words and be consistent across different experiments!!!\n",
    "# 1. Combine the PIEs, paraphrases, the words from WORDLIST_DICT and the MAGPIE words \n",
    "# 2. Remove duplicates!!\n",
    "# 3. and sort them!!\n",
    "final_word_set = set(WORDLIST_DICT['PIE_list'] + WORDLIST_DICT['paraphrases'] + WORDLIST_DICT['words'] + list(MAGPIE_WORD_SET))\n",
    "SORTED_word_list = list(sorted(final_word_set))\n",
    "\n",
    "print(f'Final number of words:{len(SORTED_word_list)}')"
   ]
  },
  {
   "cell_type": "code",
   "execution_count": 21,
   "id": "4506ddb0",
   "metadata": {
    "scrolled": true
   },
   "outputs": [
    {
     "name": "stdout",
     "output_type": "stream",
     "text": [
      "Saved word and embedding TSV files at ./embedding_dump_full/\n"
     ]
    }
   ],
   "source": [
    "outfile_prefix = exp_name + '_' + wordlist_set_NAME\n",
    "word_file_path = os.path.join(dump_dir, outfile_prefix + '_words.tsv')\n",
    "embedding_file_path = os.path.join(dump_dir, outfile_prefix + '_vectors.tsv')\n",
    "\n",
    "# For every token in the additional tokens, get the embedding vector\n",
    "# Append the token to word_file, append the tab-separated emebeddings to embeddings_file\n",
    "with open(word_file_path, 'a') as word_file:\n",
    "    with open(embedding_file_path, 'a') as embedding_file:\n",
    "        # Write to the file in the exact same order!!\n",
    "        for tok_word in SORTED_word_list:\n",
    "            emb_str = word_emb_str_mapping[tok_word]\n",
    "            # Save tok_word\n",
    "            word_file.write(tok_word + '\\n')\n",
    "            # Save emb_str\n",
    "            embedding_file.write(emb_str + '\\n')\n",
    "\n",
    "print(f'Saved word and embedding TSV files at {dump_dir}')"
   ]
  },
  {
   "cell_type": "code",
   "execution_count": null,
   "id": "1f8dbfd1",
   "metadata": {},
   "outputs": [],
   "source": [
    "    "
   ]
  },
  {
   "cell_type": "code",
   "execution_count": null,
   "id": "c016170e",
   "metadata": {},
   "outputs": [],
   "source": []
  }
 ],
 "metadata": {
  "kernelspec": {
   "display_name": "LAB_VENV",
   "language": "python",
   "name": "lab_venv"
  },
  "language_info": {
   "codemirror_mode": {
    "name": "ipython",
    "version": 3
   },
   "file_extension": ".py",
   "mimetype": "text/x-python",
   "name": "python",
   "nbconvert_exporter": "python",
   "pygments_lexer": "ipython3",
   "version": "3.8.10"
  }
 },
 "nbformat": 4,
 "nbformat_minor": 5
}
