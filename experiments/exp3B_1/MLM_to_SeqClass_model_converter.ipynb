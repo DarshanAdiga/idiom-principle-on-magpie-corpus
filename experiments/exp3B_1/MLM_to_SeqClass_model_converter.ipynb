{
 "cells": [
  {
   "cell_type": "markdown",
   "metadata": {},
   "source": [
    "# Convert MaskedLM model to a SequenceClassification model"
   ]
  },
  {
   "cell_type": "code",
   "execution_count": 2,
   "metadata": {
    "collapsed": true
   },
   "outputs": [],
   "source": [
    "from transformers import AutoModelForMaskedLM, AutoModelForSequenceClassification\n",
    "from transformers import AutoTokenizer\n",
    "import os"
   ]
  },
  {
   "cell_type": "code",
   "execution_count": 3,
   "metadata": {
    "collapsed": true
   },
   "outputs": [],
   "source": [
    "local_model_base_dir = '../../local_models/'"
   ]
  },
  {
   "cell_type": "code",
   "execution_count": 4,
   "metadata": {
    "collapsed": true
   },
   "outputs": [],
   "source": [
    "MaskedLM_model_path = local_model_base_dir + 'bert-base-uncased_MaskedLM_STR_option1_3B1_pretrained'\n",
    "SeqClassification_model_path = local_model_base_dir + 'bert-base-uncased_MaskedLM_STR_option1_3B1_pretrained_SC'"
   ]
  },
  {
   "cell_type": "code",
   "execution_count": 4,
   "metadata": {},
   "outputs": [],
   "source": [
    "if os.path.exists(SeqClassification_model_path):\n",
    "    err = f\"Error! Directory {SeqClassification_model_path} already exists!\"\n",
    "    raise Exception(err)"
   ]
  },
  {
   "cell_type": "markdown",
   "metadata": {},
   "source": [
    "## Load as Masked LM and save as SequenceClassification model"
   ]
  },
  {
   "cell_type": "code",
   "execution_count": 5,
   "metadata": {},
   "outputs": [
    {
     "name": "stdout",
     "output_type": "stream",
     "text": [
      "Going to load the MaskedLM model from ../../local_models/bert-base-uncased_MaskedLM_STR_option1_3B1_pretrained and convert it into a SequenceClassification model and save it at ../../local_models/bert-base-uncased_MaskedLM_STR_option1_3B1_pretrained_SC\n"
     ]
    }
   ],
   "source": [
    "print(f\"Going to load the MaskedLM model from {MaskedLM_model_path} and convert it into a SequenceClassification \\\n",
    "model and save it at {SeqClassification_model_path}\")"
   ]
  },
  {
   "cell_type": "code",
   "execution_count": 6,
   "metadata": {},
   "outputs": [
    {
     "name": "stderr",
     "output_type": "stream",
     "text": [
      "Some weights of the model checkpoint at ../../local_models/bert-base-uncased_MaskedLM_STR_option1_3B1_pretrained were not used when initializing BertForSequenceClassification: ['cls.predictions.transform.dense.weight', 'cls.predictions.decoder.weight', 'cls.predictions.decoder.bias', 'cls.predictions.transform.LayerNorm.bias', 'cls.predictions.transform.LayerNorm.weight', 'cls.predictions.bias', 'cls.predictions.transform.dense.bias']\n",
      "- This IS expected if you are initializing BertForSequenceClassification from the checkpoint of a model trained on another task or with another architecture (e.g. initializing a BertForSequenceClassification model from a BertForPreTraining model).\n",
      "- This IS NOT expected if you are initializing BertForSequenceClassification from the checkpoint of a model that you expect to be exactly identical (initializing a BertForSequenceClassification model from a BertForSequenceClassification model).\n",
      "Some weights of BertForSequenceClassification were not initialized from the model checkpoint at ../../local_models/bert-base-uncased_MaskedLM_STR_option1_3B1_pretrained and are newly initialized: ['bert.pooler.dense.weight', 'classifier.bias', 'bert.pooler.dense.bias', 'classifier.weight']\n",
      "You should probably TRAIN this model on a down-stream task to be able to use it for predictions and inference.\n"
     ]
    }
   ],
   "source": [
    "# Load the models\n",
    "model = AutoModelForSequenceClassification.from_pretrained(MaskedLM_model_path)\n",
    "tokenizer = AutoTokenizer.from_pretrained(MaskedLM_model_path, use_fast=False, truncation=True)"
   ]
  },
  {
   "cell_type": "code",
   "execution_count": 7,
   "metadata": {},
   "outputs": [
    {
     "name": "stdout",
     "output_type": "stream",
     "text": [
      "Saved the SequenceClassification model at ../../local_models/bert-base-uncased_MaskedLM_STR_option1_3B1_pretrained_SC\n"
     ]
    }
   ],
   "source": [
    "# Save the models\n",
    "model.save_pretrained(SeqClassification_model_path)\n",
    "tokenizer.save_pretrained(SeqClassification_model_path)\n",
    "print(f\"Saved the SequenceClassification model at {SeqClassification_model_path}\")"
   ]
  },
  {
   "cell_type": "markdown",
   "metadata": {},
   "source": [
    "## Test the tokenzer"
   ]
  },
  {
   "cell_type": "code",
   "execution_count": 20,
   "metadata": {},
   "outputs": [
    {
     "name": "stdout",
     "output_type": "stream",
     "text": [
      "Tokenized: ['this', 'is', 'a', 'idoffthebeatentrackid']\n",
      "Encoded: [101, 2023, 2003, 1037, 30522, 102]\n",
      "\n",
      "Tokenized: ['this', 'is', 'a', 'idchapterandverseid']\n",
      "Encoded: [101, 2023, 2003, 1037, 30530, 102]\n",
      "\n",
      "Tokenized: ['this', 'is', 'a', 'idjointheclubid']\n",
      "Encoded: [101, 2023, 2003, 1037, 30825, 102]\n",
      "\n",
      "Tokenized: ['this', 'is', 'a', 'idtietheknotid']\n",
      "Encoded: [101, 2023, 2003, 1037, 31366, 102]\n",
      "\n",
      "\n",
      "\n",
      "SUCCESS!! The ../../local_models/bert-base-uncased_MaskedLM_STR_option1_3B1_pretrained_SC model has been updated with new tokens!!\n"
     ]
    }
   ],
   "source": [
    "# Test for MWE single-tokens\n",
    "test_tokens = [\"IDoffthebeatentrackID\", \"IDchapterandverseID\", \"IDjointheclubID\", \"IDtietheknotID\"]\n",
    "\n",
    "for token in test_tokens:\n",
    "    assert tokenizer.tokenize(f'This is a {token}')[-1] == token.lower()\n",
    "    test_sent = f'This is a {token}'\n",
    "    print(\"Tokenized:\", tokenizer.tokenize(test_sent))\n",
    "    print(\"Encoded:\", tokenizer.encode(test_sent.lower()))\n",
    "    print()\n",
    "\n",
    "print('\\n')\n",
    "print(f'SUCCESS!! The {SeqClassification_model_path} model has been updated with new tokens!!')"
   ]
  },
  {
   "cell_type": "code",
   "execution_count": null,
   "metadata": {
    "collapsed": true
   },
   "outputs": [],
   "source": []
  }
 ],
 "metadata": {
  "anaconda-cloud": {},
  "kernelspec": {
   "display_name": "Python [conda env:dis_venv_1]",
   "language": "python",
   "name": "conda-env-dis_venv_1-py"
  },
  "language_info": {
   "codemirror_mode": {
    "name": "ipython",
    "version": 3
   },
   "file_extension": ".py",
   "mimetype": "text/x-python",
   "name": "python",
   "nbconvert_exporter": "python",
   "pygments_lexer": "ipython3",
   "version": "3.8.13"
  }
 },
 "nbformat": 4,
 "nbformat_minor": 2
}
