{
 "cells": [
  {
   "cell_type": "markdown",
   "id": "KCZSTnEIwzeW",
   "metadata": {
    "id": "KCZSTnEIwzeW"
   },
   "source": [
    "# Experiment: Exp0"
   ]
  },
  {
   "cell_type": "code",
   "execution_count": 1,
   "id": "GAttiuDPwnCc",
   "metadata": {
    "id": "GAttiuDPwnCc"
   },
   "outputs": [],
   "source": [
    "import pandas as pd\n",
    "pd.options.display.max_colwidth=500\n",
    "\n",
    "import os\n",
    "import sys"
   ]
  },
  {
   "cell_type": "markdown",
   "id": "Uo3wGcP75Zaa",
   "metadata": {
    "id": "Uo3wGcP75Zaa"
   },
   "source": [
    "## Experiment Setup"
   ]
  },
  {
   "cell_type": "code",
   "execution_count": 2,
   "id": "5f1f49ed",
   "metadata": {
    "id": "5f1f49ed"
   },
   "outputs": [],
   "source": [
    "root_dir = '../../'\n",
    "base_dir = root_dir + 'data/magpie/'\n",
    "data_file = base_dir + 'processed_with_context_MAGPIE_filtered_split_typebased.csv'\n",
    "\n",
    "# NOTE: This notebook should ideally modify only the contents of this exp_dir.\n",
    "exp_dir = './'\n",
    "tmp_dir = exp_dir + 'tmp/'"
   ]
  },
  {
   "cell_type": "code",
   "execution_count": 3,
   "id": "Mh4PU__T3J4K",
   "metadata": {
    "id": "Mh4PU__T3J4K"
   },
   "outputs": [],
   "source": [
    "if not os.path.isdir(tmp_dir):\n",
    "    os.makedirs(tmp_dir)"
   ]
  },
  {
   "cell_type": "code",
   "execution_count": 4,
   "id": "fe3ba613",
   "metadata": {
    "colab": {
     "base_uri": "https://localhost:8080/",
     "height": 606
    },
    "executionInfo": {
     "elapsed": 1569,
     "status": "ok",
     "timestamp": 1657806539041,
     "user": {
      "displayName": "Darshan Adiga Haniya Narayana",
      "userId": "13149745487125032133"
     },
     "user_tz": -60
    },
    "id": "fe3ba613",
    "outputId": "9e586b93-467c-445e-c47e-ebd0b0adcd12",
    "scrolled": true
   },
   "outputs": [
    {
     "data": {
      "text/html": [
       "<div>\n",
       "<style scoped>\n",
       "    .dataframe tbody tr th:only-of-type {\n",
       "        vertical-align: middle;\n",
       "    }\n",
       "\n",
       "    .dataframe tbody tr th {\n",
       "        vertical-align: top;\n",
       "    }\n",
       "\n",
       "    .dataframe thead th {\n",
       "        text-align: right;\n",
       "    }\n",
       "</style>\n",
       "<table border=\"1\" class=\"dataframe\">\n",
       "  <thead>\n",
       "    <tr style=\"text-align: right;\">\n",
       "      <th></th>\n",
       "      <th>sentence</th>\n",
       "      <th>idiom</th>\n",
       "      <th>confidence</th>\n",
       "      <th>label</th>\n",
       "      <th>split</th>\n",
       "      <th>variant_type</th>\n",
       "    </tr>\n",
       "  </thead>\n",
       "  <tbody>\n",
       "    <tr>\n",
       "      <th>0</th>\n",
       "      <td>Please , can we close the doggy postbag for now ! Remember that RUNNING is looking for all kinds of safety tips . For example , with fell running and mountain marathons gaining in popularity , how about some ideas for safe running off the beaten track ? FITNESS CLINIC DIET</td>\n",
       "      <td>off the beaten track</td>\n",
       "      <td>1.000000</td>\n",
       "      <td>i</td>\n",
       "      <td>training</td>\n",
       "      <td>identical</td>\n",
       "    </tr>\n",
       "    <tr>\n",
       "      <th>1</th>\n",
       "      <td>But it 's a selfish family , I 'd say . They take what they want . I 'd keep him well in the running . Then of course there 's Desmond 's wife — I 'd forgotten her . I did n't get much of an impression of her .</td>\n",
       "      <td>in the running</td>\n",
       "      <td>0.770109</td>\n",
       "      <td>i</td>\n",
       "      <td>training</td>\n",
       "      <td>identical</td>\n",
       "    </tr>\n",
       "    <tr>\n",
       "      <th>2</th>\n",
       "      <td>And I looked behind , and he was just sitting there staring like that . Oh my god . He gives me the creeps , so I looked round , hmm hmm . I mean , what is she doing ? What does she want ?</td>\n",
       "      <td>give someone the creeps</td>\n",
       "      <td>1.000000</td>\n",
       "      <td>i</td>\n",
       "      <td>training</td>\n",
       "      <td>combined-inflection</td>\n",
       "    </tr>\n",
       "    <tr>\n",
       "      <th>3</th>\n",
       "      <td>Especially this year . Makes me hair stand on end just thinking about it.’ ‘ He 's done us proud , as well,’ says Granville . ‘ He had the chance to go to the States with them but he said , ‘ No’ . Other commitments.’</td>\n",
       "      <td>do someone proud</td>\n",
       "      <td>1.000000</td>\n",
       "      <td>i</td>\n",
       "      <td>training</td>\n",
       "      <td>combined-inflection</td>\n",
       "    </tr>\n",
       "    <tr>\n",
       "      <th>4</th>\n",
       "      <td>Rather , what is needed most is a new way of thinking – new “ software ” ( though effective “ hard ” green technologies also are essential ) . As we saw in the postcommunist world , changing attitudes is often the hardest problem of all . People quickly embraced formal democracy , but the tolerance and compromise that is at the heart of the democratic process took time to take root .</td>\n",
       "      <td>take root</td>\n",
       "      <td>1.000000</td>\n",
       "      <td>i</td>\n",
       "      <td>training</td>\n",
       "      <td>identical</td>\n",
       "    </tr>\n",
       "    <tr>\n",
       "      <th>...</th>\n",
       "      <td>...</td>\n",
       "      <td>...</td>\n",
       "      <td>...</td>\n",
       "      <td>...</td>\n",
       "      <td>...</td>\n",
       "      <td>...</td>\n",
       "    </tr>\n",
       "    <tr>\n",
       "      <th>48390</th>\n",
       "      <td>The running of multiple sessions has been another means of saving which , though not always a problem , has led to truncated teaching sessions , late - coming and absenteeism on the part of teachers and pupils . Teacher absenteeism is also exacerbated by general shortages of goods and services : teachers , like other employees , can spend half their days chasing scarce consumer goods for their families , instead of being in the classroom . Many also have second or third jobs to make ends mee...</td>\n",
       "      <td>make ends meet</td>\n",
       "      <td>0.854973</td>\n",
       "      <td>i</td>\n",
       "      <td>test</td>\n",
       "      <td>identical</td>\n",
       "    </tr>\n",
       "    <tr>\n",
       "      <th>48391</th>\n",
       "      <td>you understand the process ? Yeah , yeah Take people to objections , take them to where you want them to be and bear in mind you 're always looking for an objection Yeah right , another thing , we wanna get more quotes , right</td>\n",
       "      <td>bear in mind</td>\n",
       "      <td>1.000000</td>\n",
       "      <td>i</td>\n",
       "      <td>training</td>\n",
       "      <td>identical</td>\n",
       "    </tr>\n",
       "    <tr>\n",
       "      <th>48392</th>\n",
       "      <td>The same implications attach to the playing of games or the membership of clubs and so on , although what is of even more interest are the ' unwritten ' rules which underwrite the more formal , quasi - legal , ones . Without unwritten rules civilised life would be impossible . Indeed we are rarely aware of them as rules , until they are broken , since they are typical of the settings in which we received our moral training . Many were originally instinctive and , to that limited extent , occ...</td>\n",
       "      <td>as a rule</td>\n",
       "      <td>1.000000</td>\n",
       "      <td>l</td>\n",
       "      <td>training</td>\n",
       "      <td>deletion-determiner</td>\n",
       "    </tr>\n",
       "    <tr>\n",
       "      <th>48393</th>\n",
       "      <td>A manufacturer can work closely with its suppliers , co - operating on the development of new components , for instance . It is like being part of the same company , but without the drawbacks . Unlike in a firm that is a jack of all trades , the supplier is an independent business subject to market disciplines rather than another bit of a big bureaucracy . From the supplier 's point of view , the relationship is better than simply one based on contracts , price and open bidding . Though the ...</td>\n",
       "      <td>jack of all trades</td>\n",
       "      <td>1.000000</td>\n",
       "      <td>i</td>\n",
       "      <td>training</td>\n",
       "      <td>identical</td>\n",
       "    </tr>\n",
       "    <tr>\n",
       "      <th>48394</th>\n",
       "      <td>That 's optimistic . The announcement that National Insurance rates are to stay the same is more window - dressing , I think . The Government flies these kites of disinformation then people feel grateful when they do n't happen . The Chancellor has shifted a few factors around , that 's all . Brilliant Brown goes for the jugular</td>\n",
       "      <td>fly a kite</td>\n",
       "      <td>1.000000</td>\n",
       "      <td>i</td>\n",
       "      <td>training</td>\n",
       "      <td>combined-inflection</td>\n",
       "    </tr>\n",
       "  </tbody>\n",
       "</table>\n",
       "<p>48395 rows × 6 columns</p>\n",
       "</div>"
      ],
      "text/plain": [
       "                                                                                                                                                                                                                                                                                                                                                                                                                                                                                                                  sentence  \\\n",
       "0                                                                                                                                                                                                                                        Please , can we close the doggy postbag for now ! Remember that RUNNING is looking for all kinds of safety tips . For example , with fell running and mountain marathons gaining in popularity , how about some ideas for safe running off the beaten track ? FITNESS CLINIC DIET   \n",
       "1                                                                                                                                                                                                                                                                                                       But it 's a selfish family , I 'd say . They take what they want . I 'd keep him well in the running . Then of course there 's Desmond 's wife — I 'd forgotten her . I did n't get much of an impression of her .   \n",
       "2                                                                                                                                                                                                                                                                                                                             And I looked behind , and he was just sitting there staring like that . Oh my god . He gives me the creeps , so I looked round , hmm hmm . I mean , what is she doing ? What does she want ?   \n",
       "3                                                                                                                                                                                                                                                                                                Especially this year . Makes me hair stand on end just thinking about it.’ ‘ He 's done us proud , as well,’ says Granville . ‘ He had the chance to go to the States with them but he said , ‘ No’ . Other commitments.’   \n",
       "4                                                                                                                     Rather , what is needed most is a new way of thinking – new “ software ” ( though effective “ hard ” green technologies also are essential ) . As we saw in the postcommunist world , changing attitudes is often the hardest problem of all . People quickly embraced formal democracy , but the tolerance and compromise that is at the heart of the democratic process took time to take root .     \n",
       "...                                                                                                                                                                                                                                                                                                                                                                                                                                                                                                                    ...   \n",
       "48390  The running of multiple sessions has been another means of saving which , though not always a problem , has led to truncated teaching sessions , late - coming and absenteeism on the part of teachers and pupils . Teacher absenteeism is also exacerbated by general shortages of goods and services : teachers , like other employees , can spend half their days chasing scarce consumer goods for their families , instead of being in the classroom . Many also have second or third jobs to make ends mee...   \n",
       "48391                                                                                                                                                                                                                                                                                   you understand the process ? Yeah , yeah Take people to objections , take them to where you want them to be and bear in mind you 're always looking for an objection Yeah right , another thing , we wanna get more quotes , right   \n",
       "48392  The same implications attach to the playing of games or the membership of clubs and so on , although what is of even more interest are the ' unwritten ' rules which underwrite the more formal , quasi - legal , ones . Without unwritten rules civilised life would be impossible . Indeed we are rarely aware of them as rules , until they are broken , since they are typical of the settings in which we received our moral training . Many were originally instinctive and , to that limited extent , occ...   \n",
       "48393  A manufacturer can work closely with its suppliers , co - operating on the development of new components , for instance . It is like being part of the same company , but without the drawbacks . Unlike in a firm that is a jack of all trades , the supplier is an independent business subject to market disciplines rather than another bit of a big bureaucracy . From the supplier 's point of view , the relationship is better than simply one based on contracts , price and open bidding . Though the ...   \n",
       "48394                                                                                                                                                                           That 's optimistic . The announcement that National Insurance rates are to stay the same is more window - dressing , I think . The Government flies these kites of disinformation then people feel grateful when they do n't happen . The Chancellor has shifted a few factors around , that 's all . Brilliant Brown goes for the jugular   \n",
       "\n",
       "                         idiom  confidence label     split  \\\n",
       "0         off the beaten track    1.000000     i  training   \n",
       "1               in the running    0.770109     i  training   \n",
       "2      give someone the creeps    1.000000     i  training   \n",
       "3             do someone proud    1.000000     i  training   \n",
       "4                    take root    1.000000     i  training   \n",
       "...                        ...         ...   ...       ...   \n",
       "48390           make ends meet    0.854973     i      test   \n",
       "48391             bear in mind    1.000000     i  training   \n",
       "48392                as a rule    1.000000     l  training   \n",
       "48393       jack of all trades    1.000000     i  training   \n",
       "48394               fly a kite    1.000000     i  training   \n",
       "\n",
       "              variant_type  \n",
       "0                identical  \n",
       "1                identical  \n",
       "2      combined-inflection  \n",
       "3      combined-inflection  \n",
       "4                identical  \n",
       "...                    ...  \n",
       "48390            identical  \n",
       "48391            identical  \n",
       "48392  deletion-determiner  \n",
       "48393            identical  \n",
       "48394  combined-inflection  \n",
       "\n",
       "[48395 rows x 6 columns]"
      ]
     },
     "execution_count": 4,
     "metadata": {},
     "output_type": "execute_result"
    }
   ],
   "source": [
    "df_data = pd.read_csv(data_file)\n",
    "df_data"
   ]
  },
  {
   "cell_type": "code",
   "execution_count": 5,
   "id": "6f7355ab",
   "metadata": {
    "id": "6f7355ab"
   },
   "outputs": [],
   "source": [
    "columns=['sentence', 'idiom', 'confidence', 'label', 'split', 'variant_type']"
   ]
  },
  {
   "cell_type": "markdown",
   "id": "C52nDzJG09z6",
   "metadata": {
    "id": "C52nDzJG09z6"
   },
   "source": [
    "## Prepare & save the train, dev & test sets"
   ]
  },
  {
   "cell_type": "code",
   "execution_count": 6,
   "id": "F8XjnVNz2PuK",
   "metadata": {
    "id": "F8XjnVNz2PuK"
   },
   "outputs": [],
   "source": [
    "label_to_id = {'i': 0, 'l': 1}"
   ]
  },
  {
   "cell_type": "code",
   "execution_count": 7,
   "id": "DBTb2rUkwJK8",
   "metadata": {
    "colab": {
     "base_uri": "https://localhost:8080/"
    },
    "executionInfo": {
     "elapsed": 13,
     "status": "ok",
     "timestamp": 1657806539044,
     "user": {
      "displayName": "Darshan Adiga Haniya Narayana",
      "userId": "13149745487125032133"
     },
     "user_tz": -60
    },
    "id": "DBTb2rUkwJK8",
    "outputId": "b94ffaa9-84a5-467b-8122-6b567308f014"
   },
   "outputs": [
    {
     "data": {
      "text/plain": [
       "training       38715\n",
       "test            4840\n",
       "development     4840\n",
       "Name: split, dtype: int64"
      ]
     },
     "execution_count": 7,
     "metadata": {},
     "output_type": "execute_result"
    }
   ],
   "source": [
    "df_data['split'].value_counts()"
   ]
  },
  {
   "cell_type": "code",
   "execution_count": 8,
   "id": "OqaBa6Pl004w",
   "metadata": {
    "id": "OqaBa6Pl004w"
   },
   "outputs": [],
   "source": [
    "df_tmp = df_data[['sentence', 'label', 'split']]\n",
    "\n",
    "df_train = df_tmp[df_tmp['split'] == 'training']\n",
    "df_dev = df_tmp[df_tmp['split'] == 'development']\n",
    "df_test = df_tmp[df_tmp['split'] == 'test']\n",
    "\n",
    "def clean_df(df):\n",
    "    \"\"\"Clean each of the datasets\"\"\"\n",
    "    df = df.drop(columns=['split'])\n",
    "    df['label'] = df['label'].map(label_to_id)\n",
    "    return df\n",
    "\n",
    "# Clean the datasets\n",
    "df_train, df_dev, df_test = [clean_df(df) for df in [df_train, df_dev, df_test]]"
   ]
  },
  {
   "cell_type": "code",
   "execution_count": 9,
   "id": "AoN6C7nj1z8E",
   "metadata": {
    "colab": {
     "base_uri": "https://localhost:8080/"
    },
    "executionInfo": {
     "elapsed": 622,
     "status": "ok",
     "timestamp": 1657806539656,
     "user": {
      "displayName": "Darshan Adiga Haniya Narayana",
      "userId": "13149745487125032133"
     },
     "user_tz": -60
    },
    "id": "AoN6C7nj1z8E",
    "outputId": "605daebb-3795-4c69-f316-2ca9d4852ca0"
   },
   "outputs": [
    {
     "name": "stdout",
     "output_type": "stream",
     "text": [
      "Saved the files to ./tmp/\n"
     ]
    }
   ],
   "source": [
    "# Save data to tmp files\n",
    "train_csv = tmp_dir + 'train.csv'\n",
    "dev_csv = tmp_dir + 'dev.csv'\n",
    "test_csv = tmp_dir + 'test.csv'\n",
    "\n",
    "df_train.to_csv(train_csv, index=False)\n",
    "df_dev.to_csv(dev_csv, index=False)\n",
    "df_test.to_csv(test_csv, index=False)\n",
    "print(f'Saved the files to {tmp_dir}')"
   ]
  },
  {
   "cell_type": "code",
   "execution_count": null,
   "id": "a4c70c5b",
   "metadata": {},
   "outputs": [],
   "source": []
  }
 ],
 "metadata": {
  "accelerator": "GPU",
  "colab": {
   "collapsed_sections": [],
   "name": "exp0.ipynb",
   "provenance": [
    {
     "file_id": "https://github.com/DarshanAdiga/idiom_principle_on_magpie_corpus/blob/main/notebooks/data_utils.ipynb",
     "timestamp": 1657750032837
    }
   ]
  },
  "gpuClass": "standard",
  "kernelspec": {
   "display_name": "Python 3 (ipykernel)",
   "language": "python",
   "name": "python3"
  },
  "language_info": {
   "codemirror_mode": {
    "name": "ipython",
    "version": 3
   },
   "file_extension": ".py",
   "mimetype": "text/x-python",
   "name": "python",
   "nbconvert_exporter": "python",
   "pygments_lexer": "ipython3",
   "version": "3.8.10"
  },
  "vscode": {
   "interpreter": {
    "hash": "916dbcbb3f70747c44a77c7bcd40155683ae19c65e1c03b4aa3499c5328201f1"
   }
  }
 },
 "nbformat": 4,
 "nbformat_minor": 5
}
