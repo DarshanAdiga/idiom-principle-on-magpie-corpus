{
 "cells": [
  {
   "cell_type": "code",
   "execution_count": 1,
   "id": "86614537",
   "metadata": {},
   "outputs": [
    {
     "name": "stderr",
     "output_type": "stream",
     "text": [
      "[nltk_data] Downloading package stopwords to\n",
      "[nltk_data]     /home/darshan/nltk_data...\n",
      "[nltk_data]   Package stopwords is already up-to-date!\n"
     ]
    }
   ],
   "source": [
    "from transformers import AutoModelForMaskedLM, AutoModelForSequenceClassification\n",
    "from transformers import AutoTokenizer\n",
    "\n",
    "import pandas as pd\n",
    "import numpy as np\n",
    "import re\n",
    "import os\n",
    "import sys\n",
    "import shutil\n",
    "\n",
    "import string\n",
    "import nltk\n",
    "from nltk.corpus import stopwords\n",
    "nltk.download('stopwords')\n",
    "\n",
    "from collections import defaultdict"
   ]
  },
  {
   "cell_type": "code",
   "execution_count": 2,
   "id": "ad63ee67",
   "metadata": {},
   "outputs": [
    {
     "name": "stdout",
     "output_type": "stream",
     "text": [
      "Model path:../../local_models/bert-base-uncased_SequenceClassification_STR_option1\n"
     ]
    }
   ],
   "source": [
    "local_model_base_dir = '../../local_models/'\n",
    "# Location of the model with single-tokens\n",
    "model_name = 'bert-base-uncased_SequenceClassification_STR_option1'\n",
    "model_checkpoint_dir = local_model_base_dir + model_name\n",
    "print(f'Model path:{model_checkpoint_dir}')"
   ]
  },
  {
   "cell_type": "code",
   "execution_count": 3,
   "id": "049b9c5d",
   "metadata": {},
   "outputs": [],
   "source": [
    "# Experiment name\n",
    "exp_name = 'exp3A_1'\n",
    "\n",
    "IS_BERTRAM_FORMAT = False\n",
    "\n",
    "token_PIE_mapping_file = '../../data/token_files/option1_idioms.csv'"
   ]
  },
  {
   "cell_type": "code",
   "execution_count": 4,
   "id": "c970d93f",
   "metadata": {},
   "outputs": [
    {
     "name": "stdout",
     "output_type": "stream",
     "text": [
      "Should BERTRAM format be used: False\n"
     ]
    }
   ],
   "source": [
    "print(f\"Should BERTRAM format be used: {IS_BERTRAM_FORMAT}\")"
   ]
  },
  {
   "cell_type": "code",
   "execution_count": 5,
   "id": "906d7f8d",
   "metadata": {},
   "outputs": [],
   "source": [
    "# Output directory\n",
    "dump_dir = './embedding_dump/'"
   ]
  },
  {
   "cell_type": "code",
   "execution_count": null,
   "id": "dacadfa3",
   "metadata": {},
   "outputs": [],
   "source": []
  },
  {
   "cell_type": "markdown",
   "id": "128ad95e",
   "metadata": {},
   "source": [
    "# Add paraphrases of sample PIEs\n",
    "In addition to the PIE single tokens and their constituent words, synonyms and paraphrases for some of the interesting PIEs are also included in the embedding space for the study."
   ]
  },
  {
   "cell_type": "code",
   "execution_count": 6,
   "id": "520e0ccc",
   "metadata": {
    "scrolled": true
   },
   "outputs": [
    {
     "data": {
      "text/plain": [
       "{'absolute lowest',\n",
       " 'all time low',\n",
       " 'basement',\n",
       " 'behind bars',\n",
       " 'bliss',\n",
       " 'bottom floor',\n",
       " 'busy',\n",
       " 'cheapest',\n",
       " 'cliffhanger',\n",
       " 'close one',\n",
       " 'close shave',\n",
       " 'crazy',\n",
       " 'dated',\n",
       " 'defenseless',\n",
       " 'die',\n",
       " 'disclose a secret',\n",
       " 'down low',\n",
       " 'easy prey',\n",
       " 'easy target',\n",
       " 'euphoria',\n",
       " 'ex girlfriend',\n",
       " 'exposed',\n",
       " 'first floor',\n",
       " 'first story',\n",
       " 'food chain',\n",
       " 'former lover',\n",
       " 'ground level',\n",
       " 'heaven',\n",
       " 'helpless',\n",
       " 'hierarchy',\n",
       " 'in heaven',\n",
       " 'inactive person',\n",
       " 'inconspicuous',\n",
       " 'land',\n",
       " 'lazy',\n",
       " 'lazy person',\n",
       " 'lost cause',\n",
       " 'low key',\n",
       " 'lowest point',\n",
       " 'meet and talk in a friendly way',\n",
       " 'near miss',\n",
       " 'nervous wreck',\n",
       " 'old fashioned',\n",
       " 'old love',\n",
       " 'old lover',\n",
       " 'old news',\n",
       " 'old-fashioned',\n",
       " 'out of date',\n",
       " 'passed away',\n",
       " 'past love',\n",
       " 'politically unstable',\n",
       " 'pushover',\n",
       " 'recall something',\n",
       " 'reveal something',\n",
       " 'sedentary individual',\n",
       " 'shy',\n",
       " 'shy person',\n",
       " 'small nation',\n",
       " 'spill the coffee',\n",
       " 'sweet',\n",
       " 'take part in dangerous undertaking',\n",
       " 'third world country',\n",
       " 'to awaken',\n",
       " 'to forgive someone',\n",
       " 'top of the world',\n",
       " 'uninteresting',\n",
       " 'wallflower',\n",
       " 'wuss'}"
      ]
     },
     "execution_count": 6,
     "metadata": {},
     "output_type": "execute_result"
    }
   ],
   "source": [
    "paraphrases_and_synonyms = set()\n",
    "\n",
    "nctti_synonyms = {\n",
    " 'absolute lowest', 'all time low', 'basement', 'bliss', 'bottom floor', 'cheapest', 'cliffhanger', 'close one',\n",
    " 'close shave', 'crazy', 'dated', 'defenseless', 'down low', 'easy prey', 'easy target', 'euphoria', 'ex girlfriend', 'exposed',\n",
    " 'first floor', 'first story', 'food chain', 'former lover', 'ground level', 'heaven', 'helpless', 'hierarchy', 'in heaven',\n",
    " 'inactive person', 'inconspicuous', 'land', 'lazy', 'lazy person', 'lost cause', 'low key', 'lowest point', 'near miss',\n",
    " 'nervous wreck', 'old fashioned', 'old love', 'old lover', 'old news', 'old-fashioned', 'out of date', 'past love',\n",
    " 'politically unstable', 'pushover', 'sedentary individual', 'shy', 'shy person', 'small nation', 'sweet', 'third world country',\n",
    " 'top of the world', 'uninteresting', 'wallflower', 'wuss'\n",
    "}\n",
    "\n",
    "#\"keep a low profile\", \n",
    "#\"pecking order\",\n",
    "#\"old hat\",\n",
    "#\"close call\",\n",
    "#\"rock bottom\",\n",
    "#\"basket case\",\n",
    "#\"on cloud nine\",\n",
    "#\"get in on the ground floor\",\n",
    "#\"couch potato\",\n",
    "#\"shrinking violet\",\n",
    "#\"sitting duck\",\n",
    "#\"an old flame\",\n",
    "#\"banana republic\",\n",
    "\n",
    "\n",
    "interesting_PIEs = {\n",
    "    \"behind bars\", #in prison\n",
    "    \"meet and talk in a friendly way\", #rub shoulders\n",
    "    \"to awaken\", \"recall something\", #ring a bell\n",
    "    \"take part in dangerous undertaking\", #play with fire\n",
    "    \"to forgive someone\", #let bygones be bygones\n",
    "    \"busy\", #chase your tail \n",
    "    \"die\", \"passed away\", #kick the bucket\n",
    "    \"disclose a secret\", \"reveal something\", #spill the beans\n",
    "    \"spill the coffee\"\n",
    "}\n",
    "\n",
    "paraphrases_and_synonyms.update(nctti_synonyms)\n",
    "paraphrases_and_synonyms.update(interesting_PIEs)\n",
    "paraphrases_and_synonyms"
   ]
  },
  {
   "cell_type": "code",
   "execution_count": null,
   "id": "65068a5d",
   "metadata": {},
   "outputs": [],
   "source": []
  },
  {
   "cell_type": "code",
   "execution_count": 7,
   "id": "07e4bf0f",
   "metadata": {},
   "outputs": [
    {
     "data": {
      "text/html": [
       "<div>\n",
       "<style scoped>\n",
       "    .dataframe tbody tr th:only-of-type {\n",
       "        vertical-align: middle;\n",
       "    }\n",
       "\n",
       "    .dataframe tbody tr th {\n",
       "        vertical-align: top;\n",
       "    }\n",
       "\n",
       "    .dataframe thead th {\n",
       "        text-align: right;\n",
       "    }\n",
       "</style>\n",
       "<table border=\"1\" class=\"dataframe\">\n",
       "  <thead>\n",
       "    <tr style=\"text-align: right;\">\n",
       "      <th></th>\n",
       "      <th>idiom</th>\n",
       "      <th>idiom_token</th>\n",
       "    </tr>\n",
       "  </thead>\n",
       "  <tbody>\n",
       "    <tr>\n",
       "      <th>0</th>\n",
       "      <td>off the beaten track</td>\n",
       "      <td>IDoffthebeatentrackID</td>\n",
       "    </tr>\n",
       "    <tr>\n",
       "      <th>1</th>\n",
       "      <td>in the running</td>\n",
       "      <td>IDintherunningID</td>\n",
       "    </tr>\n",
       "    <tr>\n",
       "      <th>2</th>\n",
       "      <td>give someone the creeps</td>\n",
       "      <td>IDgivesomeonethecreepsID</td>\n",
       "    </tr>\n",
       "    <tr>\n",
       "      <th>3</th>\n",
       "      <td>do someone proud</td>\n",
       "      <td>IDdosomeoneproudID</td>\n",
       "    </tr>\n",
       "    <tr>\n",
       "      <th>4</th>\n",
       "      <td>take root</td>\n",
       "      <td>IDtakerootID</td>\n",
       "    </tr>\n",
       "  </tbody>\n",
       "</table>\n",
       "</div>"
      ],
      "text/plain": [
       "                     idiom               idiom_token\n",
       "0     off the beaten track     IDoffthebeatentrackID\n",
       "1           in the running          IDintherunningID\n",
       "2  give someone the creeps  IDgivesomeonethecreepsID\n",
       "3         do someone proud        IDdosomeoneproudID\n",
       "4                take root              IDtakerootID"
      ]
     },
     "execution_count": 7,
     "metadata": {},
     "output_type": "execute_result"
    }
   ],
   "source": [
    "# Load the PIEs and token strings\n",
    "df_pie_token_mapping = pd.read_csv(token_PIE_mapping_file)\n",
    "magpie_token_list = df_pie_token_mapping['idiom_token'].values\n",
    "\n",
    "if IS_BERTRAM_FORMAT:\n",
    "    # Convert the tokens to <BERTRAM:...> format\n",
    "    df_pie_token_mapping['idiom_token'] = df_pie_token_mapping['idiom_token'].map(lambda t: f\"<BERTRAM:{t}>\")\n",
    "    print('Converted to BERTRAM format')\n",
    "\n",
    "df_pie_token_mapping.head()"
   ]
  },
  {
   "cell_type": "markdown",
   "id": "48f01720",
   "metadata": {},
   "source": [
    "## Consider all the tokens in the MAGPIE corpus"
   ]
  },
  {
   "cell_type": "code",
   "execution_count": 8,
   "id": "62e448cd",
   "metadata": {},
   "outputs": [
    {
     "name": "stdout",
     "output_type": "stream",
     "text": [
      "Obtained 10808 words from MAGPIE corpus\n"
     ]
    }
   ],
   "source": [
    "en_stopwords = stopwords.words('english')\n",
    "punc_remo_trans = str.maketrans('', '', string.punctuation)\n",
    "\n",
    "en_stopwords.extend(magpie_token_list.tolist())\n",
    "\n",
    "# Load the magpie training set\n",
    "magpie_dataset = '../../data/magpie/processed_MAGPIE_filtered_split_typebased.csv'\n",
    "df_magpie = pd.read_csv(magpie_dataset)\n",
    "sent_list = df_magpie['sentence_0'].values\n",
    "\n",
    "MIN_COUNT=5\n",
    "MAX_COUNT=150\n",
    "MAGPIE_WORD_LIST = set()\n",
    "# Add all the unique, non-stop words to a list (exclude the single tokens as well)\n",
    "word_counter = defaultdict(int)\n",
    "for sent in sent_list:\n",
    "    sent = sent.translate(punc_remo_trans)\n",
    "    words = [word for word in sent.lower().split() if word not in en_stopwords]\n",
    "    words = [word for word in words if word.isalpha()]\n",
    "    # Count the word occurences\n",
    "    for word in words:\n",
    "        word_counter[word] += 1\n",
    "\n",
    "# Filter out very frequent and very rare words\n",
    "final_words = [word for word,count in word_counter.items() if count > MIN_COUNT and count < MAX_COUNT]\n",
    "MAGPIE_WORD_LIST = set(final_words)\n",
    "\n",
    "print(f\"Obtained {len(MAGPIE_WORD_LIST)} words from MAGPIE corpus\")"
   ]
  },
  {
   "cell_type": "code",
   "execution_count": 9,
   "id": "5fb6d525",
   "metadata": {},
   "outputs": [],
   "source": [
    "# print(sorted(word_counter.items(), key=lambda p: p[1]))"
   ]
  },
  {
   "cell_type": "code",
   "execution_count": 10,
   "id": "d135b870",
   "metadata": {
    "scrolled": true
   },
   "outputs": [
    {
     "name": "stdout",
     "output_type": "stream",
     "text": [
      "{'ceased', 'pole', 'lorry', 'christians', 'barbara', 'lush', 'circus', 'backed', 'starting', 'latter', 'vaughan', 'springboks', 'reminder', 'singer', 'notion', 'duty', 'clothing', 'overboard', 'prone', 'successful', 'centred', 'du', 'gloucester', 'decide', 'administered', 'guess', 'andy', 'jockeying', 'academic', 'politely', 'smack', 'currency', 'handling', 'gallop', 'lone', 'hub', 'spotting', 'dec', 'interface', 'events', 'sizes', 'armchair', 'admitting', 'chatted', 'nests', 'mirrors', 'delays', 'worthy', 'beam', 'locks', 'peter', 'turnover', 'doubts', 'nylon', 'cheaper', 'emphasized', 'navigation', 'throws', 'discount', 'joshua', 'fees', 'brushing', 'strip', 'limb', 'stead', 'spectacle', 'perceived', 'surgeon', 'acquiring', 'leon', 'worth', 'laden', 'subordinate', 'glue', 'emergency', 'garage', 'imprisonment', 'dent', 'warp', 'quotes', 'tooth', 'rosie', 'plays', 'robert', 'whichever', 'lawyers', 'assessment', 'parable', 'billions', 'equilibrium', 'wick', 'join', 'connected', 'ing', 'miraculously', 'pontypool', 'agony', 'mysteriously', 'ancestors', 'worlds', 'sizeable', 'noting', 'criminals', 'mild', 'consortium', 'harold', 'libya', 'occult', 'feb', 'beard', 'registered', 'di', 'achieve', 'knife', 'threw', 'projects', 'murderer', 'feather', 'technically', 'hijacked', 'lens', 'imagining', 'barney', 'planes', 'modifications', 'wallet', 'wires', 'signalling', 'individuals', 'volvo', 'dates', 'pork', 'thorough', 'visits', 'boring', 'prevent', 'previous', 'fucking', 'sixty', 'disturbed', 'cc', 'reasonably', 'observations', 'encourage', 'maker', 'cease', 'cheap', 'traced', 'onions', 'allowed', 'resistance', 'supervisory', 'china', 'update', 'forum', 'mutual', 'households', 'bananas', 'intensity', 'seaside', 'libel', 'powder', 'brussels', 'villa', 'award', 'engage', 'negotiated', 'wines', 'surrey', 'healed', 'frustrated', 'insistence', 'conflict', 'cautiously', 'payment', 'loses', 'diamond', 'emily', 'charles', 'pre', 'b', 'oxygen', 'bowling', 'colleague', 'gift', 'equaliser', 'obsolete', 'proposals', 'essex', 'wireless', 'elephant', 'column', 'fuel', 'sexuality', 'standards', 'ocean', 'paula', 'stopping', 'lowly', 'sensitivity', 'behave', 'neighbourhood', 'brink', 'ownership', 'racist', 'sketches', 'sociology', 'thriller', 'popped', 'genesis', 'printers', 'minded', 'fog', 'jockey', 'unlucky', 'shaped', 'envelope', 'oppose', 'embryo', 'fraser', 'grin', 'parties', 'multitude', 'churches', 'stays', 'losers', 'institutional', 'techniques', 'deter', 'presumed', 'disco', 'tolerated', 'ranged', 'nazi', 'rely', 'dyson', 'ignored', 'dull', 'seller', 'bells', 'barren', 'beers', 'microscope', 'moved', 'concentrate', 'baden', 'eve', 'misleading', 'strikes', 'loved', 'cows', 'saturday', 'meantime', 'embarrassment', 'additions', 'alarm', 'anthropologist', 'empirical', 'shout', 'loch', 'merrier', 'immigrants', 'belts', 'strings', 'totally', 'undergrowth', 'focused', 'dependency', 'gaulle', 'stray', 'obtain', 'september', 'chains', 'remarkable', 'scientific', 'glared', 'marital', 'comply', 'sophistication', 'detached', 'irrespective', 'tim', 'sticks', 'accounting', 'harvard', 'dispose', 'roundabouts', 'tandem', 'attributed', 'unlimited', 'photographer', 'cromwell', 'descended', 'liking', 'temperatures', 'frequently', 'occurs', 'barely', 'clues', 'articles', 'regiment', 'produce', 'napoleon', 'cover', 'happen', 'pity', 'writings', 'objectives', 'ordering', 'warfare', 'marks', 'fiction', 'burrow', 'inspect', 'industries', 'treasury', 'excited', 'steer', 'driver', 'channel', 'assistance', 'resolved', 'mike', 'tactics', 'grasp', 'virtually', 'stumps', 'breakfast', 'repeatedly', 'pulls', 'exploration', 'opposing', 'lodged', 'patron', 'kicking', 'slippers', 'horton', 'employing', 'begun', 'weekends', 'choice', 'classification', 'leadership', 'africans', 'chipped', 'nodded', 'whales', 'reagan', 'unto', 'mining', 'bi', 'undermined', 'aisle', 'spells', 'detriment', 'accompanying', 'signature', 'fender', 'breathe', 'total', 'swallow', 'carrie', 'potato', 'scarce', 'redcar', 'neglected', 'elastic', 'existence', 'tabs', 'aesthetic', 'iris', 'lacking', 'termed', 'celtic', 'larger', 'practicable', 'sutton', 'soaring', 'soviet', 'coin', 'furniture', 'thicker', 'anxiety', 'imagined', 'lamp', 'adjustments', 'accurately', 'turmoil', 'teething', 'eliger', 'cry', 'proprietor', 'postwar', 'litres', 'layers', 'feature', 'plants', 'dispelled', 'outlined', 'catering', 'hydraulic', 'neither', 'paradox', 'swirling', 'kicked', 'college', 'projection', 'inherited', 'envelopes', 'sarah', 'wellington', 'strike', 'details', 'phoenix', 'gallagher', 'screen', 'leonora', 'outstanding', 'hurried', 'casual', 'spatial', 'ireland', 'tended', 'descent', 'urgently', 'exact', 'perfect', 'subscribers', 'treads', 'pages', 'elise', 'appeals', 'venue', 'messenger', 'chunks', 'anchor', 'confirms', 'marina', 'dash', 'controllers', 'edmund', 'aspects', 'fired', 'spa', 'electoral', 'religious', 'innings', 'gandhi', 'trees', 'cart', 'ecstasy', 'polly', 'necks', 'bloom', 'blast', 'motorists', 'influencing', 'differentiation', 'junior', 'holmes', 'sway', 'sandwich', 'rosemary', 'q', 'lindsey', 'underlining', 'photographic', 'melt', 'climbed', 'punt', 'convoys', 'poacher', 'pink', 'shore', 'messrs', 'animal', 'indicators', 'trial', 'batch', 'creditors', 'staggering', 'melting', 'notwithstanding', 'qualification', 'richer', 'davies', 'honestly', 'confessed', 'assistants', 'clay', 'atlantic', 'tend', 'germany', 'legitimately', 'trot', 'ski', 'sincerely', 'hyde', 'whipped', 'acquisition', 'tights', 'holiday', 'film', 'civilian', 'selecting', 'trainer', 'relentless', 'accorded', 'belgium', 'criticising', 'folding', 'spine', 'daily', 'dreaded', 'keyboard', 'mountains', 'bodies', 'species', 'steak', 'guilt', 'enactment', 'noises', 'jumper', 'tools', 'rocky', 'israel', 'explicit', 'iii', 'fined', 'blackburn', 'dependent', 'squash', 'fusion', 'beads', 'insects', 'hoops', 'artistic', 'banks', 'bailey', 'vegetable', 'grim', 'receipt', 'proclaimed', 'diary', 'publications', 'clue', 'lows', 'tottenham', 'junk', 'poll', 'forster', 'compensation', 'petition', 'editor', 'parts', 'ash', 'westminster', 'teenagers', 'alain', 'stately', 'preliminary', 'manufacture', 'innit', 'accurate', 'michelle', 'nook', 'expert', 'insiders', 'mouse', 'olds', 'racecourse', 'retaining', 'explain', 'lamont', 'intelligence', 'businessman', 'worn', 'reputation', 'waiters', 'combines', 'talked', 'injury', 'via', 'liaison', 'stores', 'ellie', 'tribute', 'voyage', 'check', 'portfolio', 'grease', 'chest', 'corps', 'joan', 'dont', 'foundation', 'theatrical', 'clarify', 'licences', 'worship', 'hut', 'adopt', 'moscow', 'bun', 'blocks', 'baseball', 'fun', 'alf', 'finance', 'cares', 'picks', 'teasing', 'macintosh', 'mummy', 'sour', 'king', 'labelled', 'sometime', 'peer', 'greenbelt', 'count', 'madness', 'arranged', 'polling', 'steep', 'sweaters', 'remote', 'patch', 'youths', 'snug', 'burst', 'styles', 'prize', 'interfere', 'paragraphs', 'pulling', 'asleep', 'bearded', 'rings', 'compromise', 'crumbling', 'macca', 'whereby', 'reverend', 'misguided', 'shadows', 'poet', 'observed', 'jersey', 'handled', 'scale', 'continued', 'balloon', 'fiona', 'outdoor', 'thompson', 'accounted', 'derby', 'charter', 'adam', 'toast', 'cigarette', 'circuits', 'struck', 'careful', 'gambling', 'warmth', 'cracking', 'wreckage', 'reactor', 'lethal', 'balloons', 'bruce', 'transformation', 'military', 'bet', 'advocated', 'vegetation', 'stacked', 'climbing', 'lied', 'crack', 'palace', 'retailers', 'county', 'october', 'khan', 'classical', 'skull', 'haul', 'judicial', 'sections', 'constituencies', 'weaknesses', 'arose', 'elevated', 'ashore', 'posture', 'determine', 'minimum', 'purchase', 'worcester', 'gilt', 'macaulay', 'crisps', 'approach', 'fugue', 'sack', 'congregation', 'wimbledon', 'inward', 'limit', 'contacted', 'distributors', 'discourse', 'reckoned', 'removal', 'capable', 'endorsement', 'bars', 'mains', 'bible', 'bitterness', 'store', 'tapestry', 'ended', 'underlying', 'strategy', 'afternoon', 'type', 'strategic', 'closure', 'lurking', 'rome', 'savage', 'enormous', 'norwich', 'lester', 'flames', 'consisted', 'settled', 'seemingly', 'race', 'lengths', 'steady', 'revolutionary', 'silence', 'accordance', 'debt', 'trail', 'mothers', 'nines', 'charity', 'squares', 'cleveland', 'dodge', 'packages', 'provider', 'doll', 'league', 'counsel', 'highlands', 'dominion', 'pigeons', 'quote', 'corpus', 'ironically', 'issued', 'offspring', 'pat', 'hunting', 'risks', 'ii', 'text', 'sunderland', 'obama', 'pursue', 'resist', 'learnt', 'glasses', 'acquired', 'rod', 'ultimate', 'eurozone', 'royce', 'innocent', 'wednesday', 'porch', 'carlisle', 'dundee', 'shot', 'disability', 'warriors', 'mainland', 'ayes', 'spd', 'medicine', 'straps', 'pit', 'verdict', 'depot', 'solar', 'ages', 'injection', 'pathetic', 'dam', 'soul', 'altogether', 'depressing', 'illiterate', 'fountain', 'inheritance', 'assembly', 'hurry', 'die', 'revival', 'crises', 'starter', 'wills', 'spoken', 'trooper', 'inter', 'staking', 'reaction', 'represented', 'striking', 'retains', 'gossip', 'phone', 'instinctively', 'frantic', 'paramount', 'shell', 'attend', 'flashed', 'rods', 'hearted', 'passive', 'eminent', 'dick', 'medium', 'corners', 'oppressive', 'creating', 'brain', 'san', 'quicker', 'expecting', 'honour', 'pursued', 'specification', 'microphone', 'conflicts', 'revenge', 'variables', 'fiddle', 'welsh', 'scaffolding', 'mac', 'increase', 'glittering', 'flora', 'dive', 'copyright', 'ostensibly', 'register', 'nationality', 'probability', 'recycling', 'observing', 'shifts', 'penalty', 'commented', 'stakes', 'diabetes', 'hide', 'fields', 'crawl', 'vanity', 'claudia', 'trousers', 'sailing', 'radical', 'saddam', 'assured', 'immersed', 'personally', 'fighting', 'sad', 'mankind', 'wrongly', 'breed', 'regarding', 'owen', 'prompt', 'rivers', 'exchanging', 'exclusion', 'supplies', 'exotic', 'handicapped', 'gardeners', 'strengthened', 'homes', 'tips', 'sid', 'livestock', 'freddie', 'pubs', 'unpredictable', 'tan', 'travels', 'complaints', 'circular', 'ante', 'visiting', 'pricing', 'supervisors', 'faintly', 'gazed', 'debris', 'tarmac', 'rice', 'eleven', 'aberdeen', 'supports', 'ni', 'domiciled', 'encamped', 'rugged', 'defect', 'silicon', 'issues', 'scrum', 'climax', 'solutions', 'autobiography', 'chamberlain', 'scientists', 'brooding', 'presumably', 'slot', 'stitches', 'attacker', 'destination', 'gestures', 'irritation', 'pairs', 'los', 'develop', 'sucked', 'jurisdiction', 'sussex', 'imf', 'knees', 'content', 'vanish', 'ecb', 'shiny', 'deficiency', 'tremendous', 'grows', 'contemplating', 'camilla', 'convoy', 'clauses', 'alternatively', 'instantly', 'progressively', 'ambition', 'se', 'corpse', 'eleventh', 'pumped', 'consistently', 'cod', 'pants', 'comparative', 'flexible', 'climb', 'nigerian', 'bay', 'anywhere', 'bucks', 'trophy', 'deliver', 'vi', 'letting', 'executed', 'framed', 'fro', 'barry', 'telephone', 'reluctantly', 'switch', 'whisky', 'lowered', 'sevens', 'dismissed', 'siemens', 'dc', 'cooking', 'profitability', 'blank', 'kid', 'draws', 'compaq', 'famed', 'backing', 'rail', 'accuracy', 'sharks', 'mustard', 'championships', 'amstrad', 'submarine', 'jenny', 'worms', 'viewed', 'elbows', 'heels', 'role', 'manipulation', 'advertisement', 'instruction', 'boo', 'corresponding', 'faldo', 'alleged', 'mice', 'northumberland', 'twentieth', 'ought', 'barracks', 'protective', 'discharged', 'pressures', 'presently', 'governed', 'broom', 'faith', 'subconscious', 'completed', 'liquid', 'cutters', 'bright', 'tangled', 'sparkling', 'vent', 'softly', 'commands', 'weather', 'locate', 'scarlet', 'precious', 'rendered', 'museum', 'blonde', 'constantly', 'resources', 'steadily', 'grenfell', 'mentally', 'conducive', 'islands', 'orientated', 'halifax', 'whips', 'pro', 'oclock', 'paint', 'invisible', 'bronze', 'salesman', 'varies', 'extend', 'geometry', 'nagging', 'warn', 'graph', 'forecast', 'bonus', 'wait', 'reports', 'offshore', 'spoil', 'design', 'crop', 'wave', 'angel', 'stating', 'contingent', 'message', 'serving', 'tower', 'flask', 'forecasts', 'holes', 'legs', 'encouragement', 'bold', 'endangered', 'piano', 'documents', 'liberally', 'asking', 'arab', 'notions', 'gown', 'practise', 'juice', 'crushed', 'operating', 'fantastic', 'payers', 'hector', 'les', 'plc', 'camp', 'mungo', 'cancer', 'yacht', 'provided', 'praying', 'brighton', 'kicks', 'sponsorship', 'ins', 'glitter', 'nato', 'storm', 'clever', 'winged', 'motors', 'whereas', 'feeble', 'joe', 'ringing', 'exercises', 'calculating', 'displayed', 'contempt', 'agriculture', 'communications', 'hills', 'boredom', 'publicity', 'tale', 'previously', 'adjusted', 'damascus', 'realisation', 'trumps', 'session', 'nice', 'bond', 'wonders', 'practised', 'situated', 'allocation', 'stalin', 'valley', 'identity', 'curve', 'docklands', 'stronger', 'isle', 'turns', 'drowned', 'casually', 'wavelength', 'taylor', 'viii', 'dip', 'coast', 'commitments', 'jesus', 'shoulder', 'requirements', 'examples', 'cherry', 'forged', 'eec', 'robyn', 'rig', 'annual', 'condemned', 'jeffrey', 'radios', 'prestigious', 'metal', 'foreigner', 'resistant', 'denial', 'banging', 'negotiation', 'acknowledged', 'inverted', 'climate', 'server', 'arabia', 'forgetting', 'affects', 'buffet', 'footballers', 'trading', 'pleaded', 'supper', 'peas', 'timber', 'birth', 'distinctive', 'releases', 'thames', 'warts', 'walter', 'unit', 'applied', 'organization', 'minibus', 'seventeen', 'draft', 'ministry', 'normally', 'foul', 'terrace', 'cuckoo', 'isolation', 'contain', 'delightful', 'karajan', 'shekel', 'evaluation', 'insulting', 'trevor', 'poorer', 'proof', 'stretching', 'episodes', 'fluttering', 'distinct', 'vehicle', 'jess', 'glaring', 'dorset', 'diplomacy', 'possibilities', 'dane', 'touch', 'sports', 'unique', 'bradford', 'specialists', 'dreadful', 'writing', 'policing', 'provisions', 'confidential', 'kendall', 'gravel', 'organisation', 'toddler', 'closely', 'praised', 'medication', 'waterman', 'tears', 'spending', 'e', 'lasted', 'complained', 'loser', 'suspicious', 'cutting', 'conducting', 'endure', 'nationally', 'denmark', 'biting', 'sexual', 'generals', 'creep', 'conception', 'solidarity', 'polish', 'industrialists', 'guided', 'decorated', 'confusing', 'designed', 'corporations', 'horn', 'unable', 'portable', 'independence', 'campaign', 'tightly', 'economist', 'cramp', 'cliff', 'darwin', 'spreadsheet', 'jowl', 'horrible', 'declaration', 'sympathetic', 'clubs', 'rotating', 'hypotheses', 'normal', 'pond', 'integrity', 'robbery', 'nottinghamshire', 'readiness', 'shepherd', 'economists', 'rowing', 'attachment', 'luggage', 'wrist', 'lake', 'slabs', 'divert', 'regimental', 'forks', 'olivetti', 'contents', 'mending', 'ballesteros', 'jar', 'powell', 'chord', 'regulatory', 'bankrupt', 'improves', 'beautifully', 'wool', 'resolution', 'identified', 'continues', 'psychological', 'socialist', 'commonly', 'flooding', 'angry', 'explains', 'informal', 'leading', 'tug', 'youngsters', 'apparent', 'kate', 'pleas', 'fortune', 'newly', 'opera', 'notoriously', 'sorted', 'realities', 'herbs', 'richardson', 'piggott', 'recognize', 'coach', 'explanations', 'recognizing', 'numerous', 'guests', 'profound', 'department', 'wrote', 'lending', 'easier', 'teachers', 'relation', 'waterfall', 'buyer', 'dylan', 'effectively', 'gut', 'wet', 'tabloids', 'manor', 'seventh', 'regularly', 'oven', 'slowing', 'oct', 'composer', 'approached', 'spreading', 'spend', 'faster', 'tonnes', 'bathroom', 'envy', 'fires', 'jack', 'cautious', 'assumptions', 'flourish', 'striped', 'altered', 'male', 'helped', 'abused', 'flags', 'missile', 'unpleasant', 'lotus', 'paying', 'specialist', 'supported', 'labels', 'marker', 'physical', 'communist', 'agent', 'builder', 'bud', 'substitution', 'founded', 'professor', 'chorus', 'tossed', 'pending', 'bosnia', 'stormy', 'spurs', 'wrap', 'preferable', 'arrangements', 'willingness', 'wrestling', 'kills', 'converted', 'sam', 'impatience', 'darted', 'initially', 'declared', 'gliding', 'auckland', 'wore', 'moustache', 'usual', 'feminist', 'premises', 'prisons', 'producer', 'spilled', 'offices', 'thursday', 'sensible', 'aug', 'sessions', 'andrew', 'indicate', 'commanding', 'implied', 'integration', 'temporary', 'regime', 'decidedly', 'exchanges', 'manslaughter', 'josie', 'losses', 'mafia', 'tribal', 'album', 'discovery', 'allegedly', 'qualifications', 'midfield', 'packs', 'hay', 'advertisements', 'referred', 'alexei', 'reassured', 'purposeful', 'formally', 'santa', 'evidently', 'disputes', 'burn', 'debate', 'sandy', 'lights', 'beg', 'waits', 'monkeys', 'william', 'authentic', 'planned', 'hazard', 'generations', 'diane', 'affection', 'yeltsin', 'incorporating', 'merry', 'ally', 'ropes', 'vary', 'screens', 'debating', 'scholar', 'bows', 'photographs', 'contract', 'lyrics', 'loving', 'designers', 'kong', 'civilians', 'outbreak', 'brightness', 'catholic', 'emperor', 'motorcycle', 'virginia', 'skirts', 'automatic', 'parent', 'rival', 'philosopher', 'allows', 'lp', 'wilderness', 'asylum', 'baker', 'pregnant', 'hospitals', 'sixth', 'holly', 'superb', 'tokyo', 'beneficial', 'steering', 'pipeline', 'mad', 'anger', 'luce', 'challenge', 'chooses', 'advise', 'colleagues', 'majesty', 'pose', 'transmission', 'couch', 'purchasing', 'institution', 'insight', 'everett', 'lists', 'deregulation', 'departments', 'due', 'feathers', 'vogue', 'collar', 'traditional', 'vessel', 'taiwan', 'ponds', 'tablets', 'rejecting', 'argue', 'tragedy', 'oneself', 'magical', 'buzz', 'surrounds', 'midfielder', 'orthodox', 'lunches', 'conceivable', 'rails', 'injuries', 'backbone', 'movie', 'blurred', 'celebrated', 'drainage', 'violently', 'tyres', 'dave', 'parables', 'sail', 'garland', 'leaned', 'drawn', 'puzzled', 'weary', 'geographical', 'temper', 'quickest', 'constraint', 'lie', 'arrow', 'absolutely', 'jungle', 'horse', 'sends', 'homework', 'greater', 'hints', 'borrowing', 'terminology', 'stout', 'accepted', 'scene', 'covering', 'misgivings', 'export', 'route', 'affected', 'waistcoat', 'crosses', 'shorter', 'import', 'ferrari', 'craft', 'holds', 'burnt', 'apparently', 'wage', 'contribution', 'sauce', 'flu', 'seam', 'dared', 'critic', 'wander', 'woosnam', 'guise', 'blade', 'boswell', 'partly', 'regular', 'complete', 'jail', 'arse', 'bristol', 'appeal', 'tony', 'cheeks', 'clamp', 'algae', 'discussion', 'poem', 'admirably', 'falling', 'powerful', 'drying', 'cream', 'leads', 'failed', 'laid', 'listen', 'bizarre', 'require', 'parental', 'twenties', 'laws', 'desk', 'casualties', 'character', 'requires', 'revived', 'reasoning', 'crowds', 'dragged', 'thunder', 'evolution', 'juvenile', 'electronic', 'analyst', 'classic', 'eating', 'mansion', 'retiring', 'awkward', 'illustration', 'deterrent', 'hopkins', 'hooked', 'reform', 'sickening', 'linda', 'celebrity', 'selection', 'sooner', 'delayed', 'disclosed', 'appreciative', 'clarity', 'sexually', 'sending', 'stress', 'reduction', 'saturated', 'networks', 'busy', 'curiously', 'advance', 'slip', 'stir', 'banners', 'hears', 'scott', 'deeply', 'drinking', 'illustrated', 'peripheral', 'airlines', 'battling', 'rubbed', 'del', 'daniel', 'fletcher', 'baby', 'forty', 'shoes', 'cheer', 'battery', 'prospect', 'puts', 'note', 'congo', 'beds', 'conversion', 'ceauşescu', 'souness', 'ridden', 'ethics', 'goat', 'clare', 'guns', 'rental', 'certificate', 'prefer', 'chew', 'pushed', 'leap', 'placed', 'inexplicable', 'palms', 'wider', 'injunction', 'infinitely', 'advent', 'chrissie', 'officer', 'explosion', 'folded', 'horror', 'downstairs', 'lungs', 'shows', 'lawn', 'ambiguous', 'suffice', 'ted', 'successor', 'spices', 'visitors', 'unturned', 'recite', 'monarchy', 'tutor', 'ruin', 'proceeded', 'razor', 'immune', 'seated', 'experienced', 'hymn', 'roared', 'weaker', 'timothy', 'solely', 'barack', 'sheriff', 'arbitrary', 'prix', 'medicines', 'material', 'committed', 'adjective', 'respects', 'paradoxically', 'terminals', 'appointments', 'difficulties', 'leapt', 'arrest', 'vis', 'sin', 'lions', 'enormously', 'leant', 'constituency', 'pub', 'slid', 'dim', 'fight', 'mills', 'listened', 'expedient', 'plaster', 'packing', 'saloon', 'vendor', 'pearls', 'handkerchiefs', 'repression', 'raw', 'characteristics', 'infrastructure', 'separate', 'soup', 'husbands', 'spirited', 'greedy', 'naughty', 'iran', 'surrender', 'winked', 'electricity', 'twelve', 'hang', 'oriental', 'texture', 'contracting', 'petrol', 'geoff', 'opposite', 'boards', 'conductor', 'racket', 'threatened', 'scoring', 'minorities', 'debut', 'psychiatric', 'summer', 'therapy', 'fluorescent', 'sufficiently', 'interests', 'extremely', 'amended', 'unwanted', 'r', 'counselling', 'papal', 'rotten', 'vase', 'pyrrhic', 'raised', 'wrapped', 'method', 'irrelevant', 'rut', 'colourful', 'experiences', 'marketplace', 'setting', 'lock', 'thousand', 'principle', 'excuses', 'conversely', 'consolidate', 'ark', 'usage', 'functioning', 'curling', 'shaun', 'grove', 'approaches', 'vitor', 'oranges', 'copy', 'closes', 'plus', 'eat', 'tsar', 'luxury', 'quit', 'dispute', 'farm', 'coupled', 'polythene', 'underwater', 'diagnosed', 'advisers', 'shells', 'prefers', 'toys', 'bombing', 'risking', 'highly', 'intrigued', 'ninth', 'julia', 'mourning', 'delors', 'maynard', 'slump', 'sergeant', 'taxing', 'bounced', 'hudson', 'sleight', 'ballet', 'villain', 'specifically', 'distant', 'sunset', 'wasps', 'pearson', 'bundle', 'brush', 'gather', 'sealed', 'loan', 'squaring', 'jill', 'exhibition', 'functional', 'fancied', 'muddle', 'allied', 'assuming', 'outskirts', 'shaky', 'sturdy', 'sensed', 'reasoned', 'rain', 'replies', 'activity', 'organ', 'differently', 'coaching', 'matthew', 'reveal', 'wigan', 'laughton', 'chat', 'redundancy', 'proletariat', 'entry', 'defeat', 'utter', 'upwards', 'screening', 'dissecting', 'jacks', 'punishment', 'distraction', 'conservative', 'groups', 'directions', 'hosted', 'floated', 'levy', 'protection', 'icy', 'ducks', 'fashionable', 'leaf', 'plugs', 'bikes', 'swims', 'saves', 'progress', 'metres', 'defined', 'waist', 'bored', 'breadth', 'negative', 'haired', 'artillery', 'bolts', 'involvement', 'ici', 'wondered', 'trades', 'participation', 'bones', 'attractive', 'accessible', 'vinyl', 'turkey', 'frost', 'estimates', 'mildred', 'bowl', 'diving', 'version', 'winter', 'virus', 'entered', 'soak', 'ankle', 'trust', 'richards', 'salt', 'bee', 'belonged', 'kindness', 'cultural', 'wallpaper', 'troubled', 'chess', 'nearest', 'clinical', 'indies', 'reggae', 'percentage', 'horns', 'girls', 'batsman', 'chapel', 'vienna', 'milton', 'plans', 'folk', 'successes', 'served', 'employ', 'associates', 'exposure', 'gained', 'summit', 'timing', 'pecking', 'memorial', 'bernice', 'chemical', 'quest', 'terrorists', 'barclays', 'humanity', 'anxieties', 'troubles', 'gleaming', 'benn', 'provoke', 'nominees', 'monumental', 'turkish', 'arnie', 'chief', 'opposition', 'significance', 'northern', 'yard', 'beloved', 'allegations', 'sneezed', 'faced', 'genius', 'colitis', 'apprehensive', 'speech', 'definitive', 'expenses', 'shower', 'parkinson', 'sets', 'cia', 'erring', 'boil', 'grateful', 'skin', 'correct', 'helmet', 'manufacturers', 'parker', 'remarkably', 'hid', 'parliament', 'vegetarian', 'reeves', 'socks', 'caribbean', 'sights', 'satisfaction', 'wells', 'sons', 'meals', 'governors', 'secure', 'adjust', 'warmer', 'journalist', 'undergoing', 'values', 'reluctant', 'headed', 'novels', 'cats', 'polytechnic', 'approaching', 'testament', 'sideways', 'ingenious', 'murders', 'toed', 'sleep', 'yelled', 'divide', 'eileen', 'resident', 'hari', 'trio', 'stewards', 'accomplish', 'superiors', 'tone', 'indoor', 'sighed', 'solid', 'fading', 'nurse', 'italians', 'nasty', 'tastes', 'results', 'affair', 'clinton', 'helpless', 'preserved', 'reducing', 'liable', 'calder', 'raises', 'pop', 'yuan', 'alexander', 'succeed', 'carlo', 'windows', 'cam', 'danish', 'load', 'execution', 'rebuilt', 'flawed', 'assessments', 'charges', 'spite', 'reckoning', 'momentum', 'berlin', 'waterloo', 'victims', 'cabin', 'assertion', 'blows', 'science', 'japanese', 'enduring', 'structured', 'gauntlet', 'curled', 'attach', 'garry', 'drives', 'punk', 'engineer', 'forwards', 'suggested', 'maturity', 'arctic', 'expression', 'antics', 'believed', 'selectors', 'feeds', 'railway', 'wiped', 'aids', 'washing', 'longing', 'uncommon', 'commanded', 'heavens', 'dinner', 'spies', 'pencil', 'substantially', 'construed', 'judah', 'liberty', 'lenin', 'remarked', 'forests', 'contemporary', 'benefits', 'classics', 'alliance', 'lacks', 'dock', 'laborious', 'perspective', 'caps', 'broker', 'judiciary', 'halfway', 'remained', 'thereafter', 'wandering', 'amnesty', 'deserves', 'retirement', 'seasons', 'initiatives', 'willis', 'exceptions', 'poland', 'enemy', 'organisms', 'resolving', 'tore', 'consequence', 'murky', 'allowance', 'restored', 'hurdle', 'purse', 'fighters', 'caller', 'sixteenth', 'slum', 'judgment', 'daisy', 'pile', 'positive', 'belgian', 'wire', 'original', 'browns', 'blink', 'swim', 'curry', 'flowering', 'circuses', 'frogs', 'description', 'strains', 'paul', 'confident', 'preventing', 'item', 'program', 'tit', 'redundant', 'deals', 'mounting', 'freezing', 'synthetic', 'convention', 'fled', 'hem', 'restaurants', 'rolls', 'revelations', 'democrats', 'realised', 'suspicions', 'grandparents', 'gloves', 'section', 'shutting', 'hackney', 'lorries', 'judgements', 'blasted', 'suppress', 'tuesday', 'generation', 'economics', 'gran', 'fundamentally', 'terror', 'theft', 'manoeuvre', 'motivated', 'destroyed', 'publishing', 'referendum', 'guidance', 'disposed', 'ladder', 'unhappy', 'technical', 'consideration', 'kathleen', 'noticed', 'spout', 'imply', 'lucky', 'midweek', 'moors', 'debts', 'grown', 'baptism', 'bookings', 'intervened', 'weird', 'aston', 'resting', 'bridge', 'bugs', 'camera', 'birmingham', 'soviets', 'frederick', 'exchanged', 'stick', 'pledged', 'prosperous', 'underway', 'cell', 'meets', 'andrews', 'packaged', 'reversal', 'exploded', 'hosts', 'refugees', 'amateurs', 'mast', 'fuss', 'mercury', 'offending', 'emphasised', 'ruthless', 'supporting', 'realm', 'flag', 'korean', 'bloody', 'perish', 'becomes', 'mondays', 'trusted', 'outfit', 'earthly', 'knocks', 'nineteen', 'arguing', 'informing', 'behaviours', 'equivalent', 'quarry', 'fijian', 'retention', 'eighth', 'cornwall', 'sign', 'passion', 'barons', 'bumped', 'borrowers', 'childhood', 'foods', 'assure', 'burning', 'ray', 'ivy', 'dressing', 'popular', 'boats', 'performed', 'images', 'silently', 'presidency', 'difference', 'blow', 'conference', 'diminishing', 'formidable', 'net', 'midway', 'warmly', 'products', 'stuffed', 'ace', 'copies', 'patrol', 'postponed', 'bodily', 'gear', 'schools', 'penetration', 'adventurous', 'businesses', 'flesh', 'sodden', 'mammals', 'magnetic', 'incomes', 'flattened', 'hired', 'contemplated', 'breaks', 'cézanne', 'sheila', 'procedures', 'sum', 'shoestring', 'czechoslovakia', 'defendants', 'lifelong', 'judith', 'servants', 'thoroughly', 'dozens', 'headlines', 'hawk', 'accommodate', 'swinging', 'cupboard', 'conditions', 'defence', 'ideal', 'charitable', 'colonel', 'jamaica', 'voltage', 'concentrating', 'mix', 'alpha', 'causal', 'viola', 'eagerness', 'embroidered', 'suspects', 'norman', 'thorn', 'neglect', 'metaphor', 'founding', 'northampton', 'marines', 'happy', 'uphill', 'elements', 'enjoyable', 'paintings', 'germans', 'friendly', 'economies', 'veronica', 'forgotten', 'gap', 'dance', 'descending', 'starvation', 'unsuccessful', 'modest', 'vowed', 'sundays', 'velvet', 'margin', 'daunting', 'equator', 'jenkins', 'undesirable', 'collapsing', 'foreman', 'channels', 'dimensions', 'buying', 'lovers', 'creation', 'skipper', 'station', 'disappearing', 'breath', 'declined', 'federation', 'lesser', 'unaware', 'hectic', 'tennis', 'vertical', 'demonstrators', 'dogs', 'kenny', 'elusive', 'fallen', 'comparable', 'continuing', 'convinced', 'device', 'photo', 'oddly', 'europeans', 'embassy', 'tougher', 'baths', 'sorts', 'inflicted', 'landing', 'murphy', 'lothian', 'transfer', 'tear', 'attracting', 'analytical', 'amounts', 'acre', 'netherlands', 'shrift', 'crewe', 'radio', 'bought', 'covers', 'au', 'phase', 'driving', 'speak', 'sacred', 'bitch', 'departmental', 'shake', 'arrows', 'snapped', 'demonstrated', 'arts', 'representing', 'supplied', 'estates', 'defences', 'serves', 'quantum', 'owners', 'disciples', 'outrage', 'fills', 'bankruptcy', 'inner', 'quarrel', 'darren', 'mo', 'bucharest', 'comparison', 'stamp', 'alert', 'appalling', 'quick', 'language', 'prostitute', 'fulfilled', 'prevents', 'concessions', 'maze', 'poised', 'shock', 'bob', 'realize', 'towering', 'dart', 'understand', 'creative', 'cells', 'simultaneously', 'celebrate', 'cable', 'mine', 'cried', 'competence', 'charts', 'provides', 'peeled', 'cooperation', 'formed', 'creates', 'assumption', 'cited', 'focusing', 'initiated', 'cloud', 'predecessor', 'armies', 'sheep', 'tweed', 'surrounding', 'contact', 'deepest', 'heritage', 'blankets', 'conclude', 'derry', 'kenneth', 'secretarial', 'reverse', 'shiona', 'lexical', 'guardian', 'sausages', 'clipped', 'lazily', 'gardening', 'defendant', 'bureaucracy', 'drifts', 'springs', 'fences', 'erotic', 'burun', 'newspapers', 'chemistry', 'prepared', 'inches', 'appealed', 'stoned', 'implication', 'tense', 'bourgeois', 'guarded', 'rewrite', 'wording', 'defeated', 'blazed', 'inspection', 'guessed', 'basin', 'exciting', 'fundamental', 'clumsy', 'restrict', 'gas', 'commentary', 'effects', 'dedication', 'profession', 'angles', 'counterparts', 'fewer', 'developments', 'reward', 'ukraine', 'barrier', 'benny', 'betting', 'rebel', 'consult', 'blackpool', 'surgery', 'appoint', 'spontaneous', 'warden', 'praise', 'disappointment', 'walkers', 'ukrainian', 'compassion', 'indulge', 'sadness', 'lit', 'younger', 'allies', 'kelly', 'rarely', 'gardens', 'tongs', 'chips', 'faculty', 'cynicism', 'corbett', 'programs', 'payable', 'paces', 'sally', 'organizing', 'litter', 'strap', 'expects', 'kittens', 'comparatively', 'portraits', 'brian', 'feedback', 'palestinians', 'readings', 'catalogue', 'fever', 'forgiveness', 'workstations', 'views', 'sweetness', 'whilst', 'progressed', 'chairmen', 'concerts', 'implement', 'fourth', 'shelter', 'motionless', 'downhill', 'recognised', 'casting', 'village', 'precision', 'pains', 'pillow', 'cliffs', 'sub', 'interval', 'smooth', 'alright', 'michels', 'mums', 'fourteenth', 'ventured', 'google', 'apt', 'secondly', 'withdrawn', 'escort', 'pact', 'satisfactory', 'acted', 'included', 'plain', 'discuss', 'shakes', 'meticulous', 'pears', 'pikestaff', 'greasy', 'adapt', 'solicitors', 'flashing', 'diplomat', 'stan', 'christopher', 'protestant', 'amount', 'panic', 'smiths', 'jason', 'adjustment', 'lebanon', 'mexican', 'sociological', 'telegraph', 'latvia', 'knitted', 'mandeville', 'discovers', 'survive', 'champagne', 'entertaining', 'swung', 'discounts', 'sprang', 'twickenham', 'interminable', 'overhead', 'warnings', 'supposing', 'davis', 'neptune', 'hedge', 'blown', 'penny', 'tells', 'residents', 'flowed', 'stuff', 'peoples', 'receiver', 'admiral', 'uniformed', 'al', 'chiefs', 'ignorant', 'forever', 'walked', 'nail', 'sweeping', 'useful', 'cola', 'offside', 'split', 'cuff', 'hooks', 'sophisticated', 'reject', 'safe', 'lobbying', 'cleaners', 'entertainment', 'impose', 'shadowy', 'tap', 'accuse', 'bygones', 'stolen', 'festivals', 'dumped', 'literary', 'vale', 'dynamic', 'fuse', 'hardest', 'rabbit', 'turbulent', 'honest', 'pretending', 'nicandra', 'ship', 'tendency', 'coventry', 'necessity', 'apparatus', 'master', 'explore', 'jane', 'fringe', 'modules', 'announcement', 'relying', 'peacock', 'vietnam', 'huts', 'struggles', 'bruised', 'quid', 'awarded', 'blanket', 'emotionally', 'throw', 'charging', 'venables', 'shirley', 'fruitful', 'frequent', 'monopoly', 'reservoir', 'honey', 'actively', 'sails', 'daring', 'passes', 'spain', 'visions', 'plunge', 'impact', 'lounge', 'elected', 'ambitious', 'guard', 'gina', 'reign', 'origin', 'qualified', 'mail', 'seize', 'technology', 'squeezed', 'swimming', 'molecular', 'majority', 'zealand', 'riding', 'fat', 'hopping', 'brokers', 'organize', 'premium', 'restoration', 'reactions', 'deutsche', 'favourites', 'lived', 'global', 'impress', 'consciousness', 'trim', 'scream', 'dodgy', 'conceptual', 'sic', 'declare', 'matilda', 'particles', 'danny', 'envisage', 'minor', 'reformers', 'pamela', 'comprise', 'wounded', 'li', 'tackle', 'output', 'arc', 'unsuitable', 'milan', 'slogan', 'sunny', 'chose', 'tag', 'delaying', 'interpret', 'voluntary', 'taxi', 'amok', 'passage', 'mischief', 'difficulty', 'complications', 'beggars', 'handles', 'smart', 'gripping', 'detailed', 'gesture', 'diplomatic', 'harsh', 'discourage', 'zoo', 'consolidation', 'johnny', 'circuit', 'preparing', 'otc', 'z', 'spitting', 'accused', 'canoe', 'amy', 'squeaky', 'brother', 'commissions', 'educational', 'analysis', 'relevant', 'herd', 'listening', 'governing', 'tech', 'overwhelming', 'massive', 'cushions', 'acid', 'phones', 'surveyors', 'staring', 'concrete', 'stone', 'janet', 'managerial', 'lust', 'style', 'engineering', 'folly', 'gang', 'mick', 'pavilion', 'immense', 'sketch', 'confess', 'describes', 'commanders', 'forgiven', 'interim', 'unsettled', 'romantic', 'ms', 'ibm', 'resource', 'echo', 'vast', 'bits', 'relevance', 'pleasing', 'nicely', 'crumbs', 'helpers', 'entrance', 'lobby', 'treated', 'province', 'keynesian', 'worker', 'faces', 'confusion', 'hate', 'personnel', 'kilter', 'dole', 'em', 'harm', 'hostel', 'juliet', 'beth', 'earning', 'housekeeper', 'nets', 'dusty', 'born', 'encourages', 'watercolour', 'interview', 'headlights', 'damaging', 'monkey', 'sadly', 'harris', 'voice', 'offers', 'mercedes', 'blazing', 'incidence', 'montgomery', 'concept', 'gripped', 'learn', 'ashley', 'stunned', 'wired', 'firms', 'ludicrous', 'earl', 'floral', 'tiller', 'california', 'reflected', 'gillingham', 'derived', 'sectors', 'contacts', 'edges', 'privatisation', 'related', 'pedigree', 'holder', 'personalities', 'revolt', 'expressions', 'sleeves', 'discipline', 'wrists', 'indirectly', 'annoyed', 'nearly', 'deserted', 'movements', 'pretty', 'dislike', 'currently', 'brass', 'patience', 'smoked', 'hi', 'engaging', 'conveniently', 'rosa', 'primarily', 'forms', 'enhance', 'earliest', 'layer', 'thorns', 'inclination', 'furiously', 'forced', 'chewing', 'stressed', 'highlight', 'circling', 'wonder', 'aggressive', 'lesley', 'preferring', 'mickey', 'advances', 'blaze', 'knack', 'aquatic', 'belief', 'giant', 'hatch', 'receive', 'modern', 'brazil', 'hmm', 'survived', 'rent', 'suppressed', 'wages', 'cardinal', 'fourteen', 'unconscious', 'companions', 'attributes', 'sydney', 'marble', 'elinor', 'prevailing', 'brightly', 'coasts', 'fisher', 'wanna', 'strongest', 'budapest', 'georgian', 'rigid', 'patronage', 'icing', 'exclude', 'vacuum', 'narrow', 'nettle', 'lifted', 'desired', 'lane', 'combat', 'branch', 'homeless', 'shut', 'fallon', 'mario', 'leaders', 'seeing', 'sexes', 'eastern', 'golfer', 'posing', 'adventurers', 'abundance', 'disgusted', 'expressed', 'lashing', 'settings', 'breeding', 'remain', 'indicated', 'kevin', 'formulate', 'apples', 'insider', 'considers', 'stabbed', 'serious', 'perry', 'suppression', 'scientist', 'winding', 'thirty', 'safeguard', 'impulses', 'harmless', 'outwards', 'performing', 'petty', 'pans', 'demonstration', 'firemen', 'statistical', 'tournament', 'speeding', 'dresser', 'enquiries', 'shark', 'investigators', 'stomach', 'harder', 'panels', 'fulfil', 'fate', 'wembley', 'verbal', 'hammering', 'un', 'lager', 'distribution', 'plo', 'exercise', 'vineyards', 'vision', 'drown', 'drawings', 'francs', 'crocodile', 'sharing', 'meagre', 'excitement', 'treating', 'centuries', 'subsequent', 'reduced', 'express', 'gig', 'guest', 'reception', 'tubes', 'float', 'benson', 'exhibit', 'budgets', 'madonna', 'nervously', 'stricken', 'likewise', 'parade', 'inclined', 'rushes', 'walks', 'entirely', 'physician', 'photography', 'handful', 'archbishop', 'transit', 'swiftly', 'bleeding', 'invent', 'aspirations', 'guitarist', 'innovative', 'planted', 'height', 'ellis', 'christ', 'limiting', 'cleared', 'immediate', 'upward', 'briefly', 'essay', 'drag', 'investors', 'flatter', 'carrying', 'masters', 'matrix', 'prodigy', 'fatty', 'controlled', 'barrage', 'phrase', 'ensures', 'corridors', 'agreed', 'miner', 'dint', 'bites', 'tedious', 'orleans', 'damages', 'butt', 'balancing', 'crushing', 'bp', 'identification', 'devastating', 'levels', 'rag', 'basic', 'promotional', 'regent', 'misunderstanding', 'suggests', 'sufferers', 'dramatic', 'options', 'shaping', 'monologue', 'upbringing', 'tiger', 'drinks', 'containers', 'dropping', 'institutions', 'needing', 'ecclesiastical', 'cockpit', 'beings', 'ethical', 'coat', 'lydia', 'hummed', 'peculiar', 'recruited', 'bets', 'hughes', 'parrot', 'lift', 'produced', 'connolly', 'n', 'heroic', 'italy', 'dial', 'headmaster', 'default', 'cope', 'proper', 'nudge', 'march', 'pension', 'stole', 'schedules', 'judge', 'multiple', 'ave', 'mandy', 'seriously', 'fists', 'continue', 'initial', 'endlessly', 'watches', 'tracks', 'shallow', 'abyss', 'tension', 'rovers', 'unnecessarily', 'demise', 'balance', 'happiness', 'foaming', 'prisoner', 'encountered', 'outs', 'opens', 'belt', 'tenure', 'resolve', 'silk', 'tolkien', 'raped', 'cardigan', 'chin', 'seventies', 'characteristic', 'taxpayers', 'unemployment', 'resume', 'finals', 'workforce', 'sideboard', 'benches', 'detectives', 'contribute', 'legally', 'charlie', 'goalkeeper', 'easter', 'cash', 'suspicion', 'manipulated', 'highland', 'omission', 'handy', 'residence', 'rug', 'choices', 'dusk', 'combining', 'drug', 'finest', 'minton', 'patrons', 'stared', 'students', 'mips', 'restaurant', 'fault', 'practising', 'uniform', 'toilet', 'belongs', 'trailing', 'hemisphere', 'array', 'tired', 'awkwardly', 'flashes', 'slack', 'initiation', 'links', 'chuck', 'counterpart', 'gigs', 'voiced', 'skilled', 'hemispheres', 'disorders', 'attempt', 'explored', 'energy', 'scored', 'lighted', 'blame', 'thereby', 'handsome', 'craig', 'cure', 'pause', 'laps', 'shone', 'warm', 'battered', 'co', 'puzzles', 'repeating', 'mary', 'recording', 'anybody', 'sober', 'oracle', 'meadow', 'smoothly', 'occupy', 'gentleman', 'programming', 'eldest', 'scratching', 'criteria', 'millions', 'glory', 'discouraged', 'applications', 'hurrying', 'linfield', 'presence', 'prime', 'utterly', 'destroy', 'alien', 'career', 'sailed', 'attract', 'editors', 'knock', 'thoughtful', 'printer', 'ups', 'themes', 'margaret', 'descriptions', 'amidst', 'page', 'slice', 'moderate', 'custody', 'western', 'salmon', 'absence', 'produces', 'duration', 'sorties', 'susan', 'inspected', 'crook', 'enquiry', 'adopted', 'lung', 'plot', 'spelling', 'shooting', 'george', 'internal', 'mexico', 'strangers', 'massachusetts', 'compressed', 'chilled', 'arrived', 'publication', 'wreck', 'papering', 'allocated', 'selina', 'saatchi', 'operate', 'gene', 'careers', 'achieved', 'somehow', 'inhabitants', 'australia', 'comfort', 'switzerland', 'sole', 'turtle', 'resented', 'hefty', 'paths', 'moves', 'clasped', 'hanging', 'greg', 'complexion', 'error', 'post', 'stirring', 'clutch', 'prop', 'finds', 'tempered', 'vet', 'transform', 'enclosed', 'prayer', 'guarantees', 'investor', 'hello', 'danced', 'operator', 'volumes', 'deeds', 'chef', 'cinema', 'begged', 'discrimination', 'portray', 'handbag', 'possession', 'committing', 'mended', 'topic', 'attraction', 'lack', 'stanley', 'romance', 'telephones', 'unpopular', 'polished', 'fence', 'aged', 'bland', 'manners', 'communities', 'chap', 'unstuck', 'chimney', 'solemnly', 'lesbian', 'repaired', 'patiently', 'aquarium', 'maggie', 'offenders', 'dismissal', 'poison', 'deception', 'leicestershire', 'typical', 'desirable', 'crossroads', 'ebb', 'citizen', 'robust', 'mistakes', 'hated', 'deposits', 'melissa', 'tanks', 'bmw', 'knight', 'tha', 'panelled', 'cooper', 'reductions', 'flash', 'drains', 'downwards', 'jay', 'plastic', 'friday', 'consuming', 'dealers', 'reacted', 'observation', 'wars', 'awake', 'thoughts', 'dti', 'map', 'pints', 'discussing', 'physically', 'tempt', 'shelves', 'leaving', 'striving', 'wash', 'ag', 'brownie', 'blessed', 'isabel', 'requests', 'emerges', 'actress', 'hatred', 'cropper', 'rained', 'blokes', 'discussions', 'punish', 'environmentalists', 'soldier', 'ditch', 'intelligent', 'solving', 'osf', 'tesco', 'rubbish', 'circulated', 'tapped', 'err', 'joint', 'hiding', 'biography', 'granny', 'traders', 'rushing', 'deliberate', 'woke', 'iago', 'coleridge', 'maintaining', 'yarn', 'terrier', 'questionable', 'howard', 'betrayed', 'challenges', 'saddle', 'elland', 'carefully', 'anguish', 'blessings', 'tonic', 'amongst', 'bulls', 'wings', 'covenant', 'dominant', 'organism', 'hungary', 'hastily', 'demolition', 'welfare', 'wing', 'covent', 'professionalism', 'intensive', 'wh', 'tourist', 'testimony', 'responses', 'costumes', 'systematic', 'hoped', 'smells', 'switching', 'rib', 'cracked', 'trump', 'raymond', 'hitherto', 'ad', 'crown', 'temperament', 'electronics', 'represent', 'wound', 'horses', 'reputed', 'glorious', 'leslie', 'branson', 'mercy', 'claiming', 'holy', 'punters', 'ensured', 'cameron', 'keegan', 'vivid', 'halls', 'quo', 'bottle', 'gauge', 'afterwards', 'mainframe', 'stump', 'schoolboy', 'wrapping', 'sits', 'shrewsbury', 'fares', 'purple', 'cast', 'reach', 'thistle', 'valued', 'jumped', 'environments', 'hoof', 'barred', 'eerie', 'claimed', 'routes', 'courageous', 'digital', 'exam', 'membership', 'gazing', 'urgency', 'drum', 'discharge', 'nominee', 'democrat', 'vested', 'partnerships', 'length', 'topping', 'web', 'defining', 'fastened', 'miniature', 'ties', 'br', 'involves', 'statutory', 'qualify', 'knocker', 'magnificent', 'spots', 'marry', 'weeping', 'vibrant', 'artist', 'units', 'audience', 'aggregate', 'micro', 'expulsion', 'nuts', 'thomson', 'pumping', 'joking', 'trials', 'daughters', 'obscurity', 'makers', 'plunged', 'educated', 'corridor', 'etcetera', 'demonstrating', 'instrument', 'dickens', 'influenced', 'invite', 'purpose', 'ambiguity', 'slowly', 'mature', 'brutal', 'annabel', 'pebbles', 'performance', 'microsoft', 'intentions', 'producing', 'ate', 'de', 'inviting', 'react', 'humble', 'tails', 'sphere', 'pennies', 'shores', 'wisdom', 'grouping', 'quarters', 'saudi', 'cathy', 'kent', 'whenever', 'grasped', 'cocktail', 'teens', 'lily', 'viewing', 'cleaning', 'admiralty', 'garden', 'happens', 'equipped', 'jean', 'astonishing', 'pays', 'liberals', 'replacing', 'williams', 'advancing', 'trainers', 'falls', 'parks', 'lightly', 'suited', 'limitations', 'fisheries', 'tunnels', 'steal', 'imitation', 'catalyst', 'boxer', 'consumer', 'female', 'millionaire', 'telephoned', 'contributions', 'underground', 'scattering', 'undergone', 'ivan', 'snapping', 'simon', 'downs', 'rob', 'deputy', 'appointed', 'acts', 'chemicals', 'somebody', 'borrowed', 'kite', 'helps', 'newcomer', 'rituals', 'valuable', 'pros', 'glad', 'supermarket', 'sands', 'rammed', 'ill', 'bred', 'henry', 'focus', 'constraints', 'concert', 'pillar', 'bankers', 'dad', 'remnants', 'hauled', 'priced', 'rescued', 'guys', 'bound', 'regard', 'chopping', 'bidding', 'avenue', 'ministers', 'disappeared', 'urged', 'mum', 'hats', 'corporal', 'richest', 'iraq', 'hussein', 'strange', 'designs', 'straits', 'reliant', 'realism', 'worried', 'solaris', 'threaten', 'tenth', 'significant', 'skirt', 'nip', 'visual', 'valour', 'player', 'wishing', 'pete', 'webb', 'lou', 'bread', 'expansion', 'chopped', 'announced', 'chapter', 'dana', 'fried', 'chase', 'altar', 'prevail', 'fool', 'specified', 'estimated', 'sarella', 'armstrong', 'donkey', 'colin', 'lap', 'kitten', 'taxed', 'skills', 'whispered', 'commerce', 'spoon', 'universally', 'trembling', 'painful', 'associated', 'proceeds', 'passengers', 'swaying', 'fears', 'courtaulds', 'eu', 'promoters', 'babes', 'inclusion', 'elite', 'coca', 'tied', 'hoc', 'jews', 'drive', 'iced', 'hobson', 'retained', 'heat', 'legend', 'marshall', 'sent', 'attention', 'lavatory', 'bomber', 'entire', 'horrified', 'fan', 'carol', 'zeal', 'profits', 'reassurance', 'april', 'imminent', 'calm', 'wishes', 'reflect', 'relationship', 'addresses', 'billion', 'bookmakers', 'dated', 'litigation', 'penchant', 'adapted', 'flushed', 'cop', 'bricks', 'militant', 'chamber', 'canter', 'include', 'poorly', 'dove', 'loudly', 'tackled', 'spun', 'origins', 'doctors', 'nutshell', 'conscious', 'owns', 'singing', 'spilling', 'recreation', 'journeys', 'mention', 'vote', 'cape', 'student', 'disturbance', 'slap', 'hides', 'bursting', 'stature', 'pattern', 'slopes', 'competitors', 'items', 'enjoyed', 'floppy', 'cathedral', 'required', 'mediterranean', 'blessing', 'compartment', 'buckets', 'moral', 'aye', 'urge', 'engels', 'endurance', 'mortgages', 'spinner', 'worthwhile', 'requested', 'kennedy', 'squarely', 'reporter', 'stack', 'syrian', 'stark', 'typically', 'surgical', 'internationally', 'kim', 'lads', 'larvae', 'gerald', 'worst', 'persecution', 'communication', 'swan', 'pumps', 'dealer', 'partnership', 'implementing', 'succession', 'stiff', 'thieves', 'candidate', 'developer', 'johnson', 'learning', 'tumbling', 'religions', 'clive', 'financing', 'attended', 'prompted', 'ken', 'poverty', 'guinness', 'banning', 'outcomes', 'goal', 'incompatible', 'provoking', 'relative', 'substantial', 'essence', 'vastly', 'sing', 'eleanor', 'specifications', 'apprentice', 'milne', 'ears', 'fortunate', 'seating', 'firstly', 'inefficient', 'buttons', 'assert', 'launch', 'bishop', 'clerk', 'perceptions', 'ragged', 'lambert', 'raskolnikov', 'exploited', 'graham', 'holies', 'nothings', 'knobs', 'accountable', 'seed', 'cheerfully', 'closing', 'smaller', 'iv', 'clicking', 'titles', 'abroad', 'sums', 'sovereign', 'glimpse', 'leaping', 'tsunami', 'agenda', 'eccentric', 'syphilis', 'frequency', 'lawson', 'stretch', 'canal', 'rash', 'freely', 'wastes', 'rubbing', 'handshake', 'transparent', 'reversed', 'housing', 'inertia', 'drank', 'severe', 'concentrated', 'sovereignty', 'elect', 'pits', 'reuter', 'reef', 'russians', 'substance', 'attractions', 'jaguar', 'soldiers', 'screaming', 'cans', 'references', 'batten', 'clothes', 'historians', 'tides', 'flair', 'telecommunications', 'investigate', 'swollen', 'recovered', 'contained', 'enforce', 'quantities', 'situations', 'develops', 'suspended', 'spared', 'justification', 'eyeball', 'glow', 'chronic', 'knives', 'husband', 'cox', 'constable', 'sir', 'struggle', 'ratio', 'cord', 'stations', 'degree', 'movement', 'opinion', 'banged', 'frozen', 'begin', 'shoot', 'scrambling', 'ingredients', 'embedded', 'proved', 'bernard', 'persons', 'cerebral', 'unexpectedly', 'killing', 'amusement', 'squire', 'irish', 'crowd', 'wholly', 'implemented', 'shift', 'constitution', 'deaths', 'hearing', 'practices', 'tapes', 'chased', 'costs', 'incredible', 'objects', 'surprised', 'activists', 'enable', 'crime', 'sworn', 'nora', 'bridges', 'depression', 'influences', 'structure', 'disappears', 'cases', 'esteem', 'decks', 'rat', 'operated', 'occurring', 'aspect', 'command', 'plaintiff', 'sparcstation', 'noisily', 'revelation', 'apple', 'topics', 'sicily', 'bedside', 'assumes', 'crops', 'philippe', 'profitboss', 'warehouse', 'resignation', 'ml', 'representatives', 'tourists', 'tanker', 'lincoln', 'buses', 'creatures', 'advertise', 'arrange', 'digging', 'skiing', 'seminar', 'bounce', 'hurd', 'sounding', 'tests', 'inability', 'hewlett', 'affectionate', 'adolescent', 'manger', 'deliverance', 'fighter', 'deciding', 'plates', 'developing', 'naturally', 'historian', 'suits', 'registering', 'authoritative', 'crew', 'sas', 'excluded', 'widely', 'vicar', 'transportation', 'cause', 'ecological', 'decline', 'anxiously', 'andor', 'tapping', 'prodigal', 'africa', 'jeans', 'hostility', 'wilkinson', 'assurance', 'psychology', 'americans', 'swallowing', 'cities', 'stem', 'cranny', 'budgetary', 'sustained', 'repertoire', 'brixton', 'walls', 'miller', 'stevens', 'crammed', 'reed', 'framework', 'poetic', 'indonesia', 'jaw', 'baptised', 'gallery', 'cough', 'disasters', 'hangs', 'boundaries', 'cutter', 'rung', 'admiring', 'dolls', 'spectrum', 'canals', 'sutherland', 'conclusion', 'ramp', 'stevie', 'hitler', 'chilling', 'securities', 'expensive', 'assistant', 'hunt', 'chatter', 'favourable', 'tropical', 'prince', 'cannibalism', 'reid', 'expertise', 'striker', 'simpson', 'fauna', 'sweden', 'broad', 'excellence', 'thread', 'frame', 'demised', 'stab', 'mentioned', 'boldly', 'disastrous', 'suffered', 'grist', 'tidings', 'promotion', 'magazine', 'declining', 'neil', 'threats', 'source', 'raining', 'fox', 'disappointing', 'basically', 'administration', 'scenery', 'originally', 'boot', 'paints', 'lays', 'auction', 'average', 'hidden', 'socialism', 'ward', 'leaked', 'unpaid', 'edged', 'deputies', 'academy', 'relationships', 'fill', 'conservation', 'oldham', 'sorry', 'contributed', 'pipe', 'episode', 'increased', 'fail', 'stained', 'prediction', 'alex', 'weavers', 'touches', 'excess', 'cook', 'cleaner', 'chip', 'revised', 'limited', 'prices', 'justify', 'banned', 'sensitive', 'flower', 'pouring', 'symbol', 'francis', 'thrill', 'mist', 'snatch', 'departure', 'slips', 'attendance', 'intended', 'wigs', 'duly', 'siberia', 'beige', 'theatres', 'laboratories', 'respondents', 'reversing', 'thigh', 'reservations', 'certainty', 'overcoat', 'stool', 'achievements', 'hotel', 'fraternity', 'agency', 'compared', 'havoc', 'deviation', 'undertaken', 'confrontation', 'trolley', 'bombay', 'model', 'serial', 'generally', 'worry', 'attendant', 'ashdown', 'advantage', 'inaccessible', 'becoming', 'logo', 'cds', 'answers', 'reluctance', 'nominal', 'lebanese', 'erected', 'suspend', 'clyde', 'entertain', 'constance', 'symbolic', 'u', 'bosses', 'brisk', 'rap', 'fastest', 'deeper', 'towers', 'lower', 'flow', 'nodding', 'sparc', 'ruthlessly', 'jury', 'paige', 'superintendent', 'oldest', 'branches', 'fantasy', 'mission', 'communists', 'punch', 'sweep', 'burton', 'impressive', 'mitterrand', 'volley', 'malcolm', 'tat', 'broadcasting', 'riches', 'brandy', 'attitude', 'lowest', 'fortress', 'jeremy', 'collimore', 'princess', 'namibia', 'frenzy', 'zero', 'hurriedly', 'assist', 'dragon', 'plum', 'fits', 'slender', 'risked', 'wards', 'alcoholic', 'plight', 'crystal', 'quarterly', 'remit', 'corrupt', 'tom', 'filed', 'patches', 'ghastly', 'trod', 'illusion', 'preview', 'baxter', 'debated', 'championship', 'anc', 'rested', 'contemporaries', 'machine', 'chicks', 'reserve', 'gloom', 'enthusiastically', 'marine', 'knitting', 'menu', 'paris', 'loads', 'gently', 'bedford', 'clough', 'arcade', 'worldwide', 'breast', 'autonomy', 'founder', 'proceed', 'button', 'attracts', 'enthusiasts', 'injured', 'fledgling', 'maxwell', 'rusty', 'beginnings', 'gifted', 'turf', 'follows', 'responded', 'facility', 'lavish', 'actions', 'clown', 'beef', 'consistent', 'roots', 'erect', 'combined', 'uneven', 'almighty', 'reporting', 'brow', 'colony', 'gay', 'conscience', 'supportive', 'semiconductor', 'zurich', 'brilliantly', 'knocking', 'dissent', 'considering', 'direction', 'thirteen', 'matured', 'israeli', 'sees', 'anticodon', 'chapters', 'shirts', 'evenings', 'hack', 'diagnosis', 'chelsea', 'throttle', 'preaching', 'owed', 'aligned', 'chilly', 'plate', 'distributed', 'workplace', 'dump', 'establishing', 'destroying', 'delegation', 'memo', 'bare', 'mend', 'akin', 'fry', 'prospects', 'stocks', 'fund', 'russell', 'dilemma', 'victory', 'launched', 'ltd', 'improving', 'chain', 'entailed', 'bases', 'psalm', 'salary', 'reflects', 'spread', 'rose', 'inevitable', 'thank', 'evil', 'claire', 'la', 'excursion', 'hopeful', 'ruling', 'riots', 'restructuring', 'contention', 'shave', 'inspector', 'barker', 'professionals', 'june', 'boundary', 'fairy', 'admire', 'ranking', 'indirect', 'callaghan', 'teeth', 'auditing', 'shakespeare', 'stones', 'exactly', 'guy', 'questioning', 'len', 'dived', 'stance', 'inherent', 'workshop', 'scrambled', 'occurred', 'review', 'india', 'nations', 'theories', 'stowed', 'phenomenon', 'clara', 'pinch', 'eventual', 'damaged', 'holders', 'pierre', 'convince', 'booked', 'trends', 'calculate', 'shareholder', 'italian', 'buried', 'rumoured', 'advice', 'predator', 'radiation', 'lordship', 'cylinders', 'secular', 'signals', 'wry', 'intent', 'clash', 'possessed', 'cog', 'architects', 'descend', 'cavalier', 'competitions', 'degradation', 'coffin', 'actor', 'prominence', 'stockton', 'burial', 'designer', 'organisational', 'km', 'films', 'wolf', 'funded', 'dennis', 'candidates', 'maria', 'loans', 'evenly', 'telling', 'aims', 'root', 'keys', 'scanning', 'lacked', 'inn', 'transformed', 'inc', 'genes', 'registration', 'breeze', 'contains', 'reproduced', 'suburban', 'bitter', 'recognising', 'gorge', 'gratitude', 'dr', 'victoria', 'albeit', 'lighting', 'progressive', 'proportional', 'nineties', 'derbyshire', 'grants', 'colonies', 'ft', 'locus', 'premiership', 'pronounced', 'dominate', 'returning', 'keeper', 'hartlepool', 'grey', 'electorate', 'intents', 'emerging', 'prints', 'boston', 'airport', 'cane', 'bunny', 'greece', 'nixon', 'rents', 'island', 'rumours', 'ride', 'prizes', 'birds', 'everybody', 'input', 'complexity', 'user', 'unbelievable', 'jazz', 'allan', 'scrub', 'mechanism', 'impossible', 'storage', 'targeted', 'w', 'blaming', 'france', 'voting', 'endorsed', 'adequate', 'junctions', 'swindon', 'gorbachev', 'boom', 'smelt', 'unfamiliar', 'counties', 'doubtful', 'passionate', 'heights', 'towel', 'neatly', 'install', 'guides', 'imperialism', 'imaginative', 'blacks', 'habit', 'acquisitions', 'findings', 'troops', 'ranging', 'notebook', 'curls', 'privacy', 'nozzle', 'paperwork', 'uefa', 'deer', 'suppose', 'stitch', 'benefit', 'accordingly', 'fo', 'organised', 'costume', 'mountain', 'grasping', 'govern', 'pack', 'porter', 'realising', 'plastics', 'pavements', 'repairs', 'wonderful', 'borne', 'detail', 'complaint', 'staggered', 'thickened', 'simplified', 'directive', 'accommodation', 'appear', 'stepped', 'harrison', 'isles', 'ge', 'dishes', 'guitar', 'wit', 'namely', 'contentious', 'chernobyl', 'butler', 'monday', 'monetary', 'pm', 'cannon', 'noisy', 'cab', 'historically', 'destiny', 'disaster', 'impatient', 'deck', 'surely', 'cheques', 'medal', 'canopy', 'fingers', 'bedroom', 'vendors', 'minds', 'geoffrey', 'gloria', 'acceptance', 'sustain', 'employer', 'marches', 'organise', 'welcomed', 'smile', 'seized', 'banana', 'hospitality', 'assessing', 'selling', 'belle', 'indebted', 'buildings', 'probation', 'thrive', 'hamilton', 'auntie', 'presents', 'ensure', 'measures', 'customs', 'knit', 'claws', 'englishman', 'nostalgia', 'depths', 'stored', 'memory', 'edwards', 'brands', 'indoors', 'observe', 'mp', 'sufficient', 'speed', 'reduces', 'babe', 'answering', 'commodity', 'wept', 'enlightened', 'alley', 'oxford', 'acting', 'tucked', 'jailed', 'blocking', 'painting', 'crowded', 'ascertain', 'introduced', 'semaria', 'veteran', 'remembered', 'drift', 'sting', 'comrade', 'telecom', 'hardy', 'prey', 'tackling', 'decides', 'monks', 'brake', 'shopping', 'write', 'limbs', 'lend', 'taste', 'spotted', 'prominent', 'alice', 'rufus', 'sacrifice', 'understood', 'tall', 'revenue', 'metropolitan', 'predatory', 'revenues', 'stamping', 'disc', 'porridge', 'prague', 'induced', 'contest', 'extension', 'concern', 'korea', 'clenched', 'aimed', 'oneill', 'tod', 'contracts', 'compelling', 'solution', 'wild', 'heroin', 'blooded', 'hypocrisy', 'flap', 'greet', 'retain', 'smashed', 'gabriel', 'rush', 'rise', 'knocked', 'braces', 'suspect', 'criminal', 'atomic', 'microwave', 'fax', 'strung', 'bothered', 'passport', 'boiling', 'manifest', 'managed', 'ponies', 'matters', 'tales', 'cohesion', 'confront', 'enjoyment', 'cooled', 'entrusted', 'arriving', 'musicians', 'ability', 'consumers', 'stride', 'strongly', 'devon', 'consolation', 'extensive', 'drowning', 'violence', 'reliable', 'category', 'directors', 'arrival', 'reviewed', 'frock', 'dish', 'interior', 'fred', 'hampstead', 'refer', 'suitcase', 'treaty', 'gallons', 'named', 'illustrations', 'flourished', 'territory', 'classroom', 'investment', 'renewed', 'counting', 'operations', 'soil', 'native', 'accusations', 'ancestral', 'collections', 'false', 'interpreting', 'uncovered', 'juicy', 'considered', 'eva', 'evelyn', 'settling', 'worm', 'impatiently', 'supporters', 'equally', 'mitchell', 'external', 'dea', 'opening', 'blair', 'billy', 'bourgeoisie', 'jacket', 'adjacent', 'cheque', 'preoccupied', 'entries', 'bitten', 'enclosing', 'coalition', 'bums', 'spirit', 'organising', 'douglas', 'tens', 'newsletter', 'subjective', 'symphony', 'buffer', 'criticise', 'draw', 'emotions', 'encouraging', 'snap', 'hedges', 'hog', 'journal', 'continuation', 'republics', 'ruefully', 'ghetto', 'appetite', 'analyses', 'duncan', 'farewell', 'morale', 'kahn', 'plea', 'gives', 'motoring', 'unkempt', 'smelling', 'spectacles', 'accompany', 'rites', 'mathematics', 'publisher', 'worse', 'crossed', 'buyers', 'balls', 'dug', 'researchers', 'pc', 'countess', 'sco', 'latin', 'holidays', 'electric', 'taxpayer', 'protecting', 'flowing', 'adventure', 'cambridge', 'mellor', 'midnight', 'republic', 'spade', 'governmental', 'biscuits', 'dress', 'heeled', 'posted', 'conducted', 'hey', 'fine', 'broader', 'surveillance', 'validity', 'warehouses', 'psyche', 'soho', 'intruder', 'ignorance', 'personality', 'automatically', 'clerks', 'criticised', 'obligations', 'inform', 'finer', 'ayr', 'reflection', 'fascinated', 'freshly', 'rhythm', 'considerable', 'overseas', 'containment', 'pearce', 'um', 'butter', 'choosers', 'carter', 'christian', 'learned', 'peak', 'likelihood', 'stench', 'hike', 'labs', 'inquiry', 'musical', 'preceding', 'humans', 'staked', 'slides', 'recharge', 'confirmation', 'marc', 'friendship', 'pupil', 'comforts', 'kilometres', 'target', 'specific', 'mcallister', 'cyclists', 'amsterdam', 'lobster', 'greatest', 'frankie', 'sleeve', 'resulting', 'bait', 'tyne', 'constrained', 'ironic', 'extended', 'carbon', 'policemen', 'resort', 'highlighted', 'crescent', 'fans', 'spur', 'councils', 'eighties', 'aeroplane', 'chances', 'pan', 'sank', 'fathers', 'receives', 'platforms', 'needless', 'meadows', 'squared', 'cushion', 'complex', 'strangely', 'allow', 'forgot', 'roman', 'pioneered', 'lends', 'meat', 'entering', 'winning', 'definite', 'classified', 'regain', 'bullet', 'cared', 'terminal', 'harrogate', 'irritated', 'fitting', 'pitch', 'sucking', 'shaking', 'stella', 'starts', 'nettles', 'machines', 'permission', 'doghouse', 'launching', 'unlike', 'band', 'locations', 'kin', 'ambassador', 'paragraph', 'innocence', 'reconstruction', 'eternal', 'cock', 'pcs', 'theoretical', 'joked', 'glider', 'targets', 'organizations', 'risen', 'forbidden', 'circles', 'lineker', 'heating', 'nathan', 'transmitter', 'blocked', 'solicitor', 'hostile', 'avoided', 'apartment', 'punched', 'zimbabwe', 'succeeded', 'frances', 'myth', 'motion', 'welcoming', 'alistair', 'obviously', 'yorkshire', 'blake', 'recruits', 'sensibly', 'developers', 'barman', 'bureaucratic', 'organisations', 'restless', 'perchance', 'attic', 'weigh', 'gutter', 'departed', 'inadequate', 'occur', 'samples', 'rocks', 'wobbly', 'equality', 'grip', 'capture', 'realistically', 'cap', 'probable', 'philip', 'revealed', 'drama', 'drunken', 'rightly', 'wearing', 'boots', 'dignified', 'alan', 'finished', 'opting', 'invited', 'arrangement', 'herald', 'chatting', 'trouble', 'bye', 'skilful', 'fifth', 'create', 'ordinary', 'perched', 'washington', 'balcony', 'solitary', 'disney', 'disagreement', 'videos', 'path', 'production', 'surprise', 'panel', 'heads', 'instance', 'trigger', 'crimes', 'screws', 'divine', 'momentous', 'breasts', 'committees', 'believing', 'rot', 'cat', 'strips', 'bout', 'figures', 'l', 'damage', 'peered', 'tying', 'rugby', 'ale', 'candy', 'adrenalin', 'bloke', 'experimental', 'golden', 'gloomy', 'macdonald', 'transaction', 'admission', 'traveller', 'warren', 'keen', 'prisoners', 'factor', 'scattered', 'fragile', 'chaplin', 'alfred', 'noticeable', 'swearing', 'unless', 'meanings', 'breathed', 'leather', 'controversial', 'exaggerated', 'sharply', 'pursuit', 'patterned', 'hooves', 'suggest', 'jerusalem', 'argentina', 'prison', 'comments', 'dig', 'clearance', 'distorted', 'astonished', 'burden', 'butterflies', 'devices', 'disposing', 'ruined', 'tribunal', 'linking', 'locals', 'blouse', 'entitled', 'issuing', 'consensus', 'champing', 'reinforce', 'stayed', 'mainframes', 'pakistan', 'revealing', 'breaking', 'herbert', 'dots', 'listeners', 'aristotle', 'maintains', 'bargain', 'stimuli', 'list', 'laying', 'superiority', 'surplus', 'goods', 'royalty', 'freeze', 'floors', 'feat', 'forehead', 'kiss', 'toes', 'undermine', 'cricketers', 'compulsory', 'wither', 'explosive', 'rachel', 'terrible', 'resisted', 'absent', 'penguin', 'muttered', 'norway', 'righteous', 'focal', 'gates', 'february', 'materials', 'submit', 'corporation', 'intake', 'cuffs', 'encouraged', 'ideas', 'chestnut', 'composed', 'highway', 'correspondent', 'brenda', 'unbeaten', 'speeds', 'blindly', 'magic', 'competition', 'uses', 'jamie', 'hunter', 'senior', 'dogged', 'nowhere', 'sequence', 'spill', 'landed', 'incapable', 'impractical', 'engine', 'oils', 'realistic', 'suffolk', 'conveyancing', 'recourse', 'punches', 'patten', 'implicit', 'legitimate', 'gradual', 'desperation', 'cigar', 'influential', 'foster', 'dairy', 'cecil', 'starve', 'sell', 'packard', 'stephen', 'swore', 'prophet', 'guilty', 'movies', 'highest', 'bands', 'flee', 'extinction', 'somerset', 'tactical', 'muffled', 'parked', 'reproduction', 'ships', 'motto', 'access', 'completing', 'shaft', 'spilt', 'attacked', 'guitars', 'youth', 'aunt', 'lta', 'fails', 'persuading', 'dudgeon', 'guild', 'crazy', 'buggers', 'genuinely', 'exposed', 'garages', 'slept', 'lenny', 'illustrates', 'gala', 'injustice', 'recruitment', 'inconsistent', 'thief', 'expenditure', 'rounded', 'interested', 'stream', 'luke', 'sombre', 'mouths', 'appearance', 'hectares', 'reunion', 'academics', 'treasure', 'suicide', 'lucy', 'producers', 'score', 'measurement', 'latest', 'eligible', 'rewarded', 'firmly', 'gotten', 'consultation', 'davidson', 'rio', 'ernest', 'orchestra', 'listed', 'rubs', 'correspond', 'novelist', 'courtesy', 'socket', 'increasingly', 'vigorous', 'felled', 'fa', 'explosions', 'roles', 'furthermore', 'pig', 'ticket', 'reportedly', 'dye', 'ignoring', 'transferred', 'star', 'beak', 'survival', 'failure', 'baked', 'roughly', 'serbian', 'fin', 'clearing', 'debbie', 'jumping', 'wise', 'autumn', 'fee', 'reforms', 'dying', 'cheese', 'steam', 'arena', 'hatches', 'unsatisfactory', 'kissing', 'manpower', 'context', 'fed', 'slope', 'vital', 'cunningham', 'chaos', 'mob', 'downing', 'dicing', 'sword', 'egyptian', 'incorporated', 'bonds', 'interpreted', 'incentives', 'deficit', 'lucia', 'cegb', 'secretaries', 'checks', 'remark', 'ah', 'relish', 'wasted', 'aerospace', 'settee', 'j', 'lean', 'touching', 'ph', 'kylie', 'basement', 'comprising', 'pavement', 'ones', 'withstand', 'performances', 'andré', 'styling', 'impressed', 'orton', 'spell', 'goalposts', 'williamson', 'escaped', 'culture', 'hong', 'humorous', 'purity', 'save', 'middlesbrough', 'abolition', 'splashing', 'identical', 'success', 'suitable', 'productive', 'distinguished', 'indie', 'importantly', 'leaning', 'humour', 'add', 'logical', 'jolly', 'sale', 'weekend', 'trustee', 'politician', 'brick', 'diverse', 'cycle', 'negotiate', 'oscar', 'victor', 'maintenance', 'terrified', 'tearing', 'tough', 'wildly', 'redundancies', 'environmentally', 'acute', 'deprived', 'fuck', 'pride', 'grandmother', 'shipping', 'abingdon', 'crisis', 'koi', 'exclusive', 'farther', 'waved', 'buckingham', 'curriculum', 'optimism', 'shrouded', 'beaten', 'complain', 'policies', 'unprecedented', 'kodak', 'da', 'heterosexual', 'heated', 'debtor', 'rehearsal', 'discretion', 'arch', 'fertility', 'gazza', 'eddie', 'summoned', 'columns', 'col', 'pope', 'secret', 'lose', 'xi', 'justified', 'flour', 'commit', 'shortest', 'hendrix', 'suppliers', 'liberal', 'assemble', 'muslim', 'gale', 'industrial', 'smelled', 'pollution', 'flooded', 'quantitative', 'eradicate', 'cabbage', 'overnight', 'nineteenth', 'mates', 'superficial', 'australian', 'dignity', 'waste', 'rub', 'riddance', 'ivory', 'onto', 'replaced', 'raise', 'location', 'euro', 'reasons', 'hastings', 'schemes', 'agreeing', 'restricted', 'bryan', 'emphasize', 'colonial', 'grave', 'outing', 'amendment', 'beating', 'apron', 'pp', 'swoop', 'needle', 'covert', 'integrated', 'offence', 'emotion', 'step', 'firmer', 'catherine', 'cooks', 'elizabeth', 'heater', 'creeps', 'thailand', 'emerge', 'cheshire', 'dj', 'weekly', 'roost', 'von', 'operational', 'pleading', 'emergence', 'shortcomings', 'stools', 'examining', 'pushing', 'resemble', 'consisting', 'suspected', 'disease', 'ira', 'glancing', 'antrim', 'fortnight', 'brakes', 'norwegian', 'throwing', 'shrinking', 'mid', 'publishers', 'venture', 'discovering', 'jasper', 'elder', 'hq', 'supporter', 'cranston', 'robin', 'wins', 'dancer', 'option', 'curb', 'fetch', 'liked', 'czech', 'fairness', 'siren', 'negotiating', 'whistles', 'noise', 'territorial', 'desktop', 'exists', 'harvest', 'tray', 'log', 'analyse', 'hunted', 'magnitude', 'jealous', 'replacement', 'lip', 'harp', 'zambia', 'eric', 'grabs', 'transactions', 'nicholson', 'send', 'chris', 'burns', 'prestige', 'scorer', 'filling', 'retired', 'harassment', 'hint', 'cousins', 'mentioning', 'breeds', 'frank', 'stopped', 'temperature', 'professionally', 'elegant', 'loggerheads', 'prudent', 'wonderfully', 'snooker', 'joins', 'concepts', 'suspiciously', 'computing', 'attached', 'summed', 'ontological', 'subtly', 'opec', 'chart', 'brimming', 'lucrative', 'usl', 'aside', 'unionist', 'fruits', 'cameras', 'viewers', 'impersonal', 'accidentally', 'bolton', 'wayside', 'loud', 'fitted', 'string', 'hatchet', 'engraved', 'smith', 'defend', 'smokers', 'controversy', 'pursuing', 'simplicity', 'joke', 'alpine', 'depends', 'stories', 'belinda', 'boiled', 'pot', 'shy', 'trickle', 'airline', 'coins', 'format', 'opponents', 'gould', 'denied', 'booth', 'sewing', 'locked', 'efficiency', 'racism', 'breakthrough', 'alternative', 'peeling', 'feelings', 'hopefully', 'resentment', 'grind', 'adopting', 'weight', 'mysterious', 'digs', 'smoker', 'scales', 'indicates', 'easiest', 'names', 'sandra', 'athelstan', 'nuns', 'albums', 'equation', 'guaranteed', 'wealthy', 'varying', 'effort', 'riot', 'stove', 'automated', 'mood', 'creditor', 'outset', 'lewis', 'hassle', 'challengers', 'rarest', 'gun', 'treatment', 'scepticism', 'slick', 'pistols', 'era', 'users', 'idle', 'nobody', 'lord', 'neo', 'knowing', 'willy', 'ross', 'repeated', 'controls', 'toll', 'constructed', 'lying', 'stabilize', 'shropshire', 'couples', 'plumbing', 'facing', 'depressed', 'confirmed', 'licensed', 'gradually', 'spades', 'calibre', 'incidentally', 'agreement', 'lives', 'banbury', 'risky', 'marquee', 'fashioned', 'shame', 'h', 'famine', 'smoking', 'successfully', 'spark', 'gypsy', 'losing', 'tree', 'iraqi', 'cider', 'preferences', 'ncr', 'coun', 'software', 'dresses', 'duchy', 'guarantee', 'remembers', 'decades', 'crept', 'adhered', 'template', 'bending', 'titled', 'rocking', 'documented', 'employment', 'midland', 'positively', 'scope', 'gorse', 'cruising', 'locally', 'divorced', 'writers', 'enter', 'endowment', 'dummy', 'wheel', 'collective', 'plenty', 'unfair', 'appreciate', 'expanding', 'dustbin', 'houses', 'fifteen', 'hungarian', 'variety', 'winger', 'beyond', 'reminded', 'shifted', 'joys', 'ec', 'admit', 'henley', 'grapes', 'districts', 'leo', 'midlands', 'commonwealth', 'considerably', 'waiting', 'angle', 'intervening', 'valve', 'governance', 'buck', 'barley', 'spectators', 'civilisation', 'alcohol', 'sporting', 'judged', 'rare', 'minimal', 'harriet', 'drivers', 'robson', 'p', 'putt', 'permitted', 'absorbed', 'judgement', 'thumping', 'bucket', 'k', 'buys', 'imaginary', 'souls', 'lark', 'tiananmen', 'inside', 'notorious', 'delegates', 'licence', 'succeeding', 'november', 'commander', 'idealism', 'yugoslavia', 'electrical', 'ferry', 'brewing', 'lanes', 'moore', 'dashing', 'heel', 'kith', 'index', 'withdrew', 'donald', 'uncle', 'technologies', 'derives', 'lamb', 'cement', 'predictable', 'doctor', 'liability', 'verge', 'brady', 'motivation', 'photograph', 'preferred', 'officially', 'steel', 'sized', 'relegation', 'classes', 'wildlife', 'scum', 'sprung', 'bees', 'deteriorated', 'walker', 'et', 'comrades', 'monitoring', 'unilateral', 'laughed', 'rebuild', 'milk', 'seamen', 'explicitly', 'concerning', 'singers', 'ugly', 'kinds', 'picturesque', 'danger', 'premier', 'singh', 'thickness', 'cassette', 'shapes', 'indians', 'variation', 'preservation', 'pools', 'stocking', 'burrows', 'ar', 'fig', 'suggestion', 'incidental', 'translate', 'commission', 'swap', 'bang', 'cluster', 'choked', 'mechanisms', 'marie', 'recovery', 'stunning', 'flame', 'depth', 'devote', 'calculated', 'nursery', 'knots', 'tunes', 'cheering', 'withdraw', 'foundations', 'castle', 'van', 'waugh', 'distress', 'recognise', 'crafty', 'famous', 'abbot', 'honours', 'oaths', 'columbia', 'procedural', 'repair', 'eager', 'lesson', 'marriage', 'incompetence', 'calls', 'silly', 'chairs', 'landmark', 'rows', 'underneath', 'ooh', 'renewal', 'rebound', 'recoup', 'magazines', 'honda', 'dorothy', 'g', 'borough', 'dale', 'definitely', 'coastal', 'alton', 'neighbours', 'stairs', 'ingres', 'audit', 'earthquake', 'outcome', 'ritual', 'scotland', 'smiles', 'liverpool', 'coarse', 'watering', 'assess', 'permissive', 'obtaining', 'stroke', 'runners', 'bullock', 'pilots', 'tender', 'asks', 'persistent', 'brilliant', 'tommy', 'ferguson', 'tie', 'peasants', 'surface', 'breathing', 'prepare', 'bureaucrats', 'contestants', 'turbo', 'revelling', 'gods', 'broadcast', 'bulging', 'medals', 'bug', 'mate', 'businessmen', 'labourers', 'request', 'schooling', 'admittedly', 'proverbial', 'accord', 'birdie', 'russia', 'compare', 'seconds', 'tories', 'till', 'cabinet', 'lieutenant', 'goodbye', 'abuse', 'chickens', 'imports', 'yield', 'bite', 'temporarily', 'promoter', 'complicated', 'background', 'squadron', 'lecture', 'bernstein', 'warring', 'phrases', 'easing', 'professional', 'stare', 'tranmere', 'croydon', 'norms', 'ignore', 'economically', 'illegal', 'countrymen', 'cropped', 'isolated', 'unreal', 'ceiling', 'stripping', 'campaigns', 'faithful', 'hanger', 'forge', 'waves', 'severely', 'strict', 'pet', 'sweet', 'sermaria', 'unaco', 'crystals', 'whigs', 'spraying', 'reading', 'assume', 'carpets', 'abandoned', 'grounded', 'farms', 'thrust', 'counted', 'robbie', 'maintain', 'societies', 'somewhere', 'proud', 'fuelled', 'gemma', 'nicholas', 'flood', 'tempted', 'desert', 'indulgence', 'fix', 'dimension', 'jake', 'flats', 'pilkington', 'ux', 'samuel', 'condition', 'agents', 'wayne', 'triple', 'cabinets', 'occupied', 'dollars', 'triangle', 'mansell', 'shabby', 'ham', 'figure', 'bat', 'remind', 'logic', 'barnes', 'crisp', 'awaiting', 'boyfriend', 'wives', 'masks', 'closer', 'tickle', 'pounds', 'granted', 'malone', 'proven', 'curious', 'fabrics', 'crane', 'grant', 'property', 'strewn', 'pleasant', 'nme', 'comfortable', 'dexter', 'brief', 'globe', 'beautiful', 'shadow', 'barton', 'possess', 'florida', 'swansea', 'catches', 'reads', 'receiving', 'dripping', 'overheads', 'theory', 'theorists', 'treat', 'metro', 'tick', 'terry', 'secretly', 'rules', 'feed', 'unemployed', 'expedition', 'apartments', 'jewellery', 'appropriation', 'eighteen', 'takeover', 'ralph', 'embarrassed', 'compelled', 'phoned', 'bid', 'amazed', 'frustration', 'visit', 'soap', 'devoted', 'presentation', 'coverage', 'pinned', 'cloak', 'humid', 'warned', 'nancy', 'honoured', 'lamps', 'routines', 'undertaking', 'emphasis', 'peg', 'examined', 'engineers', 'verse', 'slightest', 'lass', 'birdies', 'wagons', 'dangerously', 'brownies', 'bald', 'guiding', 'occupation', 'barriers', 'clutching', 'emotional', 'supposed', 'hilary', 'sounds', 'rapidly', 'desperately', 'properly', 'jeep', 'lunch', 'utmost', 'everyday', 'symbols', 'fantasies', 'disbelief', 'void', 'hose', 'laugh', 'teesside', 'conviction', 'mutton', 'booksellers', 'limp', 'stretched', 'conceived', 'gentry', 'fitness', 'solemn', 'illness', 'con', 'torn', 'writes', 'hitting', 'en', 'awe', 'paused', 'unkind', 'occupational', 'roger', 'mps', 'super', 'recalled', 'argued', 'shares', 'reasonable', 'fines', 'wicket', 'naval', 'dreams', 'roll', 'glass', 'jobs', 'wilson', 'heroes', 'ghost', 'treacherous', 'parcel', 'bunk', 'lover', 'governor', 'proposition', 'tricky', 'tape', 'morris', 'bike', 'measuring', 'manchester', 'generate', 'biscuit', 'viable', 'unlawful', 'wolves', 'arnold', 'tradition', 'temptation', 'runcorn', 'julian', 'conclusions', 'boxes', 'remembering', 'opportunity', 'firm', 'disrepute', 'clergy', 'installation', 'continuous', 'unnecessary', 'arsenal', 'amazing', 'trunk', 'moments', 'coil', 'yer', 'imagine', 'stands', 'preparation', 'speeches', 'everton', 'picnic', 'niki', 'fair', 'darkness', 'barrel', 'intends', 'sensational', 'employed', 'practitioners', 'promising', 'lame', 'saved', 'tangible', 'examine', 'joyce', 'ashes', 'hopelessly', 'costly', 'divisional', 'prescribed', 'geared', 'consultants', 'happening', 'heavily', 'settle', 'soaked', 'extravagant', 'attending', 'extending', 'utilities', 'rangers', 'mystery', 'thrown', 'exit', 'securely', 'ram', 'shaved', 'approved', 'pad', 'burned', 'champion', 'onwards', 'ranulf', 'apathy', 'proportions', 'inverness', 'possibly', 'travel', 'nursing', 'suggesting', 'pleasure', 'drawers', 'honourable', 'ridicule', 'lisa', 'meaning', 'readers', 'shed', 'offered', 'captain', 'grandfather', 'truly', 'looming', 'conservationists', 'aiming', 'queen', 'professors', 'abbey', 'deference', 'unscrupulous', 'wagon', 'slate', 'permanently', 'leicester', 'stirling', 'stimulating', 'network', 'programmes', 'evils', 'leaflet', 'stevenson', 'liar', 'value', 'witch', 'regulate', 'traps', 'screamed', 'hoechst', 'operative', 'happened', 'anne', 'minus', 'relaxing', 'intervention', 'teenage', 'weighed', 'disabled', 'relief', 'script', 'doncaster', 'nightmare', 'researcher', 'dyed', 'park', 'eden', 'core', 'palestinian', 'elsewhere', 'collision', 'facts', 'whistle', 'lloyd', 'nostrils', 'bore', 'sources', 'vacant', 'precise', 'allen', 'heading', 'failures', 'met', 'sponsor', 'violent', 'curl', 'feels', 'sugar', 'sinners', 'rallies', 'broadly', 'posters', 'serein', 'incentive', 'sweating', 'improved', 'begs', 'customary', 'fifteenth', 'spat', 'hugo', 'cave', 'stupid', 'glanced', 'administrative', 'distinguish', 'tv', 'relieve', 'editorial', 'matt', 'wrought', 'cramped', 'steals', 'drawer', 'generates', 'blah', 'criticisms', 'lemon', 'duchess', 'approximately', 'potter', 'tel', 'miraculous', 'turner', 'leash', 'commercial', 'belly', 'seek', 'addressing', 'pirate', 'burly', 'respective', 'liver', 'doubles', 'infection', 'crossing', 'sept', 'demanding', 'abolish', 'convent', 'clarke', 'favour', 'forget', 'comics', 'heaven', 'moan', 'spectacular', 'engines', 'alternatives', 'bus', 'pets', 'grassy', 'jokes', 'sustainable', 'grounds', 'insurers', 'murmured', 'ryedale', 'replace', 'gaining', 'knuckle', 'hip', 'consent', 'dominance', 'bollocks', 'records', 'troop', 'architectural', 'slipping', 'exporting', 'consultancy', 'exceedingly', 'moving', 'umbrella', 'client', 'throats', 'corp', 'journalism', 'dozen', 'reserves', 'shades', 'parishes', 'investments', 'dirty', 'lies', 'stealing', 'ulster', 'tidal', 'botha', 'opposed', 'duff', 'ron', 'beats', 'subjected', 'marginal', 'denying', 'theatre', 'mildly', 'cd', 'clients', 'loyal', 'francisco', 'dual', 'flynn', 'shaken', 'tours', 'nest', 'lined', 'rewarding', 'respectively', 'brothers', 'continents', 'sink', 'lump', 'wendy', 'slumped', 'surprisingly', 'reviews', 'patient', 'legislation', 'icon', 'twist', 'label', 'dramatically', 'minute', 'bowing', 'morse', 'owl', 'intervene', 'attributable', 'incorrect', 'confession', 'potentially', 'casualty', 'cakes', 'propaganda', 'whispering', 'disappear', 'zip', 'shyness', 'granite', 'mel', 'egg', 'constitutional', 'celebrating', 'nelson', 'fare', 'maintained', 'linked', 'surf', 'nick', 'verity', 'construction', 'lent', 'crude', 'disposal', 'accusation', 'marked', 'contrary', 'perdita', 'statute', 'trace', 'workmen', 'closest', 'halves', 'invested', 'mode', 'adult', 'mainstream', 'appropriately', 'bids', 'deepened', 'sheet', 'magistrate', 'coleman', 'embracing', 'constitute', 'accountants', 'ministerial', 'ideological', 'resorts', 'studies', 'unchanged', 'appointing', 'peat', 'gamekeeper', 'stern', 'bowie', 'exploit', 'orchard', 'restriction', 'cleaned', 'hood', 'quarter', 'overlooked', 'uncertain', 'fierce', 'successive', 'transition', 'translation', 'bream', 'displays', 'correspondence', 'fernando', 'incredibly', 'outward', 'yen', 'port', 'recognized', 'rescue', 'gaps', 'retail', 'fumbled', 'natives', 'museums', 'dangers', 'silas', 'experiment', 'thereof', 'naming', 'prescott', 'serve', 'philosophical', 'newman', 'princes', 'shocked', 'farming', 'colchester', 'liza', 'doubted', 'tracey', 'cricket', 'darlington', 'exhausted', 'gathering', 'lick', 'tents', 'physics', 'showing', 'pensioner', 'franchise', 'bags', 'leeds', 'enforcement', 'painfully', 'spaces', 'tilt', 'folds', 'geneva', 'trainees', 'hotels', 'clark', 'settlements', 'coup', 'prove', 'sprawling', 'crashing', 'architect', 'greed', 'formation', 'umpire', 'maps', 'trapped', 'fluid', 'parameters', 'parting', 'errands', 'seaman', 'delicious', 'seeks', 'travelled', 'rainbow', 'reel', 'approval', 'dismay', 'brave', 'andre', 'flavour', 'spanish', 'footballer', 'slide', 'perception', 'active', 'steered', 'relied', 'ford', 'overlap', 'causing', 'kick', 'skimmed', 'behaved', 'spent', 'challenging', 'gold', 'outlets', 'lectures', 'quinn', 'engagement', 'maxim', 'villains', 'sought', 'sample', 'invaluable', 'described', 'advertised', 'contemplate', 'imposed', 'survivors', 'painter', 'judging', 'anticipated', 'knowledge', 'muttering', 'interesting', 'improvements', 'bypass', 'heather', 'demonstrates', 'locking', 'v', 'peters', 'tendencies', 'miguel', 'locomotive', 'strachan', 'recover', 'attitudes', 'transport', 'sculpture', 'coke', 'coherent', 'patrick', 'lavender', 'crusade', 'jennifer', 'jockeys', 'causes', 'diana', 'vietnamese', 'nod', 'atmosphere', 'caution', 'ear', 'toss', 'recommend', 'finding', 'demand', 'special', 'popping', 'proposed', 'election', 'compact', 'emi', 'characteristically', 'kissed', 'irresistible', 'sparked', 'sided', 'sins', 'invariably', 'everywhere', 'sponsored', 'ban', 'searched', 'alerted', 'scare', 'reflecting', 'refreshing', 'edinburgh', 'reader', 'consequences', 'baggage', 'motives', 'skins', 'teetering', 'enjoying', 'gray', 'brains', 'baldersdale', 'greens', 'presenting', 'recruit', 'track', 'seas', 'spends', 'tent', 'stake', 'rubin', 'camille', 'whoever', 'c', 'portrayal', 'polls', 'associations', 'staged', 'coloured', 'existing', 'credit', 'minority', 'fireplace', 'candle', 'lady', 'university', 'rude', 'continent', 'punching', 'finances', 'glc', 'precisely', 'credibility', 'healey', 'nonsense', 'canine', 'delicate', 'mask', 'clockwork', 'savings', 'schedule', 'roofed', 'taiwanese', 'sheets', 'reaching', 'failing', 'caravan', 'reformed', 'soccer', 'rodney', 'reset', 'tends', 'primitive', 'confronted', 'recession', 'battles', 'obliged', 'oxfordshire', 'depended', 'bolt', 'tight', 'scared', 'doctrine', 'train', 'hampshire', 'goals', 'freedom', 'wake', 'clarification', 'benefited', 'integral', 'slung', 'talented', 'piers', 'occasions', 'sentences', 'fascinating', 'drove', 'sweat', 'amused', 'mere', 'bottomley', 'holdings', 'mirror', 'colouring', 'modelling', 'giants', 'coated', 'parking', 'coals', 'axes', 'gathered', 'enables', 'startling', 'cruz', 'songs', 'pale', 'inspiring', 'skating', 'whisper', 'disagree', 'nonetheless', 'saviour', 'stops', 'leg', 'gentle', 'hero', 'conventional', 'expectations', 'privy', 'agree', 'proceedings', 'cheek', 'peggy', 'subtle', 'lakes', 'assumed', 'stability', 'agreements', 'remaining', 'morgan', 'elephants', 'developed', 'drops', 'jewish', 'predicted', 'safety', 'healing', 'impression', 'nationalism', 'bra', 'tomorrow', 'competent', 'sterling', 'kingdom', 'robertson', 'seal', 'repository', 'bert', 'glove', 'asian', 'rid', 'efficiently', 'display', 'inappropriate', 'organisers', 'repeat', 'rounding', 'directly', 'legislature', 'marxism', 'scandal', 'deaf', 'uncomfortable', 'piles', 'torch', 'drifting', 'herring', 'plane', 'sides', 'strong', 'direct', 'courage', 'journey', 'object', 'bears', 'avoid', 'attempting', 'ann', 'fellowship', 'supreme', 'nude', 'parliamentary', 'search', 'cups', 'hall', 'comic', 'wryly', 'decisive', 'trains', 'gaelic', 'crumpled', 'convert', 'pray', 'discussed', 'comfortably', 'domain', 'affect', 'religion', 'summary', 'impressions', 'squeezing', 'bearing', 'shannon', 'motorola', 'admits', 'window', 'merely', 'courses', 'economy', 'morals', 'referring', 'artificial', 'distances', 'carriage', 'created', 'hierarchy', 'ridley', 'criticism', 'luck', 'decade', 'measured', 'restore', 'mundane', 'triumph', 'coded', 'ads', 'protests', 'financially', 'pr', 'bias', 'capital', 'missiles', 'appearances', 'casts', 'tier', 'rubber', 'programmed', 'staircase', 'shattered', 'popularity', 'soft', 'dreaming', 'bombs', 'pounced', 'seles', 'tin', 'supposedly', 'integrate', 'countryside', 'acquire', 'polo', 'crap', 'circumstances', 'priest', 'arithmetic', 'moon', 'senses', 'slaughter', 'proving', 'drilling', 'sympathies', 'comparisons', 'opt', 'natural', 'irony', 'sling', 'importance', 'employs', 'cache', 'eventually', 'supernatural', 'cuts', 'colours', 'hull', 'interviewed', 'refusal', 'conversations', 'furnishings', 'eg', 'structures', 'ok', 'slave', 'reported', 'alliances', 'missed', 'heightened', 'fabulous', 'filled', 'exposing', 'mobility', 'gamut', 'eliot', 'melted', 'phillips', 'totality', 'speaker', 'diminished', 'determined', 'coping', 'brutally', 'austria', 'sang', 'baskets', 'doc', 'virtues', 'stripped', 'returns', 'samsung', 'jimmy', 'counter', 'psychologist', 'occurrence', 'servers', 'stages', 'printing', 'dan', 'insulation', 'helen', 'eyebrow', 'constables', 'choosing', 'vain', 'flyer', 'pedestrians', 'consists', 'lynn', 'barnet', 'gp', 'figured', 'frames', 'cars', 'atkinson', 'noted', 'upstairs', 'implementation', 'supplement', 'pioneering', 'editing', 'vocal', 'romania', 'narrative', 'decay', 'hollow', 'aaron', 'bail', 'solve', 'sunday', 'inserted', 'enthusiastic', 'climbs', 'cradle', 'scrap', 'disgruntled', 'ceremony', 'comment', 'dream', 'panorama', 'breaches', 'drawing', 'stubborn', 'benjamin', 'seeking', 'exceeded', 'profitable', 'rightful', 'habitat', 'lowering', 'tournaments', 'aluminium', 'equal', 'ransom', 'heal', 'spray', 'weathered', 'medieval', 'predicament', 'flowers', 'pretence', 'etc', 'marched', 'foreigners', 'telford', 'moaning', 'mileage', 'fascists', 'swayed', 'interrupted', 'storey', 'nails', 'tool', 'unrest', 'surroundings', 'jackpot', 'tycoon', 'laughs', 'inflict', 'muscular', 'loyalist', 'viewpoint', 'despair', 'affecting', 'sport', 'buds', 'kill', 'correctly', 'dublin', 'meter', 'reckon', 'crashed', 'morton', 'notably', 'bugger', 'disruption', 'rocker', 'acknowledge', 'grass', 'shelley', 'rocked', 'bicycle', 'linguistic', 'essential', 'powered', 'raiders', 'provocative', 'dos', 'churchill', 'keeps', 'oliver', 'traces', 'rays', 'leisure', 'quartet', 'invest', 'sudden', 'boiler', 'louis', 'saga', 'forgive', 'tricks', 'whooping', 'victorian', 'swiss', 'limits', 'oxfam', 'criticized', 'dissolve', 'believes', 'vessels', 'hugh', 'scraps', 'undoubtedly', 'continually', 'scots', 'briskly', 'numbered', 'weakness', 'sainsbury', 'diet', 'snail', 'desperate', 'advocate', 'respond', 'satin', 'julie', 'commitment', 'monitor', 'bouncing', 'rating', 'palm', 'scot', 'offing', 'specialised', 'dangerous', 'statement', 'primary', 'rider', 'bated', 'standard', 'construct', 'director', 'boarding', 'watson', 'sheffield', 'contra', 'relaxation', 'richard', 'plant', 'officers', 'wee', 'pottery', 'factions', 'lords', 'beneath', 'constructions', 'awards', 'recently', 'tiny', 'bury', 'defensive', 'mill', 'postcard', 'obtained', 'wants', 'knows', 'funeral', 'distinction', 'definition', 'bloods', 'hind', 'wherever', 'peasant', 'angeles', 'squad', 'handkerchief', 'collapsed', 'stink', 'anymore', 'piss', 'sequences', 'des', 'pornography', 'token', 'provision', 'forces', 'satellite', 'rehearsals', 'judges', 'marathon', 'swing', 'brings', 'competitive', 'echoed', 'tallis', 'edgar', 'communism', 'countless', 'tenant', 'damned', 'versions', 'region', 'confused', 'exhibitions', 'grinning', 'cum', 'pressed', 'modigliani', 'instinct', 'futures', 'acquaintance', 'reaches', 'prayers', 'naked', 'promenade', 'summarised', 'owning', 'talents', 'texts', 'visibly', 'papers', 'wea', 'males', 'fergie', 'nights', 'councillor', 'migration', 'calling', 'checking', 'sharon', 'tightening', 'robbed', 'walsh', 'daughter', 'inspiration', 'newton', 'unity', 'notes', 'trouser', 'spin', 'detroit', 'max', 'literally', 'apostle', 'missing', 'leagues', 'wanting', 'nizan', 'nephew', 'navy', 'gain', 'toby', 'verses', 'distance', 'sells', 'reputations', 'trunks', 'slim', 'saint', 'leopold', 'hopeless', 'donna', 'specimens', 'dolphin', 'gracious', 'onslaught', 'dancing', 'release', 'crest', 'mentality', 'ultimately', 'witnesses', 'vegetables', 'gary', 'unreasonable', 'foreign', 'sentimental', 'sleeping', 'temple', 'surge', 'disappearance', 'letters', 'muddy', 'strode', 'exterior', 'farmer', 'destined', 'operates', 'depending', 'meanwhile', 'assurances', 'poles', 'efforts', 'tea', 'host', 'chasing', 'flown', 'recall', 'realise', 'collectively', 'realized', 'favourite', 'behold', 'normality', 'managing', 'imperial', 'presented', 'queried', 'examination', 'securing', 'preston', 'celia', 'anxious', 'gdp', 'profile', 'optimistic', 'arise', 'remedies', 'shareholders', 'barn', 'southern', 'upheaval', 'ending', 'magnetism', 'promise', 'rover', 'lighter', 'livery', 'christine', 'rats', 'gibson', 'quantity', 'tipped', 'calculations', 'charged', 'sliding', 'diversity', 'cattle', 'modified', 'supplying', 'humiliation', 'pins', 'raid', 'aboard', 'classify', 'lesions', 'traffic', 'directed', 'franco', 'michael', 'extinct', 'familiar', 'recognition', 'tissues', 'bt', 'blunt', 'wilko', 'rational', 'capabilities', 'abruptly', 'sore', 'ideals', 'hobbes', 'teaching', 'instructed', 'roughshod', 'resisting', 'witness', 'household', 'raincoat', 'informed', 'margins', 'shaving', 'explanation', 'tribe', 'ai', 'murder', 'discovered', 'reinforced', 'completely', 'reciprocal', 'huge', 'buff', 'agitation', 'momentarily', 'vehicles', 'purchased', 'powers', 'title', 'placement', 'relieved', 'studying', 'furnished', 'planting', 'outlines', 'detect', 'spheres', 'th', 'amendments', 'cries', 'resulted', 'principal', 'sacked', 'horizontal', 'introduction', 'lashed', 'sulphur', 'facilitate', 'laura', 'punished', 'outsiders', 'interviews', 'mental', 'fishermen', 'rhythms', 'deserve', 'overtly', 'machinery', 'solo', 'boost', 'grew', 'cotswolds', 'monitored', 'plaintiffs', 'cracks', 'quota', 'offset', 'ruled', 'rooms', 'watched', 'medvedev', 'commonplace', 'prominently', 'sliced', 'accountant', 'handicap', 'ambulance', 'merger', 'nerves', 'crunch', 'representative', 'thrilling', 'hurricane', 'idiot', 'steve', 'applies', 'healthy', 'productivity', 'seventy', 'propping', 'mockery', 'bush', 'fellow', 'flanked', 'georgia', 'mortal', 'japan', 'bandwagon', 'mighty', 'snatched', 'pa', 'pious', 'mason', 'calculation', 'malt', 'marvellous', 'abstract', 'historic', 'girlfriend', 'mostly', 'ellen', 'elaine', 'pound', 'recalls', 'lawyer', 'charm', 'smiled', 'devised', 'controlling', 'hardware', 'steven', 'objective', 'blamed', 'enjoys', 'treading', 'tacit', 'lloyds', 'amateur', 'spiritual', 'amazement', 'washed', 'pine', 'periods', 'instances', 'winds', 'promoting', 'motive', 'abuses', 'grace', 'monk', 'rochester', 'ghosts', 'graeme', 'cousin', 'beliefs', 'borrow', 'declaring', 'appreciated', 'coats', 'ascot', 'widening', 'unofficial', 'tempting', 'cotton', 'nervous', 'ratings', 'threat', 'contraction', 'ambitions', 'stall', 'lots', 'grievances', 'composition', 'struggling', 'pledge', 'charming', 'jugular', 'rode', 'miners', 'budget', 'jump', 'grenade', 'dear', 'barking', 'glasgow', 'relentlessly', 'database', 'delight', 'humanitarian', 'entitlement', 'pensioners', 'pal', 'kingston', 'delighted', 'nearer', 'mph', 'binder', 'endeavour', 'beck', 'factories', 'albert', 'prejudice', 'khrushchev', 'edition', 'bath', 'silent', 'lately', 'perform', 'stimulus', 'conflicting', 'trench', 'twisted', 'appointment', 'thanks', 'axe', 'executive', 'response', 'planners', 'collapse', 'mcdonald', 'carry', 'chemist', 'selfish', 'philosophers', 'refuge', 'struggled', 'earned', 'tasks', 'satisfy', 'surviving', 'projected', 'incident', 'refers', 'mini', 'intense', 'satisfied', 'trenches', 'relate', 'crow', 'snaps', 'occasionally', 'ya', 'enquire', 'boss', 'multi', 'dramas', 'ha', 'unfortunate', 'politics', 'footsteps', 'earth', 'tobacco', 'improve', 'fancy', 'discover', 'stimulate', 'noon', 'smiling', 'sampling', 'wholesale', 'kenya', 'testing', 'pillows', 'penalties', 'risc', 'responsibilities', 'exploring', 'favours', 'identifying', 'apprentices', 'confirm', 'cynical', 'allocate', 'adding', 'democracy', 'outright', 'bacteria', 'respect', 'welcome', 'mitch', 'golfers', 'signed', 'stirred', 'overlooking', 'privileged', 'bull', 'companion', 'scarcely', 'rake', 'thirds', 'deployment', 'parallel', 'lid', 'appraisal', 'privately', 'lodge', 'assault', 'ensuring', 'delights', 'wallace', 'behaviour', 'downward', 'booking', 'witnessed', 'fights', 'fought', 'ladies', 'ports', 'surprising', 'surfaces', 'inch', 'cables', 'requiring', 'coating', 'brewery', 'whip', 'taught', 'hilt', 'evidence', 'leaps', 'owned', 'entrepreneurs', 'security', 'peterborough', 'bluff', 'teacher', 'incidents', 'royalist', 'comedy', 'signing', 'trip', 'rising', 'exclusively', 'rates', 'confined', 'inventive', 'publish', 'confidence', 'disciplinary', 'hurt', 'searching', 'demanded', 'accusing', 'doom', 'alike', 'contented', 'dice', 'overtaken', 'official', 'holland', 'tourism', 'novelty', 'finish', 'waving', 'neat', 'adapting', 'died', 'weighs', 'mammal', 'reckons', 'equity', 'german', 'ring', 'bash', 'center', 'bitterly', 'trna', 'wright', 'itv', 'binge', 'deemed', 'driven', 'frontier', 'disturbing', 'wrenched', 'constituents', 'inflation', 'nation', 'tee', 'preoccupation', 'responding', 'tariff', 'headquarters', 'remarks', 'theme', 'grain', 'joseph', 'senna', 'studio', 'accent', 'manufactured', 'deposit', 'painters', 'shade', 'sick', 'disgusting', 'dedicated', 'pioneer', 'codes', 'stay', 'civilized', 'border', 'prose', 'meredith', 'radar', 'reliability', 'rationing', 'wales', 'pitches', 'dumping', 'owner', 'spider', 'battle', 'praises', 'conversation', 'admirer', 'relating', 'voters', 'fist', 'tons', 'leader', 'includes', 'badly', 'frightened', 'aloud', 'passing', 'rushdie', 'obscure', 'entity', 'convenient', 'understanding', 'las', 'pensions', 'learner', 'policymakers', 'chester', 'ideally', 'spring', 'extent', 'taps', 'bottles', 'communicate', 'flung', 'jars', 'emissions', 'relaxed', 'laboratory', 'trailer', 'pessimistic', 'pressure', 'eats', 'panama', 'driveway', 'greek', 'instant', 'bushes', 'surrounded', 'drill', 'investigated', 'shining', 'strides', 'scrutiny', 'wiping', 'usa', 'eagle', 'varieties', 'excellent', 'widow', 'nigeria', 'motions', 'contrast', 'investigations', 'gregor', 'unionists', 'cahoots', 'quietly', 'refuse', 'rape', 'virtue', 'delivery', 'madrid', 'christianity', 'dictionaries', 'symptoms', 'enterprises', 'eighty', 'diagram', 'relax', 'hunger', 'compensate', 'remove', 'extract', 'slowed', 'renault', 'element', 'yugoslav', 'rope', 'lure', 'mock', 'exceptional', 'teenager', 'bow', 'stamped', 'northallerton', 'confuse', 'knot', 'starring', 'lightning', 'rack', 'interpretation', 'belonging', 'consider', 'cheerful', 'demands', 'belfast', 'incurred', 'mingling', 'experts', 'addition', 'quotas', 'coaches', 'relatives', 'subsidiary', 'styled', 'convey', 'predictions', 'jacob', 'proposing', 'introducing', 'ripped', 'product', 'sunshine', 'rapid', 'hunched', 'tenants', 'beside', 'liberation', 'noble', 'disgrace', 'longest', 'devoid', 'introductions', 'fireworks', 'heroism', 'wandered', 'scores', 'offences', 'erika', 'jones', 'lordships', 'nuclear', 'excessive', 'indication', 'croatia', 'gps', 'talent', 'adults', 'rage', 'affairs', 'mainly', 'wretched', 'except', 'mobile', 'sanctions', 'rabbits', 'newspaper', 'insist', 'loops', 'intact', 'merchants', 'surveys', 'edward', 'silver', 'fear', 'rated', 'cloth', 'regarded', 'veto', 'lifetime', 'youthful', 'provisional', 'aix', 'sean', 'wicked', 'sd', 'drink', 'defy', 'collector', 'writer', 'cockney', 'lab', 'functions', 'stars', 'study', 'cow', 'mould', 'tractor', 'connections', 'neighbouring', 'bass', 'arrogant', 'whites', 'jordan', 'opinions', 'largely', 'dot', 'ass', 'sorting', 'immaculate', 'adventures', 'snook', 'lofty', 'orders', 'commons', 'jonathan', 'vicious', 'marsh', 'component', 'nina', 'grief', 'recommendation', 'desires', 'consumed', 'leaflets', 'curiosity', 'lennie', 'accustomed', 'sharp', 'poets', 'uncomfortably', 'swedish', 'dynamics', 'dame', 'qualifying', 'manual', 'characters', 'mare', 'motif', 'smoke', 'aftermath', 'towels', 'disapproval', 'damper', 'hannah', 'tidy', 'accounts', 'chambers', 'aim', 'jackson', 'anticipate', 'binoculars', 'stockings', 'unstoppable', 'retailing', 'unfairly', 'clause', 'stylish', 'drained', 'cruise', 'chair', 'grandson', 'leith', 'swear', 'formula', 'brown', 'fraction', 'runs', 'argues', 'pieces', 'unwittingly', 'respectable', 'pockets', 'attacking', 'admitted', 'contractor', 'nearby', 'climbers', 'permit', 'needles', 'rally', 'swift', 'procedure', 'reached', 'acceptable', 'divided', 'scratched', 'volunteers', 'introduce', 'gentlemen', 'subsidy', 'jacques', 'tour', 'sheer', 'poured', 'claude', 'openly', 'transmitted', 'rises', 'mozart', 'grabbing', 'defiant', 'chemists', 'employers', 'jet', 'tow', 'ageing', 'package', 'nowadays', 'dividends', 'rides', 'memorable', 'opportunities', 'territories', 'supervision', 'doorstep', 'passenger', 'applying', 'teased', 'villages', 'paddy', 'obligation', 'lifts', 'exercising', 'delay', 'insignificant', 'anthony', 'sane', 'campaigning', 'feeding', 'cultivated', 'manufacturer', 'cross', 'landscape', 'enjoy', 'intellectuals', 'floodgates', 'revolution', 'picked', 'booklet', 'novell', 'viking', 'arthur', 'recordings', 'faint', 'hairs', 'ammunition', 'arrive', 'phenomena', 'consulted', 'backs', 'hp', 'gavin', 'deny', 'ed', 'secondary', 'constituent', 'carries', 'promoted', 'rolling', 'raft', 'batting', 'operation', 'statements', 'proves', 'merit', 'degrees', 'splendid', 'bubbles', 'checked', 'annoying', 'hazardous', 'received', 'appreciation', 'justice', 'psychic', 'damn', 'graphics', 'defeats', 'bunch', 'tip', 'funds', 'lifestyle', 'beach', 'released', 'jeff', 'gains', 'prescription', 'memories', 'merrill', 'january', 'willing', 'platform', 'participants', 'farmers', 'beat', 'truck', 'estimate', 'ethnic', 'slippery', 'tunnel', 'patriotic', 'hollywood', 'retire', 'responsible', 'conservatives', 'seville', 'rattle', 'raising', 'uneasy', 'technological', 'separation', 'shine', 'cured', 'prospective', 'straightforward', 'predict', 'detected', 'types', 'ratified', 'achievement', 'twisting', 'negotiations', 'bark', 'fifties', 'goodwill', 'gospel', 'plank', 'block', 'republicans', 'clad', 'tribes', 'recovering', 'select', 'simpler', 'impending', 'similarly', 'slightly', 'marking', 'grade', 'cellar', 'hurled', 'persuade', 'terrific', 'contracted', 'sailors', 'hairy', 'killed', 'draped', 'regional', 'flight', 'ballot', 'lets', 'acoustic', 'commissioners', 'disposition', 'aptly', 'frowned', 'morrison', 'rifle', 'instructions', 'crawled', 'wits', 'avoiding', 'tread', 'lawrence', 'gravity', 'shops', 'anderson', 'associate', 'menacing', 'seals', 'mandela', 'bringing', 'safer', 'modestly', 'appendix', 'unusually', 'thankfully', 'bent', 'orthodoxy', 'shrewd', 'goose', 'economical', 'beast', 'miranda', 'guide', 'magician', 'capped', 'america', 'event', 'practice', 'cheat', 'logging', 'gum', 'throat', 'plug', 'indo', 'chairman', 'portsmouth', 'sand', 'darling', 'arrives', 'angels', 'provincial', 'consequently', 'constitutes', 'subversion', 'laughing', 'towns', 'concerns', 'kindly', 'differences', 'performs', 'link', 'binding', 'macmillan', 'packaging', 'older', 'demonstrate', 'adrian', 'married', 'coordination', 'pain', 'wedge', 'ink', 'providing', 'duck', 'crust', 'privilege', 'sara', 'generated', 'readily', 'offering', 'gloucestershire', 'sympathy', 'outspoken', 'hammer', 'universal', 'fellows', 'accept', 'fraud', 'fame', 'canvas', 'bobby', 'constituted', 'tables', 'innovations', 'travis', 'x', 'strictly', 'menus', 'russian', 'shorts', 'ci', 'morality', 'faction', 'involving', 'massage', 'prolific', 'preference', 'promises', 'stalemate', 'icl', 'bargaining', 'slices', 'christie', 'sweater', 'achieving', 'elderly', 'puppy', 'constructive', 'lipstick', 'renaissance', 'implying', 'breach', 'motorway', 'samaritan', 'revered', 'shortage', 'traditions', 'foremost', 'cuisine', 'institute', 'monster', 'spirits', 'baggy', 'processes', 'feast', 'cigarettes', 'rags', 'skill', 'coal', 'sa', 'glamorous', 'shoppers', 'refused', 'conduct', 'cantona', 'killer', 'streets', 'hop', 'urging', 'thomas', 'neville', 'ali', 'wish', 'straining', 'filter', 'celebration', 'width', 'disappointed', 'tickets', 'jargon', 'overcome', 'flamboyant', 'slight', 'listing', 'warming', 'shifting', 'seldom', 'equipment', 'emergencies', 'packed', 'racing', 'venice', 'civilization', 'treasures', 'appropriate', 'rejected', 'crowned', 'twins', 'armour', 'arguments', 'sharpe', 'hovering', 'predecessors', 'convictions', 'accessories', 'accidents', 'rich', 'accepting', 'purchaser', 'billing', 'expressing', 'wardrobe', 'curtain', 'bruno', 'jo', 'questioned', 'wizard', 'breakdown', 'violet', 'oblivion', 'paradise', 'varied', 'grand', 'conspiracy', 'arising', 'animals', 'flows', 'obstacle', 'retreat', 'fingertips', 'useless', 'shortly', 'please', 'earnings', 'daddy', 'crippled', 'lovely', 'shuffled', 'seeds', 'sisters', 'joining', 'outer', 'soften', 'nurses', 'slower', 'ie', 'rethink', 'disk', 'hereford', 'happier', 'roland', 'aviation', 'impulse', 'hague', 'circulation', 'instructor', 'shown', 'windsor', 'terrorist', 'banking', 'honesty', 'techno', 'masses', 'cocaine', 'leonard', 'frankly', 'servicing', 'newcomers', 'pace', 'hamlet', 'pleased', 'fairclough', 'salaries', 'rugs', 'indian', 'dismiss', 'organized', 'explained', 'substitute', 'mutually', 'ease', 'harper', 'extra', 'marjorie', 'graphic', 'protectionism', 'outdoors', 'numbers', 'par', 'saving', 'winners', 'flat', 'studied', 'sticky', 'tongue', 'lazy', 'senate', 'democratic', 'posts', 'labor', 'sky', 'twists', 'merchant', 'precedence', 'kayak', 'shady', 'cool', 'traded', 'scarf', 'curtains', 'curved', 'exile', 'allowances', 'programme', 'dope', 'captured', 'hesitate', 'brushed', 'devaluation', 'hung', 'corn', 'address', 'interference', 'inevitably', 'elvis', 'negligence', 'ridge', 'knights', 'overwhelmed', 'diesel', 'brook', 'federal', 'helicopter', 'dies', 'aggression', 'pleasantly', 'notice', 'races', 'supplier', 'aces', 'audiences', 'barcelona', 'females', 'adviser', 'headline', 'complaining', 'happily', 'impaired', 'fleet', 'absorb', 'christmas', 'advanced', 'travelling', 'protect', 'priority', 'collided', 'weave', 'rhyme', 'accident', 'rights', 'tolerate', 'trusts', 'pictured', 'particle', 'bishops', 'sunk', 'carmen', 'leaking', 'advantages', 'bundesbank', 'kitchen', 'anonymous', 'controller', 'extremes', 'submission', 'charities', 'monklands', 'disciplined', 'seeming', 'wooden', 'painted', 'static', 'shocking', 'laptop', 'terribly', 'demonstrations', 'cork', 'rests', 'pictures', 'freud', 'speculation', 'sue', 'aid', 'spare', 'involve', 'helpful', 'shoe', 'instrumental', 'afford', 'decree', 'leisurely', 'instruments', 'ex', 'forest', 'loaded', 'minerals', 'inspired', 'pour', 'squeeze', 'shared', 'headhunters', 'frenchman', 'windy', 'cult', 'geometric', 'flak', 'agrees', 'insurance', 'drinkers', 'ben', 'james', 'custom', 'determining', 'skates', 'oriented', 'image', 'filthy', 'roads', 'fixed', 'throne', 'documentary', 'bone', 'dotted', 'elections', 'claims', 'roy', 'allowing', 'bowler', 'payments', 'cyprus', 'teach', 'threshold', 'ta', 'stumbling', 'festival', 'engaged', 'existed', 'indulging', 'carved', 'dropped', 'archives', 'viz', 'martin', 'collection', 'tries', 'undertake', 'intonation', 'owe', 'phil', 'racer', 'hms', 'dreamed', 'teamed', 'apply', 'roberts', 'basking', 'madam', 'collins', 'generic', 'spencer', 'challenged', 'imagery', 'paved', 'stony', 'craven', 'reporters', 'mount', 'lucas', 'fortunately', 'pressing', 'execute', 'thoughtfully', 'drugs', 'possessions', 'hire', 'shouted', 'hardship', 'poked', 'governments', 'beer', 'heir', 'murray', 'damp', 'dragging', 'nicky', 'argument', 'tab', 'raced', 'saints', 'orange', 'supervisor', 'cons', 'fatal', 'fairly', 'modification', 'retailer', 'feared', 'congestion', 'harlow', 'rolled', 'ninety', 'intel', 'pounding', 'marching', 'ton', 'ipswich', 'tragic', 'ridiculous', 'malaysia', 'peers', 'edwardian', 'innovation', 'urban', 'collected', 'strasbourg', 'tutors', 'caroline', 'legendary', 'cheeses', 'publicly', 'factors', 'pigs', 'smashing', 'asia', 'pen', 'submitted', 'consistency', 'hooker', 'mistress', 'education', 'assessed', 'snacks', 'regions', 'gender', 'shoulders', 'joy', 'capitalism', 'dominating', 'arid', 'domestic', 'dirt', 'landowners', 'activities', 'propose', 'edna', 'racial', 'waitress', 'willie', 'insists', 'borders', 'therapist', 'audio', 'straws', 'tested', 'signs', 'intend', 'medical', 'charlotte', 'maureen', 'dean', 'alarming', 'harry', 'rumour', 'vague', 'knee', 'unlikely', 'potential', 'easily', 'evans', 'liberties', 'outrageous', 'denis', 'carl', 'gregory', 'intervals', 'layout', 'heavenly', 'peach', 'storming', 'reiterated', 'landlady', 'anti', 'proposes', 'wished', 'contractors', 'packet', 'armed', 'mixed', 'veterinary', 'leyland', 'tank', 'grammatical', 'planning', 'militia', 'spoke', 'acres', 'hundreds', 'shaw', 'philosophy', 'york', 'muscles', 'mating', 'historical', 'grinds', 'stockport', 'centres', 'rein', 'fragments', 'detective', 'adequately', 'bounds', 'butts', 'scraping', 'energetic', 'kgb', 'johnstone', 'bookshop', 'shield', 'hydrogen', 'supervised', 'ye', 'environment', 'army', 'bomb', 'halted', 'solved', 'shortages', 'thousands', 'account', 'lips', 'jan', 'scenario', 'mortgage', 'anna', 'neighbour', 'employee', 'combine', 'embrace', 'ashamed', 'admirable', 'dominated', 'accountability', 'features', 'resigned', 'tide', 'blues', 'sentence', 'ducked', 'puff', 'cage', 'costing', 'kisses', 'wealth', 'microsystems', 'canterbury', 'jose', 'cm', 'hardly', 'apologise', 'finely', 'distinguishing', 'proportion', 'variable', 'merton', 'invention', 'reduce', 'playground', 'fifty', 'legacy', 'tuning', 'seve', 'communal', 'models', 'adaptation', 'sweetheart', 'dumb', 'restrictions', 'vulnerable', 'goldsmith', 'limestone', 'cottage', 'residential', 'lenses', 'shape', 'enhanced', 'suffering', 'decaying', 'inspire', 'joanne', 'pupils', 'investing', 'advocates', 'seventeenth', 'grinding', 'clappers', 'brando', 'generous', 'additional', 'upset', 'ven', 'visitor', 'unused', 'creature', 'sixteen', 'ballooning', 'ripe', 'exceed', 'topped', 'eagerly', 'richmond', 'miserable', 'reynolds', 'threatening', 'mowbray', 'presentations', 'wears', 'multinational', 'kit', 'rural', 'obsession', 'rebels', 'spikes', 'obvious', 'uncertainty', 'fond', 'inland', 'chinese', 'wheat', 'dancers', 'greatly', 'studios', 'macroeconomic', 'drain', 'understandable', 'protest', 'workstation', 'oak', 'begging', 'picasso', 'essentially', 'mathematical', 'teams', 'censorship', 'suite', 'handle', 'weapon', 'wayward', 'traditionally', 'dolly', 'ian', 'flights', 'rivals', 'efficient', 'shove', 'evening', 'zone', 'mat', 'bullets', 'doubtless', 'perfectly', 'spokesman', 'pair', 'pulse', 'railways', 'virtual', 'abortion', 'stated', 'policeman', 'interaction', 'strategies', 'whatsoever', 'ranges', 'glen', 'voted', 'inequality', 'nov', 'kinnock', 'appealing', 'drought', 'baron', 'alive', 'regret', 'survey', 'exchequer', 'gulf', 'chaps', 'clip', 'nutty', 'indigenous', 'scruffy', 'novel', 'fixture', 'conceded', 'bravely', 'taxes', 'trucks', 'doe', 'herr', 'heap', 'nut', 'penetrate', 'statistics', 'jackie', 'strengthen', 'retreated', 'premature', 'dining', 'betty', 'jorge', 'masterpiece', 'dumps', 'macbeth', 'indicator', 'blowing', 'mass', 'rushed', 'valleys', 'maurice', 'saxon', 'possum', 'muster', 'organs', 'disorder', 'censor', 'secrets', 'principles', 'sinister', 'hopes', 'widespread', 'mornings', 'cara', 'media', 'perceive', 'emerged', 'technicians', 'printed', 'lurch', 'culminating', 'sofa', 'worrying', 'increases', 'increasing', 'bully', 'competitor', 'floods', 'replied', 'motorways', 'consumption', 'penry', 'overs', 'chewed', 'winters', 'sierra', 'permits', 'attempts', 'environmental', 'amusing', 'dollar', 'fake', 'misery', 'respected', 'vine', 'issue', 'pausing', 'quorum', 'continual', 'sh', 'swept', 'irritable', 'circle', 'derek', 'guidelines', 'promised', 'convenience', 'changing', 'gifts', 'marx', 'flexibility', 'population', 'speaking', 'understandably', 'drew', 'alongside', 'bubble', 'site', 'salvation', 'swallowed', 'truths', 'languages', 'bleak', 'african', 'analogy', 'mclaren', 'fort', 'expectation', 'scan', 'rationality', 'unwelcome', 'guards', 'freer', 'interviewing', 'lion', 'heathrow', 'matches', 'mug', 'brand', 'thrusting', 'owing', 'establish', 'tail', 'yo', 'mixture', 'sixties', 'sponsors', 'bangor', 'priests', 'exist', 'chancellor', 'pie', 'portugal', 'forthcoming', 'empty', 'f', 'dressed', 'unknown', 'excuse', 'partial', 'alec', 'trustees', 'scholars', 'bbc', 'improvement', 'exercised', 'commissioner', 'eighteenth', 'permanent', 'clouds', 'isolate', 'cake', 'lancashire', 'customers', 'shotgun', 'offender', 'immensely', 'olympic', 'aristocratic', 'drifted', 'adds', 'poetry', 'chosen', 'theoretically', 'waited', 'removed', 'aerial', 'marriages', 'upside', 'lively', 'draught', 'infinite', 'oz', 'laser', 'hindu', 'civil', 'arbitrator', 'document', 'colour', 'daylight', 'staging', 'filth', 'hell', 'rocket', 'safely', 'offensive', 'none', 'translated', 'selective', 'subversive', 'backwards', 'favoured', 'tumbled', 'escape', 'funny', 'provoked', 'pecuniary', 'escaping', 'broken', 'delicacy', 'echoes', 'charge', 'convicted', 'consultant', 'abandon', 'realizing', 'scrapped', 'cooked', 'garment', 'graduates', 'documentation', 'push', 'trips', 'michel', 'suffer', 'singles', 'featuring', 'counts', 'data', 'heseltine', 'crash', 'liner', 'theo', 'villagers', 'speakers', 'forcing', 'quoted', 'conveyed', 'build', 'partially', 'variations', 'distinctly', 'poster', 'fascist', 'competitiveness', 'drastic', 'pony', 'remedy', 'located', 'sock', 'journalists', 'noticing', 'featured', 'phoning', 'attempted', 'markets', 'julius', 'duties', 'hoping', 'gothic', 'concealed', 'gym', 'syria', 'throughout', 'satisfying', 'cose', 'ensuing', 'watching', 'significantly', 'steffi', 'kidnapped', 'adverse', 'stranger', 'joined', 'whack', 'populations', 'recommendations', 'wheels', 'clogged', 'gross', 'provinces', 'councillors', 'dawn', 'iron', 'spit', 'gate', 'fur', 'meetings', 'novice', 'somewhat', 'association', 'cardiff', 'aircraft', 'strain', 'ruth', 'fiscal', 'trend', 'filming', 'jug', 'containing', 'concentration', 'poems', 'virgin', 'hounds', 'butcher', 'alison', 'percent', 'fishing', 'empire', 'littered', 'size', 'proprietary', 'multilateral', 'asset', 'hon', 'sex', 'caused', 'floyd', 'wheeler', 'quits', 'bench', 'foliage', 'tipping', 'tentative', 'prosperity', 'remainder', 'builders', 'exceptionally', 'valid', 'exports', 'carried', 'adoption', 'managers', 'midst', 'mao', 'heath', 'molecules', 'scrooge', 'auditors', 'packets', 'occasional', 'laughter', 'gooch', 'accountancy', 'antique', 'practical', 'existent', 'cocky', 'represents', 'ba', 'bend', 'critical', 'positions', 'piper', 'smallest', 'besides', 'effective', 'conservatism', 'nevertheless', 'ancient', 'invitation', 'bowls', 'pitched', 'thinner', 'tube', 'withdrawal', 'scraped', 'immigration', 'patterson', 'annually', 'established', 'lang', 'corporate', 'beginner', 'matched', 'velocity', 'morally', 'aware', 'sake', 'wondering', 'biggest', 'manages', 'startled', 'rhymes', 'southampton', 'excluding', 'gloss', 'prototype', 'pals', 'nazis', 'steps', 'speaks', 'sherry', 'pilot', 'appearing', 'wine', 'norfolk', 'signalled', 'suggestions', 'elaborate', 'compound', 'installed', 'briefed', 'corruption', 'champions', 'ranks', 'shah', 'defended', 'tops', 'answered', 'insisting', 'swords', 'portrait', 'horizon', 'subjects', 'merge', 'dealing', 'nationalist', 'flock', 'uk', 'spike', 'sales', 'delivered', 'commercially', 'wipe', 'initiative', 'locomotives', 'analysed', 'shook', 'sotheby', 'ordered', 'peaceful', 'copied', 'alter', 'hitters', 'ankles', 'glance', 'finishing', 'recipes', 'fearful', 'quiet', 'eggs', 'thriving', 'po', 'identify', 'unix', 'conspicuous', 'capitalist', 'pint', 'principally', 'fresh', 'systematically', 'vintage', 'perth', 'habits', 'referee', 'roxburgh', 'currents', 'planet', 'hesitated', 'vile', 'switched', 'beauty', 'carp', 'unnatural', 'rounds', 'sunsoft', 'purchases', 'bastard', 'speedy', 'preserve', 'possibility', 'penal', 'unrealistic', 'chords', 'likes', 'whitehall', 'patients', 'defenders', 'loose', 'maastricht', 'stems', 'streams', 'dialogue', 'wounds', 'mud', 'glossy', 'moisture', 'st', 'workers', 'compatible', 'inquiries', 'albania', 'considerations', 'written', 'pool', 'recommended', 'tins', 'executives', 'illustrate', 'drunk', 'midday', 'ryan', 'followers', 'dare', 'folks', 'yellow', 'anniversary', 'expense', 'sceptical', 'greeted', 'marketing', 'envisaged', 'goodness', 'texas', 'adverts', 'burdens', 'delivering', 'grammar', 'imperative', 'definitions', 'vigorously', 'unions', 'methods', 'crucial', 'chop', 'competing', 'fortunes', 'creeping', 'supply', 'inflationary', 'twin', 'container', 'indicating', 'birthday', 'matching', 'extraordinary', 'enemies', 'slipped', 'establishment', 'freight', 'babies', 'airy', 'leaves', 'melanie', 'disciplines', 'fridge', 'releasing', 'rd', 'auper', 'delicately', 'belted', 'protected', 'riders', 'basket', 'footing', 'dna', 'golf', 'syndrome', 'louise', 'energies', 'routine', 'permitting', 'dating', 'vengeance', 'gordon', 'video', 'computers', 'firing', 'triggered', 'lonely', 'trent', 'grab', 'helping', 'expanded', 'agencies', 'investigation', 'devil', 'guttering', 'stepping', 'wickets', 'equate', 'hypothesis', 'assembled', 'intimate', 'riotous', 'discs', 'oil', 'elliott', 'regardless', 'floating', 'pyramid', 'behavioural', 'invasion', 'evident', 'foolish', 'chartered', 'harvey', 'bacon', 'wakefield', 'author', 'trained', 'dire', 'spinning', 'yards', 'blinded', 'persisted', 'canada', 'exams', 'potatoes', 'shines', 'warrant', 'tiles', 'secured', 'deliberately', 'expand', 'determination', 'kings', 'arises', 'dealt', 'random', 'emancipation', 'frightening', 'manner', 'constant', 'files', 'stuart', 'comprehensive', 'cardboard', 'maximum', 'freedoms', 'informix', 'hostages', 'nigel', 'addressed', 'overcoming', 'killings', 'purposes', 'belong', 'valuation', 'touring', 'morrissey', 'flies', 'sector', 'el', 'bon', 'crawford', 'pacific', 'strokes', 'incoming', 'formerly', 'crews', 'compete', 'maximise', 'evaluate', 'enterprise', 'announcing', 'unusual', 'mayor', 'exploitation', 'roar', 'florist', 'sigh', 'toward', 'jim', 'neutral', 'loop', 'observers', 'coffee', 'updated', 'components', 'honorary', 'volume', 'hinted', 'properties', 'celebrations', 'dense', 'compliance', 'signal', 'deficits', 'suspension', 'beryl', 'ribbon', 'youngster', 'flicked', 'barbs', 'row', 'financed', 'choose', 'courts', 'unacceptable', 'divisions', 'fury', 'article', 'harbour', 'furious', 'roof', 'rip', 'predominantly', 'trimmed', 'opponent', 'assisted', 'reality', 'proposal', 'covered', 'stewart', 'higher', 'repairing', 'enquired', 'cosy', 'juggling', 'unexpected', 'angrily', 'manufacturing', 'toronto', 'pretend', 'crying', 'relations', 'diseases', 'growth', 'undergo', 'universe', 'kites', 'norm', 'afforded', 'piling', 'presidential', 'urgent', 'bride', 'scheduled', 'agricultural', 'connection', 'lace', 'staffing', 'weak', 'jekyll', 'erosion', 'television', 'remains', 'splash', 'warning', 'durham', 'politicians', 'computerised', 'actual', 'accumulation', 'manage', 'redevelopment', 'accompanied', 'literal', 'application', 'denounced', 'hardened', 'voices', 'mile', 'encounter', 'nationals', 'legislative', 'owes', 'moor', 'goats', 'comparing', 'woods', 'meant', 'puzzle', 'necessarily', 'bulk', 'overall', 'naylor', 'effectiveness', 'basis', 'click', 'elbow', 'brighter', 'gulp', 'cards', 'karen', 'noses', 'moss', 'sprint', 'completion', 'muscle', 'rooted', 'salesmen', 'bullying', 'blend', 'analysts', 'posed', 'estate', 'pretended', 'toe', 'date', 'windmills', 'interestingly', 'odds', 'foam', 'rupert', 'showed', 'autonomous', 'blew', 'odd', 'stranded', 'prevention', 'pure', 'tonight', 'enabling', 'yanto', 'absolute', 'scent', 'bust', 'charlton', 'fibre', 'dyou', 'semi', 'grades', 'hungry', 'fully', 'rhetoric', 'flares', 'sha', 'emma', 'parry', 'taxation', 'commissioned', 'district', 'bills', 'families', 'olive', 'sunlight', 'key', 'anyway', 'moreover', 'larry', 'representation', 'maritime', 'implications', 'imposing', 'maid', 'brigade', 'semantic', 'equals', 'critics', 'colleges', 'processing', 'doreen', 'cops', 'doomed', 'rebellion', 'marcus', 'merits', 'similar', 'kneeling', 'depend', 'heavyweight', 'reference', 'nhs', 'project', 'largest', 'meal', 'servant', 'placing', 'insult', 'snow', 'twilight', 'punitive', 'factory', 'cafe', 'worries', 'rex', 'fleming', 'qualities', 'doorway', 'legal', 'stables', 'insisted', 'define', 'commentators', 'categories', 'chicago', 'reserved', 'settlement', 'electron', 'volatile', 'highs', 'stumbled', 'unwilling', 'overtime', 'match', 'campbell', 'bruises', 'staying', 'processor', 'expect', 'dutch', 'consecutive', 'preferably', 'scissors', 'unbelievably', 'crippling', 'collect', 'le', 'junction', 'tumble', 'afghanistan', 'endless', 'enthusiasm', 'investigating', 'defender', 'frustrating', 'mounted', 'slow', 'discontent', 'bathing', 'amid', 'objections', 'leigh', 'promote', 'nanny', 'capacity', 'ruler', 'legitimacy', 'fashion', 'burglar', 'convincing', 'shit', 'oral', 'debates', 'winner', 'biology', 'putin', 'dunno', 'harmony', 'wear', 'pistol', 'secrecy', 'sundry', 'grow', 'ronald', 'thirst', 'customer', 'swings', 'highlights', 'athletics', 'beijing', 'rear', 'enabled', 'invented', 'attacks', 'scheme', 'wink', 'reminds', 'plump', 'telly', 'pointed', 'ventures', 'trotting', 'conformity', 'chocolate', 'stadium', 'division', 'netting', 'objection', 'removing', 'camps', 'seymour', 'accomplished', 'smell', 'operatives', 'keith', 'mandate', 'runner', 'exhibits', 'regulations', 'posh', 'sponge', 'pump', 'organic', 'operators', 'openness', 'munich', 'politically', 'income', 'cruel', 'refugee', 'hence', 'mm', 'deliveries', 'atkins', 'substances', 'rewards', 'rigorous', 'traumatic', 'base', 'defending', 'arm', 'decisions', 'helplessly', 'behalf', 'dried', 'reply', 'combination', 'portrayed', 'mechanical', 'exchange', 'tory', 'murdered', 'grabbed', 'authorised', 'lukewarm', 'harness', 'socialists', 'altering', 'canadian', 'embarrassing', 'roses', 'tenterhooks', 'angus', 'loyalty', 'pin', 'buckle', 'bobs', 'kettle', 'dipped', 'tasted', 'jumps', 'separately', 'siege', 'storms', 'repressed', 'vice', 'careering', 'excesses', 'groupings', 'smash', 'ultra', 'warpath', 'deadline', 'visited', 'miracle', 'picking', 'bottoms', 'infant', 'anticipation', 'hockey', 'bigger', 'prevented', 'feminists', 'hearts', 'lifting', 'beans', 'shouting', 'consciously', 'specialise', 'preparations', 'kidney', 'piping', 'tramp', 'cargo', 'connecting', 'acknowledges', 'code', 'pence', 'announce', 'sound', 'heaving', 'ratify', 'cheating', 'colds', 'awareness', 'awful', 'assassination', 'ideology', 'backward', 'curtis', 'burner', 'concluded', 'deployed', 'ego', 'apart', 'relatively', 'identities', 'priorities', 'specially', 'messages', 'passages', 'parish', 'liz', 'superior', 'zipped', 'hoddle', 'attracted', 'tuck', 'persuaded', 'touched', 'july', 'sister', 'prior', 'advised', 'availability', 'growing', 'toilets', 'den', 'hart', 'bother', 'sites', 'faded', 'shillings', 'describing', 'congress', 'shields', 'travellers', 'status', 'vic', 'uttered', 'saunders', 'slogans', 'surged', 'skids', 'walking', 'partners', 'nottingham', 'lessons', 'blatant', 'flew', 'naive', 'jam', 'vincent', 'bird', 'aquitaine', 'swell', 'trap', 'seats', 'gill', 'eaten', 'dances', 'hostess', 'cheltenham', 'hospital', 'tensions', 'condemnation', 'skies', 'chapman', 'regretted', 'collecting', 'thirties', 'lands', 'calmly', 'shoots', 'otherwise', 'facilities', 'rave', 'simplest', 'arrested', 'eliminate', 'hits', 'extinguished', 'libraries', 'robinson', 'copper', 'subsequently', 'diplomats', 'abandoning', 'funerals', 'thick', 'pots', 'raf', 'portadown', 'fabia', 'citizens', 'profit', 'sings', 'peaks', 'vauxhall', 'johnston', 'prescriptions', 'votes', 'exquisite', 'duke', 'sexy', 'betwixt', 'wedding', 'distressed', 'suitably', 'portion', 'bum', 'partner', 'monthly', 'timetable', 'stable', 'bureau', 'generosity', 'kids', 'sixes', 'august', 'greenhouse', 'instincts', 'deadly', 'naomi', 'keynes', 'passed', 'offs', 'architecture', 'nerve', 'egypt', 'purely', 'recalling', 'marxist', 'forth', 'library', 'pickerage', 'artists', 'infinity', 'forming', 'begins', 'wailing', 'authorities', 'warrior', 'perfection', 'reg', 'pointing', 'rains', 'lengthy', 'vaguely', 'republican', 'authors', 'flying', 'eh', 'geography', 'victim', 'frail', 'eyed', 'imagination', 'docks', 'martial', 'genuine', 'exception', 'mistaken', 'lee', 'literature', 'newcastle', 'mess', 'december', 'trout', 'polite', 'doubled', 'hoover', 'quotation', 'anglo', 'ho', 'hobby', 'waters', 'carrier', 'errors', 'thumped', 'oath', 'describe', 'visible', 'ussr', 'chalk', 'cavalry', 'carrot', 'selected', 'pudding', 'darcy', 'footed', 'regulation', 'parachute', 'intellectual', 'rang', 'upsetting', 'collaboration', 'cognitive', 'rust', 'practically', 'notable', 'juan', 'indifferent', 'strained', 'reveals', 'scottish', 'loss', 'preserving', 'reminding', 'lecturers', 'conceal', 'returned', 'fascism', 'cics', 'dividing', 'regimes', 'formal', 'sounded', 'coopers', 'conferences', 'salisbury', 'extracted', 'screw', 'adams', 'spot', 'snake', 'mines', 'vanished', 'straw', 'patterns', 'advertising', 'massively', 'online', 'destruction', 'independent', 'shirt', 'baldwin', 'reds', 'requirement', 'catalogues', 'catching', 'landlord', 'replay', 'assaulted', 'loves', 'fabric', 'transfers', 'scrape', 'guts', 'sinking', 'banished', 'technique', 'benign', 'bo', 'queue', 'unfortunately', 'continental', 'lad', 'dubious', 'privatization', 'caring', 'occasion', 'columbus', 'double', 'decent', 'cud', 'participate', 'football', 'universities', 'desire', 'plagued', 'passions', 'shots', 'actors', 'chicken', 'weapons', 'hitter', 'implies', 'orkney', 'rory', 'function', 'explaining', 'separated', 'structural', 'appeared', 'slapping', 'afraid', 'contractual', 'parted', 'refusing', 'gaze', 'caretaker', 'jessica', 'gin', 'batteries', 'piled', 'divorce', 'observer', 'romans', 'weir', 'pass', 'earnest', 'writ', 'sensation', 'weakest', 'responsibility', 'thatcher', 'bin', 'topaz', 'captive', 'okay', 'appears', 'toy', 'handing', 'officials', 'dust', 'thinks', 'extreme', 'timely', 'prosecution', 'precedent', 'boxing', 'lining', 'published', 'singapore', 'neath', 'balanced', 'motor', 'municipal', 'rhythmic', 'restrictive', 'ruts', 'pipes', 'refuses', 'upper', 'funding', 'bennett', 'cycling', 'recorded', 'lease', 'sold', 'assets', 'earn', 'insufficient', 'handed', 'lb', 'sticking', 'halt', 'mistake', 'austerity', 'talks', 'intention', 'jealousy', 'employees', 'outline', 'alexandra', 'magistrates', 'wartime', 'lasting', 'trafford'}\n"
     ]
    }
   ],
   "source": [
    "print(MAGPIE_WORD_LIST)"
   ]
  },
  {
   "cell_type": "code",
   "execution_count": null,
   "id": "aa5f0518",
   "metadata": {},
   "outputs": [],
   "source": []
  },
  {
   "cell_type": "code",
   "execution_count": 11,
   "id": "1ca653da",
   "metadata": {},
   "outputs": [],
   "source": [
    "# Output directory check\n",
    "if os.path.isdir(dump_dir):\n",
    "    raise Exception(f\"Output directory {dump_dir} already exists!\")\n",
    "else:\n",
    "    os.makedirs(dump_dir)"
   ]
  },
  {
   "cell_type": "code",
   "execution_count": 12,
   "id": "d252deab",
   "metadata": {},
   "outputs": [
    {
     "name": "stdout",
     "output_type": "stream",
     "text": [
      "Loaded both the LM Model & the Tokenizer models\n"
     ]
    }
   ],
   "source": [
    "# Load the BERT model & tokenizers\n",
    "model = AutoModelForSequenceClassification.from_pretrained(model_checkpoint_dir)\n",
    "# Download the Tokenizer model\n",
    "tokenizer = AutoTokenizer.from_pretrained(model_checkpoint_dir, use_fast=True, truncation=True)\n",
    "print(f\"Loaded both the LM Model & the Tokenizer models\")"
   ]
  },
  {
   "cell_type": "code",
   "execution_count": 13,
   "id": "f26d163f",
   "metadata": {},
   "outputs": [
    {
     "data": {
      "text/plain": [
       "torch.Size([32260, 768])"
      ]
     },
     "execution_count": 13,
     "metadata": {},
     "output_type": "execute_result"
    }
   ],
   "source": [
    "# Get the embedding matrix\n",
    "embedding_weights = model.bert.embeddings.word_embeddings.weight\n",
    "embedding_weights.shape"
   ]
  },
  {
   "cell_type": "code",
   "execution_count": null,
   "id": "da3f804f",
   "metadata": {},
   "outputs": [],
   "source": []
  },
  {
   "cell_type": "markdown",
   "id": "15f261f8",
   "metadata": {},
   "source": [
    "# Create tokens-id mapping for all the tokens\n",
    "We need to get the embeddings for all the tokens and the constituent words of the PIEs."
   ]
  },
  {
   "cell_type": "code",
   "execution_count": 14,
   "id": "964fd234",
   "metadata": {},
   "outputs": [
    {
     "name": "stdout",
     "output_type": "stream",
     "text": [
      "Got token ids for 1738 PIE single tokens and 1735 words\n"
     ]
    }
   ],
   "source": [
    "#To store PIE singel tokens\n",
    "id_to_single_token_mapping = {}\n",
    "# To store constituent words of a PIE\n",
    "word_to_ids = {}\n",
    "\n",
    "for i,(pie, token_str) in df_pie_token_mapping.iterrows():\n",
    "    # First, get the id-token mapping for 'token_str'\n",
    "    token_id = tokenizer.vocab[token_str.lower()]\n",
    "    # Add to the dict\n",
    "    id_to_single_token_mapping[token_id] = token_str\n",
    "    \n",
    "    # Next, process the individual words in the pie, find their token ids\n",
    "    pie_words = [pword.strip() for pword in pie.split() if pword not in word_to_ids]\n",
    "    for pword in pie_words:\n",
    "        token_ids = tokenizer.encode(pword, add_special_tokens=False)\n",
    "        word_to_ids[pword] = token_ids\n",
    "        \n",
    "print(f\"Got token ids for {len(id_to_single_token_mapping)} PIE single tokens and {len(word_to_ids)} words\")"
   ]
  },
  {
   "cell_type": "code",
   "execution_count": 15,
   "id": "d6537da1",
   "metadata": {},
   "outputs": [],
   "source": [
    "# Max possible length of a line containing tab separated embeddings, a rough estimate\n",
    "MAX_EMB_LINE_LENGTH = (64 + 1)*768\n",
    "\n",
    "def get_single_token_embeddings(tok_id):\n",
    "    emb_vec = embedding_weights[tok_id].detach().numpy()\n",
    "    return emb_vec\n",
    "\n",
    "def get_embedding_string(emb_vec):\n",
    "    \"\"\"\n",
    "    # Convert one embedding vector from numpy array into a tab separated string format\n",
    "    # NOTE: The float64 precision is used here!!\n",
    "    \"\"\"\n",
    "    emb_str = np.array2string(emb_vec, separator='\\t', \\\n",
    "                              max_line_width=MAX_EMB_LINE_LENGTH, \\\n",
    "                              formatter={'float_kind':lambda x: str(np.float64(x))}, \\\n",
    "                              suppress_small=False, floatmode='maxprec')\n",
    "    # Trim [ and ] characters\n",
    "    emb_str = emb_str[1:-1]\n",
    "    return emb_str"
   ]
  },
  {
   "cell_type": "markdown",
   "id": "f6f89f66",
   "metadata": {},
   "source": [
    "## Word to Embedding string mapping\n",
    "Create a map of <tok_word, embedding_str> for both pie single-tokens and the constituent words"
   ]
  },
  {
   "cell_type": "code",
   "execution_count": 16,
   "id": "f951f27d",
   "metadata": {},
   "outputs": [
    {
     "name": "stdout",
     "output_type": "stream",
     "text": [
      "Created word-embedding string mapping for 3473 tokens\n"
     ]
    }
   ],
   "source": [
    "word_emb_str_mapping = {}\n",
    "\n",
    "# First process all the pie single-tokens\n",
    "for tok_id, tok_word in id_to_single_token_mapping.items():\n",
    "    emb_vec = get_single_token_embeddings(tok_id)\n",
    "    emb_str = get_embedding_string(emb_vec)\n",
    "    word_emb_str_mapping[tok_word] = emb_str\n",
    "    \n",
    "# Then process all the constituent words(Note: we have array of subtokens per each word!)\n",
    "def get_average_embedding(token_ids):\n",
    "    all_emb_vecs = []\n",
    "    for tok_id in token_ids:\n",
    "        emb_vec = get_single_token_embeddings(tok_id)\n",
    "        all_emb_vecs.append(emb_vec)\n",
    "    np_embs = np.array(all_emb_vecs)\n",
    "    avg_emb = np_embs.mean(axis=0)\n",
    "    return avg_emb\n",
    "    \n",
    "for word, tok_ids in word_to_ids.items():\n",
    "    emb_vec = get_average_embedding(tok_ids)\n",
    "    emb_str = get_embedding_string(emb_vec)\n",
    "    word_emb_str_mapping[word] = emb_str\n",
    "    \n",
    "print(f\"Created word-embedding string mapping for {len(word_emb_str_mapping)} tokens\")"
   ]
  },
  {
   "cell_type": "markdown",
   "id": "7df2a737",
   "metadata": {},
   "source": [
    "### Add sample paraphrases and synonyms\n",
    "Add the paraphrases and synonyms as well. The embeddings are obtained by averaging the embeddings of the subtokens."
   ]
  },
  {
   "cell_type": "code",
   "execution_count": 17,
   "id": "66912f4a",
   "metadata": {
    "scrolled": true
   },
   "outputs": [
    {
     "name": "stdout",
     "output_type": "stream",
     "text": [
      "Added additional paraphrases & synonyms of sample PIEs.\n",
      "The final word-embedding string mapping contains 3536 tokens\n"
     ]
    }
   ],
   "source": [
    "for paraphrase in paraphrases_and_synonyms:\n",
    "    # Get the average embeddings for each paraphrase\n",
    "    tok_ids = tokenizer.encode(paraphrase, add_special_tokens=False)\n",
    "    emb_vec = get_average_embedding(tok_ids)\n",
    "    para_emb_str = get_embedding_string(emb_vec)\n",
    "\n",
    "    # Append to the mapping dictionary\n",
    "    word_emb_str_mapping[paraphrase] = para_emb_str\n",
    "    \n",
    "print(\"Added additional paraphrases & synonyms of sample PIEs.\")\n",
    "print(f\"The final word-embedding string mapping contains {len(word_emb_str_mapping)} tokens\")"
   ]
  },
  {
   "cell_type": "markdown",
   "id": "9b94fa70",
   "metadata": {},
   "source": [
    "### Add the MAGPIE words as well\n",
    "Add all the words selected from MAGPIE corpus"
   ]
  },
  {
   "cell_type": "code",
   "execution_count": 18,
   "id": "f706bb3a",
   "metadata": {},
   "outputs": [
    {
     "name": "stdout",
     "output_type": "stream",
     "text": [
      "Added words from MAGPIE corpus!\n",
      "The final word-embedding string mapping contains 13262 tokens\n"
     ]
    }
   ],
   "source": [
    "MAGPIE_WORD_LIST\n",
    "for mword in MAGPIE_WORD_LIST:\n",
    "    # Get the average embeddings for each word\n",
    "    tok_ids = tokenizer.encode(mword, add_special_tokens=False)\n",
    "    emb_vec = get_average_embedding(tok_ids)\n",
    "    mword_emb_str = get_embedding_string(emb_vec)\n",
    "\n",
    "    # Append to the mapping dictionary\n",
    "    word_emb_str_mapping[mword] = mword_emb_str\n",
    "    \n",
    "print(\"Added words from MAGPIE corpus!\")\n",
    "print(f\"The final word-embedding string mapping contains {len(word_emb_str_mapping)} tokens\")"
   ]
  },
  {
   "cell_type": "markdown",
   "id": "c5f96078",
   "metadata": {},
   "source": [
    "## Save the tokens and embedding strings into separate files"
   ]
  },
  {
   "cell_type": "code",
   "execution_count": null,
   "id": "d4118cf8",
   "metadata": {},
   "outputs": [],
   "source": []
  },
  {
   "cell_type": "code",
   "execution_count": 19,
   "id": "4506ddb0",
   "metadata": {
    "scrolled": true
   },
   "outputs": [
    {
     "name": "stdout",
     "output_type": "stream",
     "text": [
      "Saved word and embedding TSV files at ./embedding_dump/\n"
     ]
    }
   ],
   "source": [
    "word_file_path = os.path.join(dump_dir, exp_name+'_words.tsv')\n",
    "embedding_file_path = os.path.join(dump_dir, exp_name+'_vectors.tsv')\n",
    "\n",
    "# For every token in the additional tokens, get the embedding vector\n",
    "# Append the token to word_file, append the tab-separated emebeddings to embeddings_file\n",
    "with open(word_file_path, 'a') as word_file:\n",
    "    with open(embedding_file_path, 'a') as embedding_file:\n",
    "        for tok_word, emb_str in word_emb_str_mapping.items():\n",
    "            # Save tok_word\n",
    "            word_file.write(tok_word + '\\n')\n",
    "            # Save emb_str\n",
    "            embedding_file.write(emb_str + '\\n')\n",
    "\n",
    "print(f'Saved word and embedding TSV files at {dump_dir}')"
   ]
  },
  {
   "cell_type": "code",
   "execution_count": null,
   "id": "1f8dbfd1",
   "metadata": {},
   "outputs": [],
   "source": [
    "    "
   ]
  }
 ],
 "metadata": {
  "kernelspec": {
   "display_name": "LAB_VENV",
   "language": "python",
   "name": "lab_venv"
  },
  "language_info": {
   "codemirror_mode": {
    "name": "ipython",
    "version": 3
   },
   "file_extension": ".py",
   "mimetype": "text/x-python",
   "name": "python",
   "nbconvert_exporter": "python",
   "pygments_lexer": "ipython3",
   "version": "3.8.10"
  }
 },
 "nbformat": 4,
 "nbformat_minor": 5
}
