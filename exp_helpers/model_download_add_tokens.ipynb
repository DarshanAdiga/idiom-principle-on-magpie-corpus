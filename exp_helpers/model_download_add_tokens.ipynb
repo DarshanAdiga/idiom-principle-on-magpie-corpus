{
 "cells": [
  {
   "cell_type": "code",
   "execution_count": 1,
   "id": "79e02283",
   "metadata": {},
   "outputs": [],
   "source": [
    "# Model to be downloaded\n",
    "pretrained_model_name = 'bert-base-cased'\n",
    "model_head = 'MaskedLM' # Possible options: 'MaskedLM', 'SequenceClassification'"
   ]
  },
  {
   "cell_type": "code",
   "execution_count": 2,
   "id": "1f38a50e",
   "metadata": {},
   "outputs": [
    {
     "name": "stdout",
     "output_type": "stream",
     "text": [
      "Updated model name will be:bert-base-cased_STR_option1\n"
     ]
    }
   ],
   "source": [
    "local_model_base_dir = '../local_models/'\n",
    "# Location to save the model\n",
    "updated_model_name = '_'.join([pretrained_model_name, model_head, 'STR_option1'])\n",
    "model_checkpoint_dir = local_model_base_dir + updated_model_name\n",
    "print(f'Updated model name will be:{updated_model_name}')"
   ]
  },
  {
   "cell_type": "code",
   "execution_count": 3,
   "id": "27255c29",
   "metadata": {},
   "outputs": [],
   "source": [
    "# New Vocab tokens to be added\n",
    "new_tokens_file_path = '../data/token_files/option1_idiom_tokens.txt'"
   ]
  },
  {
   "cell_type": "markdown",
   "id": "75e913b7",
   "metadata": {},
   "source": [
    "## 1. Download the required pretrained LM model"
   ]
  },
  {
   "cell_type": "code",
   "execution_count": 4,
   "id": "8bcdc090",
   "metadata": {},
   "outputs": [],
   "source": [
    "from transformers import AutoModelForMaskedLM, AutoModelForSequenceClassification\n",
    "from transformers import AutoTokenizer\n",
    "\n",
    "import re\n",
    "import os\n",
    "import sys\n",
    "import shutil"
   ]
  },
  {
   "cell_type": "code",
   "execution_count": 5,
   "id": "1be1120d",
   "metadata": {
    "scrolled": true
   },
   "outputs": [
    {
     "name": "stderr",
     "output_type": "stream",
     "text": [
      "Some weights of the model checkpoint at bert-base-cased were not used when initializing BertForSequenceClassification: ['cls.predictions.transform.dense.weight', 'cls.seq_relationship.bias', 'cls.predictions.transform.LayerNorm.bias', 'cls.predictions.bias', 'cls.predictions.transform.LayerNorm.weight', 'cls.predictions.decoder.weight', 'cls.seq_relationship.weight', 'cls.predictions.transform.dense.bias']\n",
      "- This IS expected if you are initializing BertForSequenceClassification from the checkpoint of a model trained on another task or with another architecture (e.g. initializing a BertForSequenceClassification model from a BertForPreTraining model).\n",
      "- This IS NOT expected if you are initializing BertForSequenceClassification from the checkpoint of a model that you expect to be exactly identical (initializing a BertForSequenceClassification model from a BertForSequenceClassification model).\n",
      "Some weights of BertForSequenceClassification were not initialized from the model checkpoint at bert-base-cased and are newly initialized: ['classifier.bias', 'classifier.weight']\n",
      "You should probably TRAIN this model on a down-stream task to be able to use it for predictions and inference.\n"
     ]
    },
    {
     "name": "stdout",
     "output_type": "stream",
     "text": [
      "Loaded both the LM Model & the Tokenizer models\n"
     ]
    }
   ],
   "source": [
    "if model_head == 'MaskedLM':\n",
    "    model_class = AutoModelForMaskedLM\n",
    "elif model_head == 'SequenceClassification':\n",
    "    model_class = AutoModelForSequenceClassification\n",
    "else:\n",
    "    raise ValueError(f'Model head {model_head} is not supported')\n",
    "\n",
    "# Download the model with appropriate head\n",
    "print(f'Model class is:{model_class}')\n",
    "model = model_class.from_pretrained(pretrained_model_name)\n",
    "# Download the Tokenizer model\n",
    "tokenizer = AutoTokenizer.from_pretrained(pretrained_model_name, use_fast=False, truncation=True)\n",
    "print(f\"Loaded both the LM Model & the Tokenizer models\")"
   ]
  },
  {
   "cell_type": "markdown",
   "id": "2fb6ae21",
   "metadata": {},
   "source": [
    "## 2. Update the Tokenizer & LM by adding single-token-representations"
   ]
  },
  {
   "cell_type": "code",
   "execution_count": 6,
   "id": "8798d87f",
   "metadata": {},
   "outputs": [
    {
     "name": "stdout",
     "output_type": "stream",
     "text": [
      "Going to add 1738 new tokens to the vocabulary\n"
     ]
    }
   ],
   "source": [
    "# Load the tokens to be inserted into the vocab\n",
    "new_tokens = open(new_tokens_file_path).read().lstrip().rstrip().split('\\n')\n",
    "new_tokens_count = len(new_tokens)\n",
    "print(f'Going to add {new_tokens_count} new tokens to the vocabulary')"
   ]
  },
  {
   "cell_type": "code",
   "execution_count": 7,
   "id": "78508f49",
   "metadata": {},
   "outputs": [
    {
     "name": "stdout",
     "output_type": "stream",
     "text": [
      "Input Embeddings before update: Embedding(28996, 768, padding_idx=0)\n",
      "Input Embeddings after update: Embedding(30734, 768)\n"
     ]
    }
   ],
   "source": [
    "# Add the new tokens\n",
    "num_added_toks = tokenizer.add_tokens(new_tokens)\n",
    "# Resize the model embedding dimensions\n",
    "print(f'Input Embeddings before update: {model.get_input_embeddings()}')\n",
    "embedding = model.resize_token_embeddings(len(tokenizer))\n",
    "print(f'Input Embeddings after update: {embedding}')"
   ]
  },
  {
   "cell_type": "code",
   "execution_count": 8,
   "id": "24385c64",
   "metadata": {},
   "outputs": [
    {
     "name": "stdout",
     "output_type": "stream",
     "text": [
      "Added 1738 new tokens to the model at ../local_models/bert-base-cased_STR_option1\n"
     ]
    }
   ],
   "source": [
    "model.save_pretrained(model_checkpoint_dir)\n",
    "tokenizer.save_pretrained(model_checkpoint_dir)\n",
    "print(f'Added {num_added_toks} new tokens to the model at {model_checkpoint_dir}')"
   ]
  },
  {
   "cell_type": "markdown",
   "id": "5329d516",
   "metadata": {},
   "source": [
    "### Test the updated Tokenizer & LM models"
   ]
  },
  {
   "cell_type": "code",
   "execution_count": 9,
   "id": "15f7b5ee",
   "metadata": {},
   "outputs": [],
   "source": [
    "# Load the tokenizer with updated vocab file\n",
    "tokenizer = AutoTokenizer.from_pretrained(model_checkpoint_dir, use_fast= False, \\\n",
    "                                          max_length=510, force_download=True)"
   ]
  },
  {
   "cell_type": "code",
   "execution_count": 10,
   "id": "43fa53a4",
   "metadata": {},
   "outputs": [
    {
     "name": "stdout",
     "output_type": "stream",
     "text": [
      "['This', 'is', 'a', 'IDoffthebeatentrackID']\n",
      "['This', 'is', 'a', 'IDchapterandverseID']\n",
      "['This', 'is', 'a', 'IDbeattherapID']\n",
      "\n",
      "\n",
      "SUCCESS!! The bert-base-cased_STR_option1 model has been updated with new tokens!!\n"
     ]
    }
   ],
   "source": [
    "# Test for MWE single-tokens\n",
    "test_tokens = ['IDoffthebeatentrackID', 'IDchapterandverseID']\n",
    "\n",
    "for token in test_tokens:\n",
    "    assert tokenizer.tokenize(f'This is a {token}')[-1] == token\n",
    "    print(tokenizer.tokenize(f'This is a {token}'))\n",
    "\n",
    "print('\\n')\n",
    "print(f'SUCCESS!! The {updated_model_name} model has been updated with new tokens!!')"
   ]
  },
  {
   "cell_type": "markdown",
   "id": "9394d44b",
   "metadata": {},
   "source": [
    "## References\n",
    "Reference implementations\n",
    "1. [Adding new Tokens](https://huggingface.co/transformers/v2.11.0/main_classes/tokenizer.html#transformers.PreTrainedTokenizer.add_tokens)\n",
    "2. [Manual method of adding tokens](https://github.com/H-TayyarMadabushi/AStitchInLanguageModels/blob/main/Dataset/Task2/README.md#adding-idiom-tokens-to--transformers-models)"
   ]
  }
 ],
 "metadata": {
  "kernelspec": {
   "display_name": "LAB_VENV",
   "language": "python",
   "name": "lab_venv"
  },
  "language_info": {
   "codemirror_mode": {
    "name": "ipython",
    "version": 3
   },
   "file_extension": ".py",
   "mimetype": "text/x-python",
   "name": "python",
   "nbconvert_exporter": "python",
   "pygments_lexer": "ipython3",
   "version": "3.8.10"
  }
 },
 "nbformat": 4,
 "nbformat_minor": 5
}
