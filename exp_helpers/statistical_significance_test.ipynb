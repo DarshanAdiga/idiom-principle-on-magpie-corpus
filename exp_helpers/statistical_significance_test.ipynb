{
 "cells": [
  {
   "cell_type": "code",
   "execution_count": 1,
   "id": "923c9683",
   "metadata": {},
   "outputs": [],
   "source": [
    "from scipy import stats\n",
    "import pandas as pd\n",
    "import numpy as np\n",
    "\n",
    "import matplotlib.pyplot as plt\n",
    "import seaborn as sns"
   ]
  },
  {
   "cell_type": "code",
   "execution_count": 2,
   "id": "b0de07a1",
   "metadata": {},
   "outputs": [],
   "source": [
    "EXP_BASE_DIR = \"/home/darshan/work/course/dissertation/\"\n",
    "\n",
    "exp3A_1_path = EXP_BASE_DIR + \"idiom_principle_on_magpie_corpus/experiments/exp3A_1/checkpoints/test_results_None.txt\"\n",
    "exp3B_1_path = EXP_BASE_DIR + \"idiom_principle_on_magpie_corpus/experiments/exp3B_1/checkpoints_SeqClassifier/test_results_None.txt\"\n",
    "bt2_path = EXP_BASE_DIR + \"bertram_on_magpie/experiments/bt2/checkpoints_SeqClassifier/test_results_None.txt\"\n",
    "\n",
    "# Select a pair of experiments\n",
    "exp_1_file = exp3B_1_path\n",
    "exp_2_file = bt2_path\n",
    "\n",
    "exp_1_NAME = \"exp3B_1\"\n",
    "exp_2_NAME = \"bt2\""
   ]
  },
  {
   "cell_type": "code",
   "execution_count": 3,
   "id": "3511d29a",
   "metadata": {},
   "outputs": [],
   "source": [
    "id_to_label = {0: 'i', 1: 'l'}\n",
    "PROBABILITY_COL = \"prediction_prob\""
   ]
  },
  {
   "cell_type": "code",
   "execution_count": 4,
   "id": "7e3920f7",
   "metadata": {},
   "outputs": [],
   "source": [
    "# Should contain tab separated 'index \\t prediction \\t prediction_prob' columns\n",
    "exp_1_df = pd.read_csv(exp_1_file, sep='\\t')\n",
    "exp_2_df = pd.read_csv(exp_2_file, sep='\\t')"
   ]
  },
  {
   "cell_type": "code",
   "execution_count": 5,
   "id": "17097f42",
   "metadata": {},
   "outputs": [],
   "source": [
    "SAMPLE_INDICES_FILEPATH = EXP_BASE_DIR + \"idiom_principle_on_magpie_corpus/data/stat_significance/np_sample_indices.npy\"\n",
    "\n",
    "# # ONE-TIME ONLY: \n",
    "# # Sub-sampling using a fixed list of random indices\n",
    "# PER_CLASS_SAMPLE_SIZE = 150\n",
    "# testdf = pd.read_csv(EXP_BASE_DIR + \"idiom_principle_on_magpie_corpus/experiments/exp3B_1/tmp/test.csv\")\n",
    "# ind_0 = testdf[testdf['label'] == 0].sample(n=PER_CLASS_SAMPLE_SIZE).index.tolist()\n",
    "# ind_1 = testdf[testdf['label'] == 1].sample(n=PER_CLASS_SAMPLE_SIZE).index.tolist()\n",
    "# np_sample_indices = np.append(ind_0, ind_1)\n",
    "\n",
    "# np.save(SAMPLE_INDICES_FILEPATH, np_sample_indices)\n",
    "# print(f\"Saved the sample indices at {SAMPLE_INDICES_FILEPATH}\")"
   ]
  },
  {
   "cell_type": "code",
   "execution_count": 6,
   "id": "839472b4",
   "metadata": {},
   "outputs": [
    {
     "name": "stdout",
     "output_type": "stream",
     "text": [
      "Sample indices len: 300\n"
     ]
    }
   ],
   "source": [
    "# Load the list of sample indices to be used for statistical testing\n",
    "np_sample_indices = np.load(SAMPLE_INDICES_FILEPATH)\n",
    "print(f\"Sample indices len: {len(np_sample_indices)}\")"
   ]
  },
  {
   "cell_type": "code",
   "execution_count": 7,
   "id": "ecebed3c",
   "metadata": {},
   "outputs": [
    {
     "name": "stdout",
     "output_type": "stream",
     "text": [
      "Selected the sample indices only\n"
     ]
    }
   ],
   "source": [
    "# Select only the required sample test instances\n",
    "exp_1_df = exp_1_df.loc[np_sample_indices]\n",
    "exp_2_df = exp_2_df.loc[np_sample_indices]\n",
    "print(f\"Selected the sample indices only\")"
   ]
  },
  {
   "cell_type": "code",
   "execution_count": null,
   "id": "9f0767a6",
   "metadata": {},
   "outputs": [],
   "source": []
  },
  {
   "cell_type": "code",
   "execution_count": 8,
   "id": "2a804021",
   "metadata": {},
   "outputs": [],
   "source": [
    "# # Concatenate the two dataframes side-by-side\n",
    "# all_cols = exp_1_df.columns\n",
    "# exp1_renames = {col: f\"{exp_1_NAME}_{col}\" for col in all_cols}\n",
    "# exp2_renames = {col: f\"{exp_2_NAME}_{col}\" for col in all_cols}\n",
    "# exps_combined_df = pd.concat([exp_1_df.rename(columns=exp1_renames), exp_2_df.rename(columns=exp2_renames)], axis=1)\n",
    "# exps_combined_df"
   ]
  },
  {
   "cell_type": "code",
   "execution_count": 9,
   "id": "eb01d660",
   "metadata": {},
   "outputs": [
    {
     "data": {
      "text/plain": [
       "Text(0.5, 1.0, 'Distribution of prediction probabilities')"
      ]
     },
     "execution_count": 9,
     "metadata": {},
     "output_type": "execute_result"
    },
    {
     "data": {
      "image/png": "[encoded data removed]",
      "text/plain": [
       "<Figure size 288x576 with 1 Axes>"
      ]
     },
     "metadata": {
      "needs_background": "light"
     },
     "output_type": "display_data"
    }
   ],
   "source": [
    "# Distributions of probabilities\n",
    "fig, ax = plt.subplots(figsize=(4,8))\n",
    "ax.boxplot([exp_1_df[PROBABILITY_COL], exp_2_df[PROBABILITY_COL]])\n",
    "ax.set_xticklabels([exp_1_NAME, exp_2_NAME])\n",
    "ax.set_title(\"Distribution of prediction probabilities\")"
   ]
  },
  {
   "cell_type": "code",
   "execution_count": 10,
   "id": "266a4472",
   "metadata": {},
   "outputs": [
    {
     "data": {
      "text/html": [
       "<div>\n",
       "<style scoped>\n",
       "    .dataframe tbody tr th:only-of-type {\n",
       "        vertical-align: middle;\n",
       "    }\n",
       "\n",
       "    .dataframe tbody tr th {\n",
       "        vertical-align: top;\n",
       "    }\n",
       "\n",
       "    .dataframe thead th {\n",
       "        text-align: right;\n",
       "    }\n",
       "</style>\n",
       "<table border=\"1\" class=\"dataframe\">\n",
       "  <thead>\n",
       "    <tr style=\"text-align: right;\">\n",
       "      <th></th>\n",
       "      <th>prediction_prob</th>\n",
       "    </tr>\n",
       "  </thead>\n",
       "  <tbody>\n",
       "    <tr>\n",
       "      <th>count</th>\n",
       "      <td>300.000000</td>\n",
       "    </tr>\n",
       "    <tr>\n",
       "      <th>mean</th>\n",
       "      <td>0.308861</td>\n",
       "    </tr>\n",
       "    <tr>\n",
       "      <th>std</th>\n",
       "      <td>0.447205</td>\n",
       "    </tr>\n",
       "    <tr>\n",
       "      <th>min</th>\n",
       "      <td>0.000100</td>\n",
       "    </tr>\n",
       "    <tr>\n",
       "      <th>25%</th>\n",
       "      <td>0.000500</td>\n",
       "    </tr>\n",
       "    <tr>\n",
       "      <th>50%</th>\n",
       "      <td>0.002300</td>\n",
       "    </tr>\n",
       "    <tr>\n",
       "      <th>75%</th>\n",
       "      <td>0.991425</td>\n",
       "    </tr>\n",
       "    <tr>\n",
       "      <th>max</th>\n",
       "      <td>0.999700</td>\n",
       "    </tr>\n",
       "  </tbody>\n",
       "</table>\n",
       "</div>"
      ],
      "text/plain": [
       "       prediction_prob\n",
       "count       300.000000\n",
       "mean          0.308861\n",
       "std           0.447205\n",
       "min           0.000100\n",
       "25%           0.000500\n",
       "50%           0.002300\n",
       "75%           0.991425\n",
       "max           0.999700"
      ]
     },
     "execution_count": 10,
     "metadata": {},
     "output_type": "execute_result"
    }
   ],
   "source": [
    "exp_1_df[[PROBABILITY_COL]].describe()"
   ]
  },
  {
   "cell_type": "code",
   "execution_count": 11,
   "id": "d8f73293",
   "metadata": {},
   "outputs": [
    {
     "data": {
      "text/html": [
       "<div>\n",
       "<style scoped>\n",
       "    .dataframe tbody tr th:only-of-type {\n",
       "        vertical-align: middle;\n",
       "    }\n",
       "\n",
       "    .dataframe tbody tr th {\n",
       "        vertical-align: top;\n",
       "    }\n",
       "\n",
       "    .dataframe thead th {\n",
       "        text-align: right;\n",
       "    }\n",
       "</style>\n",
       "<table border=\"1\" class=\"dataframe\">\n",
       "  <thead>\n",
       "    <tr style=\"text-align: right;\">\n",
       "      <th></th>\n",
       "      <th>prediction_prob</th>\n",
       "    </tr>\n",
       "  </thead>\n",
       "  <tbody>\n",
       "    <tr>\n",
       "      <th>count</th>\n",
       "      <td>300.000000</td>\n",
       "    </tr>\n",
       "    <tr>\n",
       "      <th>mean</th>\n",
       "      <td>0.313486</td>\n",
       "    </tr>\n",
       "    <tr>\n",
       "      <th>std</th>\n",
       "      <td>0.449483</td>\n",
       "    </tr>\n",
       "    <tr>\n",
       "      <th>min</th>\n",
       "      <td>0.000700</td>\n",
       "    </tr>\n",
       "    <tr>\n",
       "      <th>25%</th>\n",
       "      <td>0.001800</td>\n",
       "    </tr>\n",
       "    <tr>\n",
       "      <th>50%</th>\n",
       "      <td>0.004250</td>\n",
       "    </tr>\n",
       "    <tr>\n",
       "      <th>75%</th>\n",
       "      <td>0.991550</td>\n",
       "    </tr>\n",
       "    <tr>\n",
       "      <th>max</th>\n",
       "      <td>0.999200</td>\n",
       "    </tr>\n",
       "  </tbody>\n",
       "</table>\n",
       "</div>"
      ],
      "text/plain": [
       "       prediction_prob\n",
       "count       300.000000\n",
       "mean          0.313486\n",
       "std           0.449483\n",
       "min           0.000700\n",
       "25%           0.001800\n",
       "50%           0.004250\n",
       "75%           0.991550\n",
       "max           0.999200"
      ]
     },
     "execution_count": 11,
     "metadata": {},
     "output_type": "execute_result"
    }
   ],
   "source": [
    "exp_2_df[[PROBABILITY_COL]].describe()"
   ]
  },
  {
   "cell_type": "code",
   "execution_count": null,
   "id": "ea58e833",
   "metadata": {},
   "outputs": [],
   "source": []
  },
  {
   "cell_type": "code",
   "execution_count": 12,
   "id": "de6816dc",
   "metadata": {},
   "outputs": [
    {
     "name": "stdout",
     "output_type": "stream",
     "text": [
      "exp3B_1 probabilities normality test: W=0.6167517900466919, p-value=2.471422083447875e-25\n",
      "bt2 probabilities normality test: W=0.6159918308258057, p-value=2.354378051383135e-25\n"
     ]
    }
   ],
   "source": [
    "# Check if the probabilities follow a normal distribution or not\n",
    "# Use 'Shapiro-Wilk test' for normality test\n",
    "W_test_value, p_value = stats.shapiro(exp_1_df[PROBABILITY_COL])\n",
    "print(f\"{exp_1_NAME} probabilities normality test: W={W_test_value}, p-value={p_value}\")\n",
    "\n",
    "W_test_value, p_value = stats.shapiro(exp_2_df[PROBABILITY_COL])\n",
    "print(f\"{exp_2_NAME} probabilities normality test: W={W_test_value}, p-value={p_value}\")"
   ]
  },
  {
   "cell_type": "code",
   "execution_count": 13,
   "id": "555a567e",
   "metadata": {},
   "outputs": [],
   "source": [
    "# Since both the p-values are significant (<0.5), both the distributions violate the assumption of normality. \n",
    "# Therefore, the Wilcoxon signed rank test, a.k.a the Wilcoxon T test, is the correct test to use to analyze this data.\n",
    "# Ref https://pythonfordatascienceorg.wordpress.com/wilcoxon-sign-ranked-test-python/"
   ]
  },
  {
   "cell_type": "code",
   "execution_count": null,
   "id": "0d605c80",
   "metadata": {},
   "outputs": [],
   "source": []
  },
  {
   "cell_type": "code",
   "execution_count": 14,
   "id": "f58da34c",
   "metadata": {},
   "outputs": [],
   "source": [
    "# Statistical significance test\n",
    "def statistical_significance_test(sequence_1, sequence_2):\n",
    "    \"\"\"\n",
    "    Perform statistical significance test (wilcoxon-sign-ranked-test) on the two sequences.\n",
    "    Print the results of the test.\n",
    "    \"\"\"\n",
    "    # Ref https://pythonfordatascienceorg.wordpress.com/wilcoxon-sign-ranked-test-python/\n",
    "    return stats.wilcoxon(sequence_1, sequence_2, zero_method='zsplit', correction=True)"
   ]
  },
  {
   "cell_type": "code",
   "execution_count": 15,
   "id": "72847b98",
   "metadata": {},
   "outputs": [
    {
     "data": {
      "text/plain": [
       "WilcoxonResult(statistic=17471.5, pvalue=0.0006899449235501807)"
      ]
     },
     "execution_count": 15,
     "metadata": {},
     "output_type": "execute_result"
    }
   ],
   "source": [
    "statistical_significance_test(exp_1_df[PROBABILITY_COL], exp_2_df[PROBABILITY_COL])"
   ]
  },
  {
   "cell_type": "markdown",
   "id": "acf2175f",
   "metadata": {},
   "source": [
    "## Interpretation of the results\n",
    "The results are statistically significant! We can reject the null hypothesis in support of the alternative.\n",
    "\n",
    "A **Wilcoxon T test** was used to analyze the prediction probabilities of *exp_1* and *exp_2* to test if the two models have predicted similarly or differently.\n",
    "\n",
    "The p-value is lower the significance level of 0.01, hence we have statistically significant evidences to reject the null hypothesis(that the two data are similar) and to accept that the two data are different.\n",
    "**Clearly, there is a statistically significant difference in the prediction probabilities between the two experiments. Hence, the observed differences in the model performance are not just by chance.**"
   ]
  },
  {
   "cell_type": "code",
   "execution_count": null,
   "id": "91c2ec80",
   "metadata": {},
   "outputs": [],
   "source": []
  }
 ],
 "metadata": {
  "kernelspec": {
   "display_name": "LAB_VENV",
   "language": "python",
   "name": "lab_venv"
  },
  "language_info": {
   "codemirror_mode": {
    "name": "ipython",
    "version": 3
   },
   "file_extension": ".py",
   "mimetype": "text/x-python",
   "name": "python",
   "nbconvert_exporter": "python",
   "pygments_lexer": "ipython3",
   "version": "3.8.10"
  }
 },
 "nbformat": 4,
 "nbformat_minor": 5
}
